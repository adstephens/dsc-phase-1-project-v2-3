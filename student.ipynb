{
 "cells": [
  {
   "cell_type": "markdown",
   "metadata": {},
   "source": [
    "## Microsoft Movie Pitch Submission\n",
    "\n",
    "* Student name: **Ashleigh Stephens**\n",
    "* Student pace: FLEX 60 Wk\n",
    "* Scheduled project review date/time: \n",
    "* Instructor name: Abhineet\n",
    "* Blog post URL: N/A\n"
   ]
  },
  {
   "cell_type": "markdown",
   "metadata": {},
   "source": [
    "In this project description, we will cover:\n",
    "\n",
    "* [***Project Overview:***](#project-overview) the project goal, audience, and dataset\n",
    "* [***Deliverables:***](#deliverables) the specific items you are required to produce for this project\n",
    "* [***Grading:***](#grading) how your project will be scored\n",
    "* [***Getting Started:***](#getting-started) guidance for how to begin your first project\n",
    "\n",
    "## Project Overview\n",
    "\n",
    "Using exploratory data analysis to generate insights for a Microsoft stakeholder.\n",
    "\n",
    "### Project Goal\n",
    "\n",
    "To get Microsoft in on all the creating original video content fun the other big companies are having, we're exploring what types of films are currently doing the best at the box office. To give greater insight into creating movies, we're translating findings into actionable insights that the head of Microsoft's new movie studio can use to help decide what type of films to create in a new movie studio.\n",
    "\n",
    "### Audience\n",
    "\n",
    "(https://www.motionpictures.org/wp-content/uploads/2022/03/MPA-2021-THEME-Report-FINAL.pdf)\n",
    "USE THIS, MAKE GRAPHS FROM DATA, \n",
    "\n",
    "(https://www.sawa.com/why-cinema/audience)\n",
    "Specifically, cinemagoers are typically younger than the population with generally half of the visits made by people in the key 14 to 34 demographic. Cinemagoing has increased against all age groups in the last few years, with the most dramatic growth seen amongst the over 25’s. Movie’s remakes made in the last 10 years have attracted an older age group and brought more people back to the movies. Approximately ¾ of a typical cinema audience are frequent cinemagoers, who go to the movies on average at least once every 4 weeks.\n",
    "\n",
    "Frequent moviegoers are a highly desirable audience for advertisers. They are usually young and affluent, with high disposable incomes. They are avid shoppers, into fashion and technology and lead busy and active lives making them difficult to target with other media.\n",
    "\n",
    "Cinema is an ideal medium to target the more affluent sectors of the population with good levels of disposable income. It can be safely said that the Cinema going Audience is one of the most sought after sectors of the population. Cinemagoers typically have good education levels, with cinema an ideal medium to target people in higher education.\n",
    "\n",
    "(https://variety.com/2018/film/news/latino-asian-moviegoers-mpaa-study-1202743713/)\n",
    "Caucasians, who represent 61% of the U.S. population, amounted to 54% of frequent moviegoers, while African-Americans represented 12% of the population and 10% of frequent moviegoers. Caucasians bought 55% of all tickets, followed by 23% for Latinos, 12% for African-Americans and 7% for Asians.\n"
   ]
  },
  {
   "cell_type": "markdown",
   "metadata": {},
   "source": [
    "### The Data\n",
    "\n",
    "In the folder `zippedData` are movie datasets from:\n",
    "\n",
    "* [Box Office Mojo](https://www.boxofficemojo.com/)\n",
    "* [IMDB](https://www.imdb.com/)\n",
    "* [Rotten Tomatoes](https://www.rottentomatoes.com/)\n",
    "* [TheMovieDB](https://www.themoviedb.org/)\n",
    "* [The Numbers](https://www.the-numbers.com/)\n",
    "\n",
    "It is up to you to decide what data from this to use and how to use it. If you want to make this more challenging, you can scrape websites or make API calls to get additional data. If you are feeling overwhelmed or behind (e.g. struggled with the Phase 1 Code Challenge), we recommend you use only the following data files:\n",
    "\n",
    "* imdb.title.basics\n",
    "* imdb.title.ratings\n",
    "* bom.movie_gross\n"
   ]
  },
  {
   "cell_type": "markdown",
   "metadata": {},
   "source": [
    "Focusing on genres, look at ROI\n",
    "Secondary; directors, writers, \n",
    "\n",
    "Productivity = Units of Input/Units of Output; \n",
    "    money in/money out per publisher\n",
    "Customer Satisfaction Score = (Total Survey Point Score / Total Questions) x 100;\n",
    "    ratings \n",
    "    \n",
    "Gross Profit Margin = (Total Profit-Total Costs)/100; \n",
    "    looking to the future in the pitch for genre\n",
    "ROI = (Net Benefits/Costs) x 100; \n",
    "    look at specific benefit of project"
   ]
  },
  {
   "cell_type": "markdown",
   "metadata": {},
   "source": [
    "# **Importing Data**\n",
    "\n"
   ]
  },
  {
   "cell_type": "markdown",
   "metadata": {},
   "source": [
    "The data we will work with is saved in the folder `zippedData` and we will import them. Fortunately Pandas support zip files, so we won't need combine and open the data, although we could. "
   ]
  },
  {
   "cell_type": "code",
   "execution_count": 2,
   "metadata": {},
   "outputs": [],
   "source": [
    "# **Importing Data**\n",
    "\n",
    "# Packages to preform data analysis of files\n",
    "import pandas as pd  # Alias pandas to be referred to as pd\n",
    "import numpy as np  # Alias numpy to be referred to as np\n",
    "import matplotlib.pyplot as plt  # Alias matplotlib.pyplot to be referred to as plt\n",
    "import seaborn as sns  # Alias seaborn to be referred to as sns\n",
    "from glob import glob # Could be used to import zipped files as one file\n",
    "import os # Could be used to view zipped files\n",
    "\n",
    "# Allows plot outputs\n",
    "%matplotlib inline \n",
    "\n",
    "import warnings\n",
    "warnings.filterwarnings('ignore')\n",
    "pd.set_option('display.max_rows', None) # For pandas \n",
    "import sys\n",
    "sys.setrecursionlimit(1500)"
   ]
  },
  {
   "cell_type": "markdown",
   "metadata": {},
   "source": [
    "### DataFrame and File Alias with Orgianzation Key\n",
    "\n",
    "The following datasets are utilized within the project:\n",
    "\n",
    "### Original file: imdb.title.principals.csv.gz\n",
    "    Loaded as TPrawddf | Finalized as: TPdf \n",
    "\n",
    "### Original file: rt.movie_info.tsv.gz\n",
    "    Loaded as MIrawddf | Finalized as: MIdf \n",
    "\n",
    "1. Information regarding the name of movies, release data, production budget, domestic gross, and worldwide gross.\n",
    "**Original file: tn.movie_budgets.csv.gz | Loaded as MBrawddf | Finalized as: MBdf** \n",
    "\n",
    "2. Information regarding the average rating of each movie.\n",
    "**Original file: imdb.title.ratings.csv.gz | Loaded as TRrawddf | Finalized as: TRdf**  \n",
    "\n",
    "3. Information regarding name of the movies, genres, release data, language of movies, etc.\n",
    "**Original file: tmdb.movies.csv.gz | Loaded as Mrawddf | Finalized as: Mdf** \n",
    "\n",
    "4. Information regarding the name of the movies, genre etc.\n",
    "**Original file: imdb.title.basics.csv.gz | Loaded as TBrawddf | Finalized as: TBdf** \n",
    "\n",
    "5. Information regarding associating the name of a movie with a unique id it has in other data frames.\n",
    "**Original file: imdb.title.akas.csv.gz | Loaded as TArawddf | Finalized as: TAdf**\n",
    "\n",
    "6. Information regarding associating a specific director, writer, etc.\n",
    "**Original file: imdb.name.basics.csv.gz | Loaded as NBrawddf | Finalized as: NBdf** \n",
    "\n",
    "7. Information regarding associating the name of the director and the write of a movie.\n",
    "**Original file: imdb.title.crew.csv.gz | Loaded as TCrawddf | Finalized as: TCdf**\n",
    "\n",
    "8. Information regarding the studio, name of the movie, domestic and foreign grosses and the production year.\n",
    "**Original file: bom.movie_gross.csv.gz | Loaded as MGrawdf | Finalized as: MGdf**"
   ]
  },
  {
   "cell_type": "markdown",
   "metadata": {},
   "source": [
    "## Load Files"
   ]
  },
  {
   "cell_type": "code",
   "execution_count": 3,
   "metadata": {},
   "outputs": [],
   "source": [
    "# ***loading zip files***\n",
    "\n",
    "# bom.movie_gross.csv.gz\n",
    "MGrawdf = pd.read_csv(\"/Users/as/Documents/Flatiron/Project_1/dsc-phase-1-project-v2-3/zippedData/bom.movie_gross.csv.gz\")\n",
    "# imdb.name.basics.csv.gz\n",
    "NBrawdf = pd.read_csv(\"/Users/as/Documents/Flatiron/Project_1/dsc-phase-1-project-v2-3/zippedData/imdb.name.basics.csv.gz\")\n",
    "# imdb.title.akas.csv.gz\n",
    "TArawdf = pd.read_csv(\"/Users/as/Documents/Flatiron/Project_1/dsc-phase-1-project-v2-3/zippedData/imdb.title.akas.csv.gz\")\n",
    "# imdb.title.basics.csv.gz\n",
    "TBrawdf = pd.read_csv(\"/Users/as/Documents/Flatiron/Project_1/dsc-phase-1-project-v2-3/zippedData/imdb.title.basics.csv.gz\")\n",
    "# imdb.title.crew.csv.gz\n",
    "TCrawdf = pd.read_csv(\"/Users/as/Documents/Flatiron/Project_1/dsc-phase-1-project-v2-3/zippedData/imdb.title.crew.csv.gz\")\n",
    "# imdb.title.principals.csv.gz\n",
    "TPrawdf = pd.read_csv(\"/Users/as/Documents/Flatiron/Project_1/dsc-phase-1-project-v2-3/zippedData/imdb.title.principals.csv.gz\")\n",
    "# imdb.title.ratings.csv.gz\n",
    "TRrawdf = pd.read_csv(\"/Users/as/Documents/Flatiron/Project_1/dsc-phase-1-project-v2-3/zippedData/imdb.title.ratings.csv.gz\")\n",
    "# rt.movie_info.tsv.gz\n",
    "MIrawdf = pd.read_table(\"/Users/as/Documents/Flatiron/Project_1/dsc-phase-1-project-v2-3/zippedData/rt.movie_info.tsv.gz\")\n",
    "# tmdb.movies.csv.gz\n",
    "Mrawdf = pd.read_csv(\"/Users/as/Documents/Flatiron/Project_1/dsc-phase-1-project-v2-3/zippedData/tmdb.movies.csv.gz\")\n",
    "# tn.movie_budgets.csv.gz\n",
    "MBrawdf = pd.read_csv(\"/Users/as/Documents/Flatiron/Project_1/dsc-phase-1-project-v2-3/zippedData/tn.movie_budgets.csv.gz\")"
   ]
  },
  {
   "cell_type": "markdown",
   "metadata": {},
   "source": [
    "## General Functions Utilized"
   ]
  },
  {
   "cell_type": "markdown",
   "metadata": {},
   "source": [
    "Due to several calculations applying to multiple dataframes (df), the following functions are defined:\n",
    "1. **NullPer**: This function returns the percentage of the `Null` value within a column.\n",
    "\n",
    "2. **FloatMon**: This function will return a float object from string or float data. If the input is string and it contains $, this character is removed and returned as a float object.  \n",
    "\n",
    "3. **StrSplit**: This function will take objects within a column in which data is stored in an undesired format, `a,b,c`, and return the list containing these object as `[a,b,c]` which will be used later to explode out the data. \n",
    "\n",
    "4. **BarPlot**: This function takes some quantities including the data and gives back the bar plot of the data."
   ]
  },
  {
   "cell_type": "markdown",
   "metadata": {},
   "source": [
    "### NullPer\n",
    "Because we are going to use the methods `.isna().sum()` several times, we use the following function to calculate the percentage of the null values of each column.\n",
    "\n",
    "### Spread: \n",
    "Show the 'Shape', 'Null Sum' and 'Null Percentage' per column within a dataframe."
   ]
  },
  {
   "cell_type": "code",
   "execution_count": 3,
   "metadata": {},
   "outputs": [],
   "source": [
    "def NullPer(column, df):\n",
    "    PercentNull = (df[column].isnull().sum()\n",
    "                   / len(df)) * 100\n",
    "    return print(f'Null Percentage',(column),(round(PercentNull, 2)))\n",
    "\n",
    "def spread(df):\n",
    "    PercentNull = (df.apply(lambda x: x.isna().sum()\n",
    "                   / len(df))) * 100 \n",
    "    return print(f'***Shape:***', df.shape,\n",
    "                 f'***Null Sum Per Column:***', df.isna().sum(),\n",
    "                 f'***Null Percentage within Columns:***',\n",
    "                 (round(PercentNull, 2)))"
   ]
  },
  {
   "cell_type": "markdown",
   "metadata": {},
   "source": [
    "### FloatMon\n",
    "Converting Columns that represent budgets or income from object to float. It should be only used for columns that are related to budget or earnings."
   ]
  },
  {
   "cell_type": "code",
   "execution_count": 27,
   "metadata": {},
   "outputs": [],
   "source": [
    "def FloatMon(column, df):\n",
    "    if (type([column]) == str) or (type([column]) == object):        \n",
    "        if (\"$\" in data):            \n",
    "            data = df[column].replace(\"$\", \"\").replace(\",\",\"\")\n",
    "            return float(FloatMon(column, df))\n",
    "        else:\n",
    "            return float(FloatMon(column, df))\n",
    "    else:\n",
    "        return float(FloatMon(column, df))"
   ]
  },
  {
   "cell_type": "markdown",
   "metadata": {},
   "source": [
    "### StrSplit\n",
    "Preparing columns for `.explode()`. "
   ]
  },
  {
   "cell_type": "code",
   "execution_count": 6,
   "metadata": {},
   "outputs": [],
   "source": [
    "def s(column, df):\n",
    "    s_df = df[column].str.split(\",\")\n",
    "    return s_df"
   ]
  },
  {
   "cell_type": "code",
   "execution_count": 7,
   "metadata": {},
   "outputs": [],
   "source": [
    "def e(column, df):\n",
    "    e_df  = s_df.explode(df[column])\n",
    "    se_df = e_df.explode(e_df[column])"
   ]
  },
  {
   "cell_type": "code",
   "execution_count": null,
   "metadata": {
    "scrolled": true
   },
   "outputs": [],
   "source": [
    "s(\"primary_profession\", NBrawdf)"
   ]
  },
  {
   "cell_type": "code",
   "execution_count": null,
   "metadata": {},
   "outputs": [],
   "source": [
    "e(\"primary_profession\", NBrawdf)"
   ]
  },
  {
   "cell_type": "code",
   "execution_count": null,
   "metadata": {},
   "outputs": [],
   "source": [
    "s_edf.head()"
   ]
  },
  {
   "cell_type": "code",
   "execution_count": null,
   "metadata": {},
   "outputs": [],
   "source": [
    "NBrawdf.head()"
   ]
  },
  {
   "cell_type": "markdown",
   "metadata": {},
   "source": [
    "### Explode\n"
   ]
  },
  {
   "cell_type": "code",
   "execution_count": 8,
   "metadata": {},
   "outputs": [],
   "source": [
    "def explode(column,df):\n",
    "    Edf = df.explode([column])\n",
    "    return Edf.head()"
   ]
  },
  {
   "cell_type": "code",
   "execution_count": null,
   "metadata": {},
   "outputs": [],
   "source": [
    "NBDdf[\"primary_profession\"] = NBrawdf[\"primary_profession\"].str.split(\",\")"
   ]
  },
  {
   "cell_type": "markdown",
   "metadata": {},
   "source": [
    "### BarPlot:"
   ]
  },
  {
   "cell_type": "markdown",
   "metadata": {},
   "source": [
    "Because we are going to plot several bar plots, we will define a function to reduce the work."
   ]
  },
  {
   "cell_type": "code",
   "execution_count": 9,
   "metadata": {},
   "outputs": [],
   "source": [
    "def bar_plot(data, x_val, y_val                  # values of x and y axes\n",
    "                 , x_label, y_label              # labes for x and y axes\n",
    "                 , x_rotation                    # angle of x ticks \n",
    "                 , y_rotation                    # angle of y ticks\n",
    "                 , title_I, title_II             # two strings for title\n",
    "                 , fnt                           # font size\n",
    "                 , figure_size):                 # figure size\n",
    "    \n",
    "    sns.set(rc={\"figure.figsize\":figure_size}, font = \"Times\") \n",
    "\n",
    "    \n",
    "\n",
    "    title = f\"\\n Top {title_I} with the Highest {title_II}\\n\"\n",
    "    sns.barplot(x = x_val, y = y_val, data = data, \n",
    "            color = \"tab:blue\").set_title(title,\n",
    "                                         fontdict = { 'fontsize': fnt})\n",
    "    plt.xticks(rotation = x_rotation, fontsize = fnt)\n",
    "    plt.yticks(rotation = y_rotation, fontsize = fnt)\n",
    "    plt.xlabel(f\"\\n {x_label}\", fontsize = fnt)\n",
    "    plt.ylabel(y_label, fontsize = fnt)\n",
    "    plt.show()"
   ]
  },
  {
   "cell_type": "markdown",
   "metadata": {},
   "source": [
    "## Spread: \n",
    "Show the 'Shape', 'Null Sum' and 'Null Percentage' per column within a dataframe."
   ]
  },
  {
   "cell_type": "code",
   "execution_count": null,
   "metadata": {},
   "outputs": [],
   "source": [
    "def spread(df):\n",
    "    PercentNull = (df.apply(lambda x: x.isnull().sum()\n",
    "                   / len(df))) * 100 \n",
    "    return print(f'***Shape:***', df.shape,\n",
    "                 f'***Null Sum Per Column:***', df.isnull().sum(),\n",
    "                 f'***Null Percentage within Columns:***',\n",
    "                 (round(PercentNull, 2)))\n"
   ]
  },
  {
   "cell_type": "code",
   "execution_count": null,
   "metadata": {},
   "outputs": [],
   "source": [
    "spread(NBrawdf)"
   ]
  },
  {
   "cell_type": "markdown",
   "metadata": {},
   "source": [
    "To see the size before I begin to merge data to make sure data isn't lost"
   ]
  },
  {
   "cell_type": "code",
   "execution_count": null,
   "metadata": {},
   "outputs": [],
   "source": [
    "## DELETE ##\n",
    "print(f'Movie Gross:', MGrawdf.shape)\n",
    "print(f'Name Basics:', NBrawdf.shape)\n",
    "print(f'Title AKAs:', TArawdf.shape)\n",
    "print(f'Title Basics:', TBrawdf.shape)\n",
    "print(f'Title Crew:', TCrawdf.shape)\n",
    "print(f'Title Principals:', TPrawdf.shape)\n",
    "print(f'Title Ratings:', TRrawdf.shape)\n",
    "print(f'Movie Info:',MIrawdf.shape)\n",
    "print(f'Movies:', Mrawdf.shape)\n",
    "print(f'Movie Budgets:', MBrawdf.shape)"
   ]
  },
  {
   "cell_type": "markdown",
   "metadata": {},
   "source": [
    "To see the size before I begin to merge data 'df.shape' is used. To see what columns exist and null data within 'df.isnull().sum()' is used. By dividing the missing data sum by size will give you the percentage of missing data. Significant missing data will be replaced or culled. "
   ]
  },
  {
   "cell_type": "code",
   "execution_count": null,
   "metadata": {},
   "outputs": [],
   "source": [
    "## DELETE ##\n",
    "print(f'Movie Gross:', \n",
    "      MGrawdf.shape,\n",
    "      MGrawdf.isnull().sum())\n",
    "print(f'Name Basics:', \n",
    "      NBrawdf.shape,\n",
    "      NBrawdf.isnull().sum())\n",
    "print(f'Title AKAs:', \n",
    "      TArawdf.shape,\n",
    "      TArawdf.isnull().sum())\n",
    "print(f'Title Basics:', \n",
    "      TBrawdf.shape,\n",
    "      TBrawdf.isnull().sum())\n",
    "print(f'Title Crew:', \n",
    "      TCrawdf.shape,\n",
    "      TCrawdf.isnull().sum())\n",
    "print(f'Title Principals:', \n",
    "      TPrawdf.shape,\n",
    "      TPrawdf.isnull().sum())\n",
    "print(f'Title Ratings:', \n",
    "      TRrawdf.shape,\n",
    "      TRrawdf.isnull().sum())\n",
    "print(f'Movie Info:', \n",
    "      MIrawdf.shape,\n",
    "      MIrawdf.isnull().sum())\n",
    "print(f'Movies:', \n",
    "      Mrawdf.shape,\n",
    "      Mrawdf.isnull().sum())\n",
    "print(f'Movie Budgets:', \n",
    "      MBrawdf.shape,\n",
    "      MBrawdf.isnull().sum())"
   ]
  },
  {
   "cell_type": "markdown",
   "metadata": {},
   "source": [
    "Now to look at the columns present in each table in anticipation of merges; replace or delete null values and delete unnecessary columns."
   ]
  },
  {
   "cell_type": "code",
   "execution_count": 10,
   "metadata": {
    "scrolled": true
   },
   "outputs": [
    {
     "name": "stdout",
     "output_type": "stream",
     "text": [
      "***Shape:*** (3387, 5) ***Null Sum Per Column:*** title                0\n",
      "studio               5\n",
      "domestic_gross      28\n",
      "foreign_gross     1350\n",
      "year                 0\n",
      "dtype: int64 ***Null Percentage within Columns:*** title              0.00\n",
      "studio             0.15\n",
      "domestic_gross     0.83\n",
      "foreign_gross     39.86\n",
      "year               0.00\n",
      "dtype: float64\n"
     ]
    }
   ],
   "source": [
    "# MGdf = bom.movie_gross.csv.gz\n",
    "# Look at Movie Gross first\n",
    "spread(MGrawdf)"
   ]
  },
  {
   "cell_type": "code",
   "execution_count": null,
   "metadata": {},
   "outputs": [],
   "source": [
    "# Find the percentage of missing values:\n",
    "# Sum of null values divided by total instances\n",
    "# multiply by 100 to get %\n",
    "\n",
    "# Formula to shorten time for other columns\n",
    "def NullPer(column, df):\n",
    "    PercentNull = (df[column].isnull().sum()\n",
    "                   / len(df)) * 100\n",
    "    return print(f'Null Percentage',(column),(round(PercentNull, 2)))"
   ]
  },
  {
   "cell_type": "code",
   "execution_count": null,
   "metadata": {},
   "outputs": [],
   "source": [
    "# Run test to see if values match from above\n",
    "NullPer('domestic_gross', MGrawdf)\n",
    "NullPer('foreign_gross', MGrawdf)"
   ]
  },
  {
   "cell_type": "markdown",
   "metadata": {},
   "source": [
    "Within Movie Gross, columns stuido and domestic_gross are under 1%, so removing the missing values are the best to clean the data and keep the remaining column data; df.dropna(subset=['column']). \n",
    "\n",
    "Unfortunately, foreign_gross has nearly 40% of missing values. Becuase we are unsure if the data is missing, or if the film never opened in foreign markets, we should remove the entire column. If we could pull the data from another table or website, then we may be able to assign $0 value to those movies that never made it to foreign markets and assign true missing and null values respectfully. Alas, we will delete the column due to data availability using df.drop('foreign_gross', 1)."
   ]
  },
  {
   "cell_type": "code",
   "execution_count": null,
   "metadata": {},
   "outputs": [],
   "source": [
    "# remove null values from dataframe\n",
    "MGdf = MGrawdf.dropna(subset=['studio', 'domestic_gross'])\n",
    "\n",
    "# check null values were dropped\n",
    "NullPer('studio', MGdf)\n",
    "NullPer('domestic_gross', MGdf)\n",
    "NullPer('foreign_gross', MGdf)\n",
    "\n",
    "# double check change in shape\n",
    "print(f'Movie Gross:', \n",
    "      MGdf.shape,\n",
    "      MGdf.isnull().sum())"
   ]
  },
  {
   "cell_type": "markdown",
   "metadata": {},
   "source": [
    "Due to missing data being removed from stuido and domestic_gross, altering the overall data shape, the percentage for foreign_gross changed slightly. \n",
    "\n",
    "Now to remove the foreign_gross column. "
   ]
  },
  {
   "cell_type": "code",
   "execution_count": null,
   "metadata": {
    "scrolled": true
   },
   "outputs": [],
   "source": [
    "# Remove foreign_gross column\n",
    "MGdf = MGdf.drop('foreign_gross', 1)\n",
    "\n",
    "# double check change in shape\n",
    "print(f'Movie Gross:',\n",
    "      MGdf.isnull().sum(),\n",
    "      MGdf.shape,)"
   ]
  },
  {
   "cell_type": "code",
   "execution_count": null,
   "metadata": {},
   "outputs": [],
   "source": [
    "# To check and see if any of the data is a duplicate\n",
    "MGdf.duplicated().values.any()"
   ]
  },
  {
   "cell_type": "code",
   "execution_count": null,
   "metadata": {
    "scrolled": true
   },
   "outputs": [],
   "source": [
    "MGdf.head()"
   ]
  },
  {
   "cell_type": "markdown",
   "metadata": {},
   "source": [
    "Movie Gross data looks great, so lets move on and see what other work needs to be done. "
   ]
  },
  {
   "cell_type": "code",
   "execution_count": null,
   "metadata": {
    "scrolled": true
   },
   "outputs": [],
   "source": [
    "# imdb.name.basics.csv.gz\n",
    "NBrawdf.head()"
   ]
  },
  {
   "cell_type": "markdown",
   "metadata": {},
   "source": [
    "Columns birth_year and death_year aren't needed for a merge and are irrevelant data; so we can delete them. \n",
    "\n",
    "The known_for_titles look to be tconst values, which are helpful in combining some of these tables. We will need to get the primary_profession values to assign to each primary_name and nconst value existing, then we can assign the known_for_titles to those rows as well; using df.explode()."
   ]
  },
  {
   "cell_type": "code",
   "execution_count": null,
   "metadata": {
    "scrolled": true
   },
   "outputs": [],
   "source": [
    "# Delete birth_year, death_year and assign new df\n",
    "NBDdf = NBrawdf.drop(columns=['birth_year', 'death_year'])\n",
    "NBDdf.head()"
   ]
  },
  {
   "cell_type": "code",
   "execution_count": null,
   "metadata": {},
   "outputs": [],
   "source": [
    "# To check each column for null values\n",
    "NullPer('nconst', NBDdf)\n",
    "NullPer('primary_name', NBDdf)\n",
    "NullPer('primary_profession', NBDdf)\n",
    "NullPer('known_for_titles', NBDdf)\n",
    "\n",
    "# To see overall shape\n",
    "print(NBDdf.shape)"
   ]
  },
  {
   "cell_type": "code",
   "execution_count": null,
   "metadata": {},
   "outputs": [],
   "source": [
    "# Removing the null values from columns\n",
    "NBDdf = NBDdf.dropna(subset=['primary_profession', 'known_for_titles'])"
   ]
  },
  {
   "cell_type": "code",
   "execution_count": null,
   "metadata": {},
   "outputs": [],
   "source": [
    "# To check the raw shape, before null \n",
    "# columns and values are removed\n",
    "print(f'Raw Name Basics:', \n",
    "      NBrawdf.shape,\n",
    "      NBrawdf.isnull().sum()),\n",
    "print(\"                                \") # Just for ease of reading outputs\n",
    "\n",
    "# To check each column for null values\n",
    "NullPer('nconst', NBDdf)\n",
    "NullPer('primary_name', NBDdf)\n",
    "NullPer('primary_profession', NBDdf)\n",
    "NullPer('known_for_titles', NBDdf)\n",
    "print(\"                                \") # Just for ease of reading outputs\n",
    "\n",
    "# Print to see what data has been lost\n",
    "print(f'Name Basics:', \n",
    "      NBDdf.shape,\n",
    "      NBDdf.isnull().sum())\n"
   ]
  },
  {
   "cell_type": "markdown",
   "metadata": {},
   "source": [
    "From the shape comparison of Raw Name Basics and Name Basics, you can see that birth_year and death_year has been successfully removed and I've lost 71,511 enteries. Farewell null data!"
   ]
  },
  {
   "cell_type": "code",
   "execution_count": null,
   "metadata": {},
   "outputs": [],
   "source": [
    "NBDdf.head()"
   ]
  },
  {
   "cell_type": "markdown",
   "metadata": {},
   "source": [
    "Data within primary_profession and known_for_titles has multiple enteries per entry within nconst and primary_name. To access the data and combine it with other tables, the data needs to be separately assinged, using str.split() and .explode()."
   ]
  },
  {
   "cell_type": "code",
   "execution_count": null,
   "metadata": {
    "scrolled": true
   },
   "outputs": [],
   "source": [
    "# Seperating the strings within columns by \",\" and replacing\n",
    "# the columns within the same df.\n",
    "NBDdf[\"primary_profession\"] = NBDdf[\"primary_profession\"].str.split(\",\")\n",
    "NBDdf[\"known_for_titles\"] = NBDdf[\"known_for_titles\"].str.split(\",\")\n",
    "NBDdf.head()"
   ]
  },
  {
   "cell_type": "code",
   "execution_count": null,
   "metadata": {},
   "outputs": [],
   "source": [
    "# Assigning a new df to explode the first column\n",
    "NBDEdf = NBDdf.explode(\"primary_profession\")"
   ]
  },
  {
   "cell_type": "code",
   "execution_count": null,
   "metadata": {
    "scrolled": true
   },
   "outputs": [],
   "source": [
    "# Create a new df to assign the secondary column \n",
    "# to previous exploded data to ensure that all\n",
    "# names have professions, and each profession has \n",
    "# a tconst\n",
    "NBdf = NBDEdf.explode(\"known_for_titles\")\n",
    "NBdf.head()"
   ]
  },
  {
   "cell_type": "markdown",
   "metadata": {},
   "source": [
    "We should rename known_for_titles to tconst, since we will use this data later to combine tables, and why wait! Using df.rename({'undesired_column_name': 'desired_column_name'}, axis='columns', inplace = True)."
   ]
  },
  {
   "cell_type": "code",
   "execution_count": null,
   "metadata": {},
   "outputs": [],
   "source": [
    "NBdf.rename({'known_for_titles': 'tconst'}, axis='columns', inplace = True)\n",
    "NBdf.head()"
   ]
  },
  {
   "cell_type": "code",
   "execution_count": null,
   "metadata": {
    "scrolled": true
   },
   "outputs": [],
   "source": [
    "# Double check all null are absent\n",
    "NullPer('nconst', NBdf)\n",
    "NullPer('primary_name', NBdf)\n",
    "NullPer('primary_profession', NBdf)\n",
    "NullPer('tconst', NBdf)"
   ]
  },
  {
   "cell_type": "code",
   "execution_count": null,
   "metadata": {
    "scrolled": true
   },
   "outputs": [],
   "source": [
    "# Just for ease of reading outputs\n",
    "# List of \"values\" within primary_profession column\n",
    "NBdf.primary_profession.value_counts()\n",
    "\n",
    "# If you'd like to see percentage instead, you could use\n",
    "# NBdf.primary_profession.value_counts(normalize = True)"
   ]
  },
  {
   "cell_type": "markdown",
   "metadata": {},
   "source": [
    "Data from Name Basics has been cleaned, althought we will mostly likely locate only desired professions in future extrapolations. "
   ]
  },
  {
   "cell_type": "code",
   "execution_count": null,
   "metadata": {},
   "outputs": [],
   "source": [
    "# nconst will connect to TPdf to pair with each primary_name"
   ]
  },
  {
   "cell_type": "code",
   "execution_count": null,
   "metadata": {},
   "outputs": [],
   "source": [
    "# imdb.title.akas.csv.gz\n",
    "TAdf\n",
    "# I don't think I need this\n",
    "# Delete region, language, types, attributes, is_original_title"
   ]
  },
  {
   "cell_type": "code",
   "execution_count": null,
   "metadata": {},
   "outputs": [],
   "source": [
    "# imdb.title.basics.csv.gz\n",
    "TBdf"
   ]
  },
  {
   "cell_type": "code",
   "execution_count": 4,
   "metadata": {
    "scrolled": true
   },
   "outputs": [
    {
     "data": {
      "text/html": [
       "<div>\n",
       "<style scoped>\n",
       "    .dataframe tbody tr th:only-of-type {\n",
       "        vertical-align: middle;\n",
       "    }\n",
       "\n",
       "    .dataframe tbody tr th {\n",
       "        vertical-align: top;\n",
       "    }\n",
       "\n",
       "    .dataframe thead th {\n",
       "        text-align: right;\n",
       "    }\n",
       "</style>\n",
       "<table border=\"1\" class=\"dataframe\">\n",
       "  <thead>\n",
       "    <tr style=\"text-align: right;\">\n",
       "      <th></th>\n",
       "      <th>tconst</th>\n",
       "      <th>directors</th>\n",
       "      <th>writers</th>\n",
       "    </tr>\n",
       "  </thead>\n",
       "  <tbody>\n",
       "    <tr>\n",
       "      <th>0</th>\n",
       "      <td>tt0285252</td>\n",
       "      <td>nm0899854</td>\n",
       "      <td>nm0899854</td>\n",
       "    </tr>\n",
       "    <tr>\n",
       "      <th>1</th>\n",
       "      <td>tt0438973</td>\n",
       "      <td>NaN</td>\n",
       "      <td>nm0175726,nm1802864</td>\n",
       "    </tr>\n",
       "    <tr>\n",
       "      <th>2</th>\n",
       "      <td>tt0462036</td>\n",
       "      <td>nm1940585</td>\n",
       "      <td>nm1940585</td>\n",
       "    </tr>\n",
       "    <tr>\n",
       "      <th>3</th>\n",
       "      <td>tt0835418</td>\n",
       "      <td>nm0151540</td>\n",
       "      <td>nm0310087,nm0841532</td>\n",
       "    </tr>\n",
       "    <tr>\n",
       "      <th>4</th>\n",
       "      <td>tt0878654</td>\n",
       "      <td>nm0089502,nm2291498,nm2292011</td>\n",
       "      <td>nm0284943</td>\n",
       "    </tr>\n",
       "  </tbody>\n",
       "</table>\n",
       "</div>"
      ],
      "text/plain": [
       "      tconst                      directors              writers\n",
       "0  tt0285252                      nm0899854            nm0899854\n",
       "1  tt0438973                            NaN  nm0175726,nm1802864\n",
       "2  tt0462036                      nm1940585            nm1940585\n",
       "3  tt0835418                      nm0151540  nm0310087,nm0841532\n",
       "4  tt0878654  nm0089502,nm2291498,nm2292011            nm0284943"
      ]
     },
     "execution_count": 4,
     "metadata": {},
     "output_type": "execute_result"
    }
   ],
   "source": [
    "# imdb.title.crew.csv.gz\n",
    "TCrawdf.head()"
   ]
  },
  {
   "cell_type": "code",
   "execution_count": 5,
   "metadata": {},
   "outputs": [
    {
     "data": {
      "text/html": [
       "<div>\n",
       "<style scoped>\n",
       "    .dataframe tbody tr th:only-of-type {\n",
       "        vertical-align: middle;\n",
       "    }\n",
       "\n",
       "    .dataframe tbody tr th {\n",
       "        vertical-align: top;\n",
       "    }\n",
       "\n",
       "    .dataframe thead th {\n",
       "        text-align: right;\n",
       "    }\n",
       "</style>\n",
       "<table border=\"1\" class=\"dataframe\">\n",
       "  <thead>\n",
       "    <tr style=\"text-align: right;\">\n",
       "      <th></th>\n",
       "      <th>tconst</th>\n",
       "      <th>directors</th>\n",
       "      <th>writers</th>\n",
       "      <th>profession</th>\n",
       "    </tr>\n",
       "  </thead>\n",
       "  <tbody>\n",
       "    <tr>\n",
       "      <th>0</th>\n",
       "      <td>tt0285252</td>\n",
       "      <td>nm0899854</td>\n",
       "      <td>nm0899854</td>\n",
       "      <td>nm0899854,nm0899854</td>\n",
       "    </tr>\n",
       "    <tr>\n",
       "      <th>1</th>\n",
       "      <td>tt0438973</td>\n",
       "      <td>NaN</td>\n",
       "      <td>nm0175726,nm1802864</td>\n",
       "      <td>nan,nm0175726,nm1802864</td>\n",
       "    </tr>\n",
       "    <tr>\n",
       "      <th>2</th>\n",
       "      <td>tt0462036</td>\n",
       "      <td>nm1940585</td>\n",
       "      <td>nm1940585</td>\n",
       "      <td>nm1940585,nm1940585</td>\n",
       "    </tr>\n",
       "    <tr>\n",
       "      <th>3</th>\n",
       "      <td>tt0835418</td>\n",
       "      <td>nm0151540</td>\n",
       "      <td>nm0310087,nm0841532</td>\n",
       "      <td>nm0151540,nm0310087,nm0841532</td>\n",
       "    </tr>\n",
       "    <tr>\n",
       "      <th>4</th>\n",
       "      <td>tt0878654</td>\n",
       "      <td>nm0089502,nm2291498,nm2292011</td>\n",
       "      <td>nm0284943</td>\n",
       "      <td>nm0089502,nm2291498,nm2292011,nm0284943</td>\n",
       "    </tr>\n",
       "  </tbody>\n",
       "</table>\n",
       "</div>"
      ],
      "text/plain": [
       "      tconst                      directors              writers  \\\n",
       "0  tt0285252                      nm0899854            nm0899854   \n",
       "1  tt0438973                            NaN  nm0175726,nm1802864   \n",
       "2  tt0462036                      nm1940585            nm1940585   \n",
       "3  tt0835418                      nm0151540  nm0310087,nm0841532   \n",
       "4  tt0878654  nm0089502,nm2291498,nm2292011            nm0284943   \n",
       "\n",
       "                                profession  \n",
       "0                      nm0899854,nm0899854  \n",
       "1                  nan,nm0175726,nm1802864  \n",
       "2                      nm1940585,nm1940585  \n",
       "3            nm0151540,nm0310087,nm0841532  \n",
       "4  nm0089502,nm2291498,nm2292011,nm0284943  "
      ]
     },
     "execution_count": 5,
     "metadata": {},
     "output_type": "execute_result"
    }
   ],
   "source": [
    "TCrawdf[\"profession\"] = TCrawdf[\"directors\"].astype(str) +\",\"+ TCrawdf[\"writers\"]\n",
    "TCrawdf.head()"
   ]
  },
  {
   "cell_type": "code",
   "execution_count": 6,
   "metadata": {},
   "outputs": [
    {
     "data": {
      "text/html": [
       "<div>\n",
       "<style scoped>\n",
       "    .dataframe tbody tr th:only-of-type {\n",
       "        vertical-align: middle;\n",
       "    }\n",
       "\n",
       "    .dataframe tbody tr th {\n",
       "        vertical-align: top;\n",
       "    }\n",
       "\n",
       "    .dataframe thead th {\n",
       "        text-align: right;\n",
       "    }\n",
       "</style>\n",
       "<table border=\"1\" class=\"dataframe\">\n",
       "  <thead>\n",
       "    <tr style=\"text-align: right;\">\n",
       "      <th></th>\n",
       "      <th>tconst</th>\n",
       "      <th>profession</th>\n",
       "    </tr>\n",
       "  </thead>\n",
       "  <tbody>\n",
       "    <tr>\n",
       "      <th>0</th>\n",
       "      <td>tt0285252</td>\n",
       "      <td>nm0899854</td>\n",
       "    </tr>\n",
       "    <tr>\n",
       "      <th>0</th>\n",
       "      <td>tt0285252</td>\n",
       "      <td>nm0899854</td>\n",
       "    </tr>\n",
       "    <tr>\n",
       "      <th>1</th>\n",
       "      <td>tt0438973</td>\n",
       "      <td>nan</td>\n",
       "    </tr>\n",
       "    <tr>\n",
       "      <th>1</th>\n",
       "      <td>tt0438973</td>\n",
       "      <td>nm0175726</td>\n",
       "    </tr>\n",
       "    <tr>\n",
       "      <th>1</th>\n",
       "      <td>tt0438973</td>\n",
       "      <td>nm1802864</td>\n",
       "    </tr>\n",
       "  </tbody>\n",
       "</table>\n",
       "</div>"
      ],
      "text/plain": [
       "      tconst profession\n",
       "0  tt0285252  nm0899854\n",
       "0  tt0285252  nm0899854\n",
       "1  tt0438973        nan\n",
       "1  tt0438973  nm0175726\n",
       "1  tt0438973  nm1802864"
      ]
     },
     "execution_count": 6,
     "metadata": {},
     "output_type": "execute_result"
    }
   ],
   "source": [
    "# Remove directors and writers\n",
    "TCrawdf = TCrawdf.drop(columns=['directors', 'writers'])\n",
    "\n",
    "# To remove \",\" and split data\n",
    "TCrawdf[\"profession\"] = TCrawdf[\"profession\"].str.split(\",\")\n",
    "\n",
    "# To explode data from columns and apply to tconst\n",
    "TCrawEdf = TCrawdf.explode(\"profession\")\n",
    "\n",
    "TCrawEdf.head()"
   ]
  },
  {
   "cell_type": "markdown",
   "metadata": {},
   "source": [
    "# Not right! FUCK TCdf\n",
    "IDK how to assign duplicates of writer and director \"writer,director\", then assign unique writer/director values titles, "
   ]
  },
  {
   "cell_type": "markdown",
   "metadata": {},
   "source": [
    "Let's explode directors into new df, and remove null, then writers into new df, removing null, then \n",
    "\n",
    "director and writers are nconst vlaues, and need to be assigned accordinginly to each. So, make new df for each, remove other column, explode, remove null, make new column and assing director or writer respectfully, nconst is new index?"
   ]
  },
  {
   "cell_type": "code",
   "execution_count": null,
   "metadata": {
    "scrolled": true
   },
   "outputs": [],
   "source": [
    "TCrawDdf = TCrawdf[[\"tconst\", \"directors\"]]\n",
    "TCrawDdf.head()"
   ]
  },
  {
   "cell_type": "code",
   "execution_count": null,
   "metadata": {
    "scrolled": true
   },
   "outputs": [],
   "source": [
    "TCrawWdf = TCrawdf[[\"tconst\", \"writers\"]]\n",
    "TCrawWdf.head()"
   ]
  },
  {
   "cell_type": "code",
   "execution_count": null,
   "metadata": {},
   "outputs": [],
   "source": [
    "# To remove \",\" and split data\n",
    "TCrawDdf[\"directors\"] = TCrawDdf[\"directors\"].str.split(\",\")\n",
    "TCrawWdf[\"writers\"] = TCrawWdf[\"writers\"].str.split(\",\")\n",
    "\n",
    "# To explode data from columns and apply to tconst\n",
    "TCrawDEdf = TCrawDdf.explode(\"directors\")\n",
    "TCrawWEdf = TCrawWdf.explode(\"writers\")\n",
    "\n",
    "# To see the shape and null values\n",
    "print(f\"writers\", TCrawWEdf.shape,\n",
    "      TCrawWEdf.isnull().sum())\n",
    "print(f\"directors\", TCrawDEdf.shape,\n",
    "    TCrawDEdf.isnull().sum())\n",
    "\n",
    "# Null Percentage\n",
    "NullPer('writers', TCrawWEdf)\n",
    "NullPer('directors', TCrawDEdf)\n",
    "\n"
   ]
  },
  {
   "cell_type": "code",
   "execution_count": null,
   "metadata": {},
   "outputs": [],
   "source": [
    "TCrawWEdf['profession'] = 'writer' # You'll get a column of all 5s"
   ]
  },
  {
   "cell_type": "code",
   "execution_count": null,
   "metadata": {
    "scrolled": true
   },
   "outputs": [],
   "source": [
    "# To assign a profession column to each df\n",
    "# I need to create new column, all saying writer, then rename columer writers as nconst\n",
    "TCrawWEdf['profession'] = 'writer'\n",
    "TCrawDEdf['profession'] = 'director'\n",
    "\n"
   ]
  },
  {
   "cell_type": "code",
   "execution_count": null,
   "metadata": {},
   "outputs": [],
   "source": [
    "# rename proper column 'nconst'\n",
    "TCrawWEdf.rename({'writers': 'nconst'}, axis='columns', inplace = True)\n",
    "TCrawDEdf.rename({'directors': 'nconst'}, axis='columns', inplace = True)\n",
    "TCrawWEdf.head()"
   ]
  },
  {
   "cell_type": "code",
   "execution_count": null,
   "metadata": {},
   "outputs": [],
   "source": [
    "print(f\"directors\", TCrawDEdf.shape,\n",
    "      TCrawDEdf.isnull().sum())\n",
    "print(f\"writers\", TCrawWEdf.shape,\n",
    "    TCrawWEdf.isnull().sum())\n",
    "\n",
    "NullPer('nconst', TCrawWEdf)\n",
    "NullPer('nconst', TCrawDEdf)"
   ]
  },
  {
   "cell_type": "markdown",
   "metadata": {},
   "source": [
    "We can see that 'tconst' and 'profession' in both df do not contain null values. We could delete data now, but we should combine the tables, then delete null values or columns based on overall table size. Otherwise, we are cleaning the data, and altering the shape, which could affect the overall shape size and null value percantage. "
   ]
  },
  {
   "cell_type": "code",
   "execution_count": null,
   "metadata": {},
   "outputs": [],
   "source": [
    "TCdf = TCrawWEdf.merge(TCrawDEdf, how='left', on=('nconst', 'tconst'))\n",
    "print(TCdf.head())\n",
    "print(\"Shape:\", TCdf.shape)"
   ]
  },
  {
   "cell_type": "code",
   "execution_count": null,
   "metadata": {},
   "outputs": [],
   "source": [
    "# Drop null values from 'nconst' in both df\n",
    "TCrawWEdf=TCrawWEdf.dropna(subset=['nconst'])\n",
    "TCrawDEdf=TCrawDEdf.dropna(subset=['nconst'])\n",
    "NullPer('nconst', TCrawWEdf)\n",
    "NullPer('nconst', TCrawDEdf)"
   ]
  },
  {
   "cell_type": "markdown",
   "metadata": {},
   "source": [
    "### TP"
   ]
  },
  {
   "cell_type": "code",
   "execution_count": null,
   "metadata": {},
   "outputs": [],
   "source": [
    "# imdb.title.principals.csv.gz\n",
    "TPrawdf.head()"
   ]
  },
  {
   "cell_type": "code",
   "execution_count": null,
   "metadata": {
    "scrolled": true
   },
   "outputs": [],
   "source": [
    "# To check shape and null values\n",
    "print(f'Title Principals:', \n",
    "      TPrawdf.shape,\n",
    "      TPrawdf.isnull().sum())\n",
    "\n",
    "# check null values \n",
    "NullPer('job', TPrawdf)\n",
    "NullPer('characters', TPrawdf)"
   ]
  },
  {
   "cell_type": "markdown",
   "metadata": {},
   "source": [
    "Job and Characters columns need to be deleted, each with null percentages about 50%, and we don't need ordering."
   ]
  },
  {
   "cell_type": "code",
   "execution_count": null,
   "metadata": {
    "scrolled": true
   },
   "outputs": [],
   "source": [
    "# Remove null and undesired columns\n",
    "TPdf = TPrawdf.drop(columns=['job', 'characters','ordering'])\n",
    "TPdf.head()"
   ]
  },
  {
   "cell_type": "markdown",
   "metadata": {},
   "source": [
    "Lets change category to 'primary_profession' so that it matches other df!"
   ]
  },
  {
   "cell_type": "code",
   "execution_count": null,
   "metadata": {},
   "outputs": [],
   "source": [
    "TPdf.rename({'category': 'primary_profession'}, axis='columns', inplace = True)\n",
    "TPdf.head()"
   ]
  },
  {
   "cell_type": "markdown",
   "metadata": {},
   "source": [
    "TPdf is now clean! "
   ]
  },
  {
   "cell_type": "code",
   "execution_count": null,
   "metadata": {},
   "outputs": [],
   "source": [
    "# remove null values from dataframe\n",
    "MGdf = MGrawdf.dropna(subset=['studio', 'domestic_gross'])\n",
    "\n",
    "# check null values were dropped\n",
    "NullPer('studio', MGdf)\n",
    "NullPer('domestic_gross', MGdf)\n",
    "NullPer('foreign_gross', MGdf)\n",
    "\n",
    "# double check change in shape\n",
    "print(f'Movie Gross:', \n",
    "      MGdf.shape,\n",
    "      MGdf.isnull().sum())"
   ]
  },
  {
   "cell_type": "code",
   "execution_count": null,
   "metadata": {},
   "outputs": [],
   "source": [
    "# imdb.title.ratings.csv.gz\n",
    "TRdf"
   ]
  },
  {
   "cell_type": "code",
   "execution_count": null,
   "metadata": {},
   "outputs": [],
   "source": [
    "# rt.movie_info.tsv.gz\n",
    "MIdf.keys()"
   ]
  },
  {
   "cell_type": "code",
   "execution_count": null,
   "metadata": {},
   "outputs": [],
   "source": [
    "# tmdb.movies.csv.gz\n",
    "Mdf\n",
    "# rm Unnamed, original_language, original_title (most likely), vote_average, vote_count"
   ]
  },
  {
   "cell_type": "markdown",
   "metadata": {},
   "source": [
    "### MB"
   ]
  },
  {
   "cell_type": "code",
   "execution_count": 11,
   "metadata": {},
   "outputs": [
    {
     "data": {
      "text/html": [
       "<div>\n",
       "<style scoped>\n",
       "    .dataframe tbody tr th:only-of-type {\n",
       "        vertical-align: middle;\n",
       "    }\n",
       "\n",
       "    .dataframe tbody tr th {\n",
       "        vertical-align: top;\n",
       "    }\n",
       "\n",
       "    .dataframe thead th {\n",
       "        text-align: right;\n",
       "    }\n",
       "</style>\n",
       "<table border=\"1\" class=\"dataframe\">\n",
       "  <thead>\n",
       "    <tr style=\"text-align: right;\">\n",
       "      <th></th>\n",
       "      <th>id</th>\n",
       "      <th>release_date</th>\n",
       "      <th>movie</th>\n",
       "      <th>production_budget</th>\n",
       "      <th>domestic_gross</th>\n",
       "      <th>worldwide_gross</th>\n",
       "    </tr>\n",
       "  </thead>\n",
       "  <tbody>\n",
       "    <tr>\n",
       "      <th>0</th>\n",
       "      <td>1</td>\n",
       "      <td>Dec 18, 2009</td>\n",
       "      <td>Avatar</td>\n",
       "      <td>$425,000,000</td>\n",
       "      <td>$760,507,625</td>\n",
       "      <td>$2,776,345,279</td>\n",
       "    </tr>\n",
       "    <tr>\n",
       "      <th>1</th>\n",
       "      <td>2</td>\n",
       "      <td>May 20, 2011</td>\n",
       "      <td>Pirates of the Caribbean: On Stranger Tides</td>\n",
       "      <td>$410,600,000</td>\n",
       "      <td>$241,063,875</td>\n",
       "      <td>$1,045,663,875</td>\n",
       "    </tr>\n",
       "    <tr>\n",
       "      <th>2</th>\n",
       "      <td>3</td>\n",
       "      <td>Jun 7, 2019</td>\n",
       "      <td>Dark Phoenix</td>\n",
       "      <td>$350,000,000</td>\n",
       "      <td>$42,762,350</td>\n",
       "      <td>$149,762,350</td>\n",
       "    </tr>\n",
       "    <tr>\n",
       "      <th>3</th>\n",
       "      <td>4</td>\n",
       "      <td>May 1, 2015</td>\n",
       "      <td>Avengers: Age of Ultron</td>\n",
       "      <td>$330,600,000</td>\n",
       "      <td>$459,005,868</td>\n",
       "      <td>$1,403,013,963</td>\n",
       "    </tr>\n",
       "    <tr>\n",
       "      <th>4</th>\n",
       "      <td>5</td>\n",
       "      <td>Dec 15, 2017</td>\n",
       "      <td>Star Wars Ep. VIII: The Last Jedi</td>\n",
       "      <td>$317,000,000</td>\n",
       "      <td>$620,181,382</td>\n",
       "      <td>$1,316,721,747</td>\n",
       "    </tr>\n",
       "  </tbody>\n",
       "</table>\n",
       "</div>"
      ],
      "text/plain": [
       "   id  release_date                                        movie  \\\n",
       "0   1  Dec 18, 2009                                       Avatar   \n",
       "1   2  May 20, 2011  Pirates of the Caribbean: On Stranger Tides   \n",
       "2   3   Jun 7, 2019                                 Dark Phoenix   \n",
       "3   4   May 1, 2015                      Avengers: Age of Ultron   \n",
       "4   5  Dec 15, 2017            Star Wars Ep. VIII: The Last Jedi   \n",
       "\n",
       "  production_budget domestic_gross worldwide_gross  \n",
       "0      $425,000,000   $760,507,625  $2,776,345,279  \n",
       "1      $410,600,000   $241,063,875  $1,045,663,875  \n",
       "2      $350,000,000    $42,762,350    $149,762,350  \n",
       "3      $330,600,000   $459,005,868  $1,403,013,963  \n",
       "4      $317,000,000   $620,181,382  $1,316,721,747  "
      ]
     },
     "execution_count": 11,
     "metadata": {},
     "output_type": "execute_result"
    }
   ],
   "source": [
    "# tn.movie_budgets.csv.gz\n",
    "MBrawdf.head()"
   ]
  },
  {
   "cell_type": "code",
   "execution_count": 12,
   "metadata": {
    "scrolled": true
   },
   "outputs": [
    {
     "name": "stdout",
     "output_type": "stream",
     "text": [
      "***Shape:*** (5782, 6) ***Null Sum Per Column:*** id                   0\n",
      "release_date         0\n",
      "movie                0\n",
      "production_budget    0\n",
      "domestic_gross       0\n",
      "worldwide_gross      0\n",
      "dtype: int64 ***Null Percentage within Columns:*** id                   0.0\n",
      "release_date         0.0\n",
      "movie                0.0\n",
      "production_budget    0.0\n",
      "domestic_gross       0.0\n",
      "worldwide_gross      0.0\n",
      "dtype: float64\n",
      "None\n"
     ]
    }
   ],
   "source": [
    "print(spread(MBrawdf))"
   ]
  },
  {
   "cell_type": "markdown",
   "metadata": {},
   "source": [
    "By using the function 'spread', we can see that this data frame does not contain any missing data as shown above."
   ]
  },
  {
   "cell_type": "code",
   "execution_count": 13,
   "metadata": {},
   "outputs": [
    {
     "data": {
      "text/html": [
       "<div>\n",
       "<style scoped>\n",
       "    .dataframe tbody tr th:only-of-type {\n",
       "        vertical-align: middle;\n",
       "    }\n",
       "\n",
       "    .dataframe tbody tr th {\n",
       "        vertical-align: top;\n",
       "    }\n",
       "\n",
       "    .dataframe thead th {\n",
       "        text-align: right;\n",
       "    }\n",
       "</style>\n",
       "<table border=\"1\" class=\"dataframe\">\n",
       "  <thead>\n",
       "    <tr style=\"text-align: right;\">\n",
       "      <th></th>\n",
       "      <th>release_date</th>\n",
       "      <th>movie_title</th>\n",
       "      <th>production_budget</th>\n",
       "      <th>domestic_gross</th>\n",
       "      <th>worldwide_gross</th>\n",
       "    </tr>\n",
       "  </thead>\n",
       "  <tbody>\n",
       "    <tr>\n",
       "      <th>0</th>\n",
       "      <td>Dec 18, 2009</td>\n",
       "      <td>Avatar</td>\n",
       "      <td>$425,000,000</td>\n",
       "      <td>$760,507,625</td>\n",
       "      <td>$2,776,345,279</td>\n",
       "    </tr>\n",
       "    <tr>\n",
       "      <th>1</th>\n",
       "      <td>May 20, 2011</td>\n",
       "      <td>Pirates of the Caribbean: On Stranger Tides</td>\n",
       "      <td>$410,600,000</td>\n",
       "      <td>$241,063,875</td>\n",
       "      <td>$1,045,663,875</td>\n",
       "    </tr>\n",
       "    <tr>\n",
       "      <th>2</th>\n",
       "      <td>Jun 7, 2019</td>\n",
       "      <td>Dark Phoenix</td>\n",
       "      <td>$350,000,000</td>\n",
       "      <td>$42,762,350</td>\n",
       "      <td>$149,762,350</td>\n",
       "    </tr>\n",
       "    <tr>\n",
       "      <th>3</th>\n",
       "      <td>May 1, 2015</td>\n",
       "      <td>Avengers: Age of Ultron</td>\n",
       "      <td>$330,600,000</td>\n",
       "      <td>$459,005,868</td>\n",
       "      <td>$1,403,013,963</td>\n",
       "    </tr>\n",
       "    <tr>\n",
       "      <th>4</th>\n",
       "      <td>Dec 15, 2017</td>\n",
       "      <td>Star Wars Ep. VIII: The Last Jedi</td>\n",
       "      <td>$317,000,000</td>\n",
       "      <td>$620,181,382</td>\n",
       "      <td>$1,316,721,747</td>\n",
       "    </tr>\n",
       "  </tbody>\n",
       "</table>\n",
       "</div>"
      ],
      "text/plain": [
       "   release_date                                  movie_title  \\\n",
       "0  Dec 18, 2009                                       Avatar   \n",
       "1  May 20, 2011  Pirates of the Caribbean: On Stranger Tides   \n",
       "2   Jun 7, 2019                                 Dark Phoenix   \n",
       "3   May 1, 2015                      Avengers: Age of Ultron   \n",
       "4  Dec 15, 2017            Star Wars Ep. VIII: The Last Jedi   \n",
       "\n",
       "  production_budget domestic_gross worldwide_gross  \n",
       "0      $425,000,000   $760,507,625  $2,776,345,279  \n",
       "1      $410,600,000   $241,063,875  $1,045,663,875  \n",
       "2      $350,000,000    $42,762,350    $149,762,350  \n",
       "3      $330,600,000   $459,005,868  $1,403,013,963  \n",
       "4      $317,000,000   $620,181,382  $1,316,721,747  "
      ]
     },
     "execution_count": 13,
     "metadata": {},
     "output_type": "execute_result"
    }
   ],
   "source": [
    "# Rename columns\n",
    "MBrawdf.rename({'movie': 'movie_title'}, axis='columns', inplace = True)\n",
    "\n",
    "# Remove id\n",
    "MBrawdf = MBrawdf.drop('id', 1)\n",
    "MBrawdf.head()"
   ]
  },
  {
   "cell_type": "markdown",
   "metadata": {},
   "source": [
    "Lets change the `worldwide_gross`, `domestic_gross` and `production_budget` columns to floating numbers for calculations. "
   ]
  },
  {
   "cell_type": "code",
   "execution_count": 17,
   "metadata": {},
   "outputs": [
    {
     "ename": "TypeError",
     "evalue": "cannot convert the series to <class 'float'>",
     "output_type": "error",
     "traceback": [
      "\u001b[0;31m---------------------------------------------------------------------------\u001b[0m",
      "\u001b[0;31mTypeError\u001b[0m                                 Traceback (most recent call last)",
      "\u001b[0;32m<ipython-input-17-2e86beea7966>\u001b[0m in \u001b[0;36m<module>\u001b[0;34m\u001b[0m\n\u001b[0;32m----> 1\u001b[0;31m \u001b[0mFloatMon\u001b[0m\u001b[0;34m(\u001b[0m\u001b[0;34m'production_budget'\u001b[0m\u001b[0;34m,\u001b[0m \u001b[0mMBrawdf\u001b[0m\u001b[0;34m)\u001b[0m\u001b[0;34m\u001b[0m\u001b[0;34m\u001b[0m\u001b[0m\n\u001b[0m",
      "\u001b[0;32m<ipython-input-16-124b44003c9b>\u001b[0m in \u001b[0;36mFloatMon\u001b[0;34m(column, df)\u001b[0m\n\u001b[1;32m      8\u001b[0m             \u001b[0;32mreturn\u001b[0m \u001b[0mfloat\u001b[0m\u001b[0;34m(\u001b[0m\u001b[0mdata\u001b[0m\u001b[0;34m)\u001b[0m\u001b[0;34m\u001b[0m\u001b[0;34m\u001b[0m\u001b[0m\n\u001b[1;32m      9\u001b[0m     \u001b[0;32melse\u001b[0m\u001b[0;34m:\u001b[0m\u001b[0;34m\u001b[0m\u001b[0;34m\u001b[0m\u001b[0m\n\u001b[0;32m---> 10\u001b[0;31m         \u001b[0;32mreturn\u001b[0m \u001b[0mfloat\u001b[0m\u001b[0;34m(\u001b[0m\u001b[0mdata\u001b[0m\u001b[0;34m)\u001b[0m\u001b[0;34m\u001b[0m\u001b[0;34m\u001b[0m\u001b[0m\n\u001b[0m",
      "\u001b[0;32m/opt/anaconda3/envs/learn-env/lib/python3.8/site-packages/pandas/core/series.py\u001b[0m in \u001b[0;36mwrapper\u001b[0;34m(self)\u001b[0m\n\u001b[1;32m    127\u001b[0m         \u001b[0;32mif\u001b[0m \u001b[0mlen\u001b[0m\u001b[0;34m(\u001b[0m\u001b[0mself\u001b[0m\u001b[0;34m)\u001b[0m \u001b[0;34m==\u001b[0m \u001b[0;36m1\u001b[0m\u001b[0;34m:\u001b[0m\u001b[0;34m\u001b[0m\u001b[0;34m\u001b[0m\u001b[0m\n\u001b[1;32m    128\u001b[0m             \u001b[0;32mreturn\u001b[0m \u001b[0mconverter\u001b[0m\u001b[0;34m(\u001b[0m\u001b[0mself\u001b[0m\u001b[0;34m.\u001b[0m\u001b[0miloc\u001b[0m\u001b[0;34m[\u001b[0m\u001b[0;36m0\u001b[0m\u001b[0;34m]\u001b[0m\u001b[0;34m)\u001b[0m\u001b[0;34m\u001b[0m\u001b[0;34m\u001b[0m\u001b[0m\n\u001b[0;32m--> 129\u001b[0;31m         \u001b[0;32mraise\u001b[0m \u001b[0mTypeError\u001b[0m\u001b[0;34m(\u001b[0m\u001b[0;34mf\"cannot convert the series to {converter}\"\u001b[0m\u001b[0;34m)\u001b[0m\u001b[0;34m\u001b[0m\u001b[0;34m\u001b[0m\u001b[0m\n\u001b[0m\u001b[1;32m    130\u001b[0m \u001b[0;34m\u001b[0m\u001b[0m\n\u001b[1;32m    131\u001b[0m     \u001b[0mwrapper\u001b[0m\u001b[0;34m.\u001b[0m\u001b[0m__name__\u001b[0m \u001b[0;34m=\u001b[0m \u001b[0;34mf\"__{converter.__name__}__\"\u001b[0m\u001b[0;34m\u001b[0m\u001b[0;34m\u001b[0m\u001b[0m\n",
      "\u001b[0;31mTypeError\u001b[0m: cannot convert the series to <class 'float'>"
     ]
    }
   ],
   "source": [
    "FloatMon('production_budget', MBrawdf)"
   ]
  },
  {
   "cell_type": "code",
   "execution_count": null,
   "metadata": {},
   "outputs": [],
   "source": [
    "FloatMon('production_budget', 'domestic_gross', 'worldwide_gross', MBrawdf)"
   ]
  },
  {
   "cell_type": "markdown",
   "metadata": {},
   "source": [
    "Return on Investment (ROI)\n",
    "\n",
    "Return on investment specifically looks at the dollar amount earned for the amount invested in a project. Instead of looking at overall profit, it looks at the specific benefit from the project divided by the costs.\n",
    "To use this metric, a dollar amount needs to be assigned to each unit of data to determine the net benefits—benefits may include contribution to profit, cost savings, increased output, and improvements. Costs may include resources, labor, training, and overhead.\n",
    "ROI = (Net Benefits/Costs) x 100\n",
    "\n",
    "Since the movies are produced in different years and because the value of dollars in different years might be different due to different factors such as inflation rate etc, it might be a good idea to add a column to this data frame in which we store a non dimensional quantity which we obtain by combining the columns `worldwide_gross`, `domestic_gross` and `production_budget`. We name this new column `return_on_investment` which is calculated as\n",
    "\n",
    "\\begin{equation}\n",
    "\\mathcal{ROI} = \\frac{d + w}{b} \\label{return ROI}\n",
    "\\end{equation}\n",
    "\n",
    "where $\\mathcal{ROI}$ = `return_on_investment`, $d$ = `domestic_gross`, $w$ = `worldwide_gross`,  and $b$ = `production_budget`.\n",
    "\n",
    "We need to first convert other columns from string to float by using the function `FloatMon` that we defined in the previous section before creating the column in focus. Then we use equation (\\ref{return ROI}) to create the column `return_on_investment` as:\n"
   ]
  },
  {
   "cell_type": "code",
   "execution_count": 28,
   "metadata": {},
   "outputs": [
    {
     "ename": "RecursionError",
     "evalue": "maximum recursion depth exceeded while calling a Python object",
     "output_type": "error",
     "traceback": [
      "\u001b[0;31m---------------------------------------------------------------------------\u001b[0m",
      "\u001b[0;31mRecursionError\u001b[0m                            Traceback (most recent call last)",
      "\u001b[0;32m<ipython-input-28-893f51c55a4f>\u001b[0m in \u001b[0;36m<module>\u001b[0;34m\u001b[0m\n\u001b[0;32m----> 1\u001b[0;31m \u001b[0mMBrawdf\u001b[0m\u001b[0;34m[\u001b[0m\u001b[0;34m\"production_budget\"\u001b[0m\u001b[0;34m]\u001b[0m \u001b[0;34m=\u001b[0m \u001b[0mFloatMon\u001b[0m\u001b[0;34m(\u001b[0m\u001b[0;34m\"production_budget\"\u001b[0m\u001b[0;34m,\u001b[0m \u001b[0mMBrawdf\u001b[0m\u001b[0;34m)\u001b[0m\u001b[0;34m\u001b[0m\u001b[0;34m\u001b[0m\u001b[0m\n\u001b[0m",
      "\u001b[0;32m<ipython-input-27-5d3a117e9a48>\u001b[0m in \u001b[0;36mFloatMon\u001b[0;34m(column, df)\u001b[0m\n\u001b[1;32m      7\u001b[0m             \u001b[0;32mreturn\u001b[0m \u001b[0mfloat\u001b[0m\u001b[0;34m(\u001b[0m\u001b[0mFloatMon\u001b[0m\u001b[0;34m(\u001b[0m\u001b[0mcolumn\u001b[0m\u001b[0;34m,\u001b[0m \u001b[0mdf\u001b[0m\u001b[0;34m)\u001b[0m\u001b[0;34m)\u001b[0m\u001b[0;34m\u001b[0m\u001b[0;34m\u001b[0m\u001b[0m\n\u001b[1;32m      8\u001b[0m     \u001b[0;32melse\u001b[0m\u001b[0;34m:\u001b[0m\u001b[0;34m\u001b[0m\u001b[0;34m\u001b[0m\u001b[0m\n\u001b[0;32m----> 9\u001b[0;31m         \u001b[0;32mreturn\u001b[0m \u001b[0mfloat\u001b[0m\u001b[0;34m(\u001b[0m\u001b[0mFloatMon\u001b[0m\u001b[0;34m(\u001b[0m\u001b[0mcolumn\u001b[0m\u001b[0;34m,\u001b[0m \u001b[0mdf\u001b[0m\u001b[0;34m)\u001b[0m\u001b[0;34m)\u001b[0m\u001b[0;34m\u001b[0m\u001b[0;34m\u001b[0m\u001b[0m\n\u001b[0m",
      "... last 1 frames repeated, from the frame below ...\n",
      "\u001b[0;32m<ipython-input-27-5d3a117e9a48>\u001b[0m in \u001b[0;36mFloatMon\u001b[0;34m(column, df)\u001b[0m\n\u001b[1;32m      7\u001b[0m             \u001b[0;32mreturn\u001b[0m \u001b[0mfloat\u001b[0m\u001b[0;34m(\u001b[0m\u001b[0mFloatMon\u001b[0m\u001b[0;34m(\u001b[0m\u001b[0mcolumn\u001b[0m\u001b[0;34m,\u001b[0m \u001b[0mdf\u001b[0m\u001b[0;34m)\u001b[0m\u001b[0;34m)\u001b[0m\u001b[0;34m\u001b[0m\u001b[0;34m\u001b[0m\u001b[0m\n\u001b[1;32m      8\u001b[0m     \u001b[0;32melse\u001b[0m\u001b[0;34m:\u001b[0m\u001b[0;34m\u001b[0m\u001b[0;34m\u001b[0m\u001b[0m\n\u001b[0;32m----> 9\u001b[0;31m         \u001b[0;32mreturn\u001b[0m \u001b[0mfloat\u001b[0m\u001b[0;34m(\u001b[0m\u001b[0mFloatMon\u001b[0m\u001b[0;34m(\u001b[0m\u001b[0mcolumn\u001b[0m\u001b[0;34m,\u001b[0m \u001b[0mdf\u001b[0m\u001b[0;34m)\u001b[0m\u001b[0;34m)\u001b[0m\u001b[0;34m\u001b[0m\u001b[0;34m\u001b[0m\u001b[0m\n\u001b[0m",
      "\u001b[0;31mRecursionError\u001b[0m: maximum recursion depth exceeded while calling a Python object"
     ]
    }
   ],
   "source": [
    "MBrawdf[\"production_budget\"] = FloatMon(\"production_budget\", MBrawdf)"
   ]
  },
  {
   "cell_type": "code",
   "execution_count": 24,
   "metadata": {},
   "outputs": [
    {
     "ename": "TypeError",
     "evalue": "cannot convert the series to <class 'float'>",
     "output_type": "error",
     "traceback": [
      "\u001b[0;31m---------------------------------------------------------------------------\u001b[0m",
      "\u001b[0;31mTypeError\u001b[0m                                 Traceback (most recent call last)",
      "\u001b[0;32m<ipython-input-24-1d522cfcca5b>\u001b[0m in \u001b[0;36m<module>\u001b[0;34m\u001b[0m\n\u001b[0;32m----> 1\u001b[0;31m \u001b[0mMBrawdf\u001b[0m\u001b[0;34m[\u001b[0m\u001b[0;34m\"production_budget\"\u001b[0m\u001b[0;34m]\u001b[0m \u001b[0;34m=\u001b[0m \u001b[0;34m(\u001b[0m\u001b[0mMBrawdf\u001b[0m\u001b[0;34m[\u001b[0m\u001b[0;34m\"production_budget\"\u001b[0m\u001b[0;34m]\u001b[0m\u001b[0;34m.\u001b[0m\u001b[0mapply\u001b[0m\u001b[0;34m(\u001b[0m\u001b[0mFloatMon\u001b[0m\u001b[0;34m(\u001b[0m\u001b[0;34m\"production_budget\"\u001b[0m\u001b[0;34m,\u001b[0m \u001b[0mMBrawdf\u001b[0m\u001b[0;34m)\u001b[0m\u001b[0;34m)\u001b[0m\u001b[0;34m)\u001b[0m\u001b[0;34m\u001b[0m\u001b[0;34m\u001b[0m\u001b[0m\n\u001b[0m\u001b[1;32m      2\u001b[0m \u001b[0;34m\u001b[0m\u001b[0m\n\u001b[1;32m      3\u001b[0m \u001b[0mMBrawdf\u001b[0m\u001b[0;34m[\u001b[0m\u001b[0;34m\"domestic_gross\"\u001b[0m\u001b[0;34m]\u001b[0m \u001b[0;34m=\u001b[0m \u001b[0;34m(\u001b[0m\u001b[0mMBrawdf\u001b[0m\u001b[0;34m[\u001b[0m\u001b[0;34m\"domestic_gross\"\u001b[0m\u001b[0;34m]\u001b[0m\u001b[0;34m.\u001b[0m\u001b[0mapply\u001b[0m\u001b[0;34m(\u001b[0m\u001b[0mFloatMon\u001b[0m\u001b[0;34m(\u001b[0m\u001b[0;34m\"domestic_gross\"\u001b[0m\u001b[0;34m,\u001b[0m \u001b[0mMBrawdf\u001b[0m\u001b[0;34m)\u001b[0m\u001b[0;34m)\u001b[0m\u001b[0;34m)\u001b[0m\u001b[0;34m\u001b[0m\u001b[0;34m\u001b[0m\u001b[0m\n\u001b[1;32m      4\u001b[0m \u001b[0;34m\u001b[0m\u001b[0m\n\u001b[1;32m      5\u001b[0m \u001b[0mMBrawdf\u001b[0m\u001b[0;34m[\u001b[0m\u001b[0;34m\"worldwide_gross\"\u001b[0m\u001b[0;34m]\u001b[0m \u001b[0;34m=\u001b[0m \u001b[0;34m(\u001b[0m\u001b[0mMBrawdf\u001b[0m\u001b[0;34m[\u001b[0m\u001b[0;34m\"worldwide_gross\"\u001b[0m\u001b[0;34m]\u001b[0m\u001b[0;34m.\u001b[0m\u001b[0mapply\u001b[0m\u001b[0;34m(\u001b[0m\u001b[0mFloatMon\u001b[0m\u001b[0;34m(\u001b[0m\u001b[0;34m\"worldwide_gross\"\u001b[0m\u001b[0;34m,\u001b[0m \u001b[0mMBrawdf\u001b[0m\u001b[0;34m)\u001b[0m\u001b[0;34m)\u001b[0m\u001b[0;34m)\u001b[0m\u001b[0;34m\u001b[0m\u001b[0;34m\u001b[0m\u001b[0m\n",
      "\u001b[0;32m<ipython-input-16-124b44003c9b>\u001b[0m in \u001b[0;36mFloatMon\u001b[0;34m(column, df)\u001b[0m\n\u001b[1;32m      8\u001b[0m             \u001b[0;32mreturn\u001b[0m \u001b[0mfloat\u001b[0m\u001b[0;34m(\u001b[0m\u001b[0mdata\u001b[0m\u001b[0;34m)\u001b[0m\u001b[0;34m\u001b[0m\u001b[0;34m\u001b[0m\u001b[0m\n\u001b[1;32m      9\u001b[0m     \u001b[0;32melse\u001b[0m\u001b[0;34m:\u001b[0m\u001b[0;34m\u001b[0m\u001b[0;34m\u001b[0m\u001b[0m\n\u001b[0;32m---> 10\u001b[0;31m         \u001b[0;32mreturn\u001b[0m \u001b[0mfloat\u001b[0m\u001b[0;34m(\u001b[0m\u001b[0mdata\u001b[0m\u001b[0;34m)\u001b[0m\u001b[0;34m\u001b[0m\u001b[0;34m\u001b[0m\u001b[0m\n\u001b[0m",
      "\u001b[0;32m/opt/anaconda3/envs/learn-env/lib/python3.8/site-packages/pandas/core/series.py\u001b[0m in \u001b[0;36mwrapper\u001b[0;34m(self)\u001b[0m\n\u001b[1;32m    127\u001b[0m         \u001b[0;32mif\u001b[0m \u001b[0mlen\u001b[0m\u001b[0;34m(\u001b[0m\u001b[0mself\u001b[0m\u001b[0;34m)\u001b[0m \u001b[0;34m==\u001b[0m \u001b[0;36m1\u001b[0m\u001b[0;34m:\u001b[0m\u001b[0;34m\u001b[0m\u001b[0;34m\u001b[0m\u001b[0m\n\u001b[1;32m    128\u001b[0m             \u001b[0;32mreturn\u001b[0m \u001b[0mconverter\u001b[0m\u001b[0;34m(\u001b[0m\u001b[0mself\u001b[0m\u001b[0;34m.\u001b[0m\u001b[0miloc\u001b[0m\u001b[0;34m[\u001b[0m\u001b[0;36m0\u001b[0m\u001b[0;34m]\u001b[0m\u001b[0;34m)\u001b[0m\u001b[0;34m\u001b[0m\u001b[0;34m\u001b[0m\u001b[0m\n\u001b[0;32m--> 129\u001b[0;31m         \u001b[0;32mraise\u001b[0m \u001b[0mTypeError\u001b[0m\u001b[0;34m(\u001b[0m\u001b[0;34mf\"cannot convert the series to {converter}\"\u001b[0m\u001b[0;34m)\u001b[0m\u001b[0;34m\u001b[0m\u001b[0;34m\u001b[0m\u001b[0m\n\u001b[0m\u001b[1;32m    130\u001b[0m \u001b[0;34m\u001b[0m\u001b[0m\n\u001b[1;32m    131\u001b[0m     \u001b[0mwrapper\u001b[0m\u001b[0;34m.\u001b[0m\u001b[0m__name__\u001b[0m \u001b[0;34m=\u001b[0m \u001b[0;34mf\"__{converter.__name__}__\"\u001b[0m\u001b[0;34m\u001b[0m\u001b[0;34m\u001b[0m\u001b[0m\n",
      "\u001b[0;31mTypeError\u001b[0m: cannot convert the series to <class 'float'>"
     ]
    }
   ],
   "source": [
    "MBrawdf[\"domestic_gross\"] = (MBrawdf[\"domestic_gross\"].apply(FloatMon(\"domestic_gross\", MBrawdf)))\n",
    "    \n",
    "MBrawdf[\"worldwide_gross\"] = (MBrawdf[\"worldwide_gross\"].apply(FloatMon(\"worldwide_gross\", MBrawdf)))"
   ]
  },
  {
   "cell_type": "code",
   "execution_count": null,
   "metadata": {},
   "outputs": [],
   "source": [
    "MBdf[\"return_on_investment\"] = ((MBrawdf[\"domestic_gross\"]\n",
    "                        +MBrawdf[\"worldwide_gross\"])\n",
    "                                /MBrawdf[\"production_budget\"])"
   ]
  },
  {
   "cell_type": "code",
   "execution_count": 22,
   "metadata": {},
   "outputs": [
    {
     "ename": "TypeError",
     "evalue": "FloatMon() missing 1 required positional argument: 'df'",
     "output_type": "error",
     "traceback": [
      "\u001b[0;31m---------------------------------------------------------------------------\u001b[0m",
      "\u001b[0;31mTypeError\u001b[0m                                 Traceback (most recent call last)",
      "\u001b[0;32m<ipython-input-22-cd480275015e>\u001b[0m in \u001b[0;36m<module>\u001b[0;34m\u001b[0m\n\u001b[0;32m----> 1\u001b[0;31m \u001b[0mMBradf\u001b[0m\u001b[0;34m[\u001b[0m\u001b[0;34m\"production_budget\"\u001b[0m\u001b[0;34m]\u001b[0m \u001b[0;34m=\u001b[0m \u001b[0;34m(\u001b[0m\u001b[0mMBrawdf\u001b[0m\u001b[0;34m[\u001b[0m\u001b[0;34m\"production_budget\"\u001b[0m\u001b[0;34m]\u001b[0m\u001b[0;34m.\u001b[0m\u001b[0mapply\u001b[0m\u001b[0;34m(\u001b[0m\u001b[0mFloatMon\u001b[0m\u001b[0;34m(\u001b[0m\u001b[0mMBrawdf\u001b[0m\u001b[0;34m)\u001b[0m\u001b[0;34m)\u001b[0m\u001b[0;34m)\u001b[0m\u001b[0;34m\u001b[0m\u001b[0;34m\u001b[0m\u001b[0m\n\u001b[0m\u001b[1;32m      2\u001b[0m \u001b[0;34m\u001b[0m\u001b[0m\n\u001b[1;32m      3\u001b[0m \u001b[0mMBrdf\u001b[0m\u001b[0;34m[\u001b[0m\u001b[0;34m\"domestic_gross\"\u001b[0m\u001b[0;34m]\u001b[0m \u001b[0;34m=\u001b[0m \u001b[0;34m(\u001b[0m\u001b[0mMBradf\u001b[0m\u001b[0;34m[\u001b[0m\u001b[0;34m\"domestic_gross\"\u001b[0m\u001b[0;34m]\u001b[0m\u001b[0;34m.\u001b[0m\u001b[0mapply\u001b[0m\u001b[0;34m(\u001b[0m\u001b[0mFloatMon\u001b[0m\u001b[0;34m(\u001b[0m\u001b[0mMBrawdf\u001b[0m\u001b[0;34m)\u001b[0m\u001b[0;34m)\u001b[0m\u001b[0;34m)\u001b[0m\u001b[0;34m\u001b[0m\u001b[0;34m\u001b[0m\u001b[0m\n\u001b[1;32m      4\u001b[0m \u001b[0;34m\u001b[0m\u001b[0m\n\u001b[1;32m      5\u001b[0m \u001b[0mMBdf\u001b[0m\u001b[0;34m[\u001b[0m\u001b[0;34m\"worldwide_gross\"\u001b[0m\u001b[0;34m]\u001b[0m \u001b[0;34m=\u001b[0m \u001b[0;34m(\u001b[0m\u001b[0mMBrdf\u001b[0m\u001b[0;34m[\u001b[0m\u001b[0;34m\"worldwide_gross\"\u001b[0m\u001b[0;34m]\u001b[0m\u001b[0;34m.\u001b[0m\u001b[0mapply\u001b[0m\u001b[0;34m(\u001b[0m\u001b[0mFloatMon\u001b[0m\u001b[0;34m(\u001b[0m\u001b[0mMBrawdf\u001b[0m\u001b[0;34m)\u001b[0m\u001b[0;34m)\u001b[0m\u001b[0;34m)\u001b[0m\u001b[0;34m\u001b[0m\u001b[0;34m\u001b[0m\u001b[0m\n",
      "\u001b[0;31mTypeError\u001b[0m: FloatMon() missing 1 required positional argument: 'df'"
     ]
    }
   ],
   "source": []
  },
  {
   "cell_type": "markdown",
   "metadata": {},
   "source": [
    "# I DON'T KNOW ABOUT THIS\n",
    "## MAYBE ROI INSTEAD OR SOMETHING ELSE\n",
    "Since the movies are produced in different years and because the value of dollars in different years might be different due to different factors such as inflation rate etc, it might be a good idea to add a column to this data frame in which we store a non dimensional quantity which we obtain by combining the columns `worldwide_gross`, `domestic_gross` and `production_budget`. We name this new column `return_ratio` which is calculated as\n",
    "\n",
    "\\begin{equation}\n",
    "\\mathcal{R} = \\frac{d + w - b}{b} \\label{return ratio}\n",
    "\\end{equation}\n",
    "\n",
    "where $\\mathcal{R}$ = `return_ratio`, $d$ = `domestic_gross`, $w$ = `worldwide_gross`,  and $b$ = `production_budget`.\n",
    "\n",
    "We need to first convert other columns from string to float by using the function `FloatMon` that we defined in the previous section before creating the column in focus. Then we use equation (\\ref{return ratio}) to create the column `return_ratio` as:\n"
   ]
  },
  {
   "cell_type": "markdown",
   "metadata": {},
   "source": [
    "### TB"
   ]
  },
  {
   "cell_type": "code",
   "execution_count": null,
   "metadata": {},
   "outputs": [],
   "source": [
    "TBrawdf.head()"
   ]
  },
  {
   "cell_type": "code",
   "execution_count": null,
   "metadata": {},
   "outputs": [],
   "source": [
    "# Rename title column\n",
    "TBrawdf.rename({'primary_title': 'movie_title'}, axis='columns', inplace = True)"
   ]
  },
  {
   "cell_type": "code",
   "execution_count": null,
   "metadata": {},
   "outputs": [],
   "source": [
    "# Remove undesired columns\n",
    "TBrawDdf = TBrawdf.drop('original_title', 1)\n",
    "TBrawDdf.head()"
   ]
  },
  {
   "cell_type": "code",
   "execution_count": null,
   "metadata": {},
   "outputs": [],
   "source": [
    "TBdf = TBrawDdf.drop('runtime_minutes', 1)\n",
    "TBdf.head()"
   ]
  },
  {
   "cell_type": "code",
   "execution_count": null,
   "metadata": {
    "scrolled": true
   },
   "outputs": [],
   "source": [
    "MB_TBdf = MBrawdf.merge(TBrawdf, how='right', on='movie_title')\n",
    "MB_TBdf.dropna(subset=['production_budget', 'domestic_gross', 'worldwide_gross'], inplace = True)\n",
    "\n",
    "MB_TBdf.head()"
   ]
  },
  {
   "cell_type": "code",
   "execution_count": null,
   "metadata": {},
   "outputs": [],
   "source": []
  },
  {
   "cell_type": "code",
   "execution_count": null,
   "metadata": {},
   "outputs": [],
   "source": [
    "MB_TBdf.loc[MB_TBdf['movie_title'] == \"Avatar\"]"
   ]
  },
  {
   "cell_type": "code",
   "execution_count": null,
   "metadata": {},
   "outputs": [],
   "source": [
    "category_type_writer = ['writer']\n",
    "\n",
    "writers_groupby =  alive_writers[alive_writers['category'].isin(category_type_writer)]\n",
    "writers_groupby.head()\n",
    "\n",
    "# find the average budget by writer\n",
    "writers_production_mean = round(writers_groupby.groupby('primary_name')['production_budget'].\n",
    "                                   mean(), 0)"
   ]
  },
  {
   "cell_type": "code",
   "execution_count": null,
   "metadata": {},
   "outputs": [],
   "source": [
    "MB_TBdf.shape"
   ]
  },
  {
   "cell_type": "code",
   "execution_count": null,
   "metadata": {},
   "outputs": [],
   "source": [
    "# Split and Explode for genre, \n",
    "bom_movie_basics_joined['genres'] = bom_movie_basics_joined['genres'].str.split(\n",
    "    pat=',')\n",
    "bom_movie_basics_exploded = bom_movie_basics_joined.explode(\n",
    "    'genres', ignore_index=True)\n",
    "\n",
    "# GROUPBY genre\n",
    "\n",
    "\n",
    "category_type_action = ['writer']\n",
    "\n",
    "writers_groupby =  alive_writers[alive_writers['category'].isin(category_type_writer)]\n",
    "writers_groupby.head()\n",
    "\n",
    "# find the average budget by writer\n",
    "writers_production_mean = round(writers_groupby.groupby('genre')['production_budget'].\n",
    "                                   mean(), 0)\n",
    "\n",
    "# Find the average per genre\n",
    "bom_movie_basics_exploded_avg = bom_movie_basics_exploded.groupby(\n",
    "    ['genres']).foreign_gross.mean().reset_index()\n",
    "bom_movie_basics_exploded_avg\n",
    "# Find ROI with new column as formula"
   ]
  },
  {
   "cell_type": "code",
   "execution_count": null,
   "metadata": {},
   "outputs": [],
   "source": [
    "# https://pandas.pydata.org/pandas-docs/stable/reference/api/pandas.DataFrame.groupby.html#pandas.DataFrame.groupby\n",
    "\n"
   ]
  },
  {
   "cell_type": "code",
   "execution_count": null,
   "metadata": {},
   "outputs": [],
   "source": []
  },
  {
   "cell_type": "code",
   "execution_count": null,
   "metadata": {},
   "outputs": [],
   "source": [
    "\n"
   ]
  },
  {
   "cell_type": "code",
   "execution_count": null,
   "metadata": {
    "scrolled": false
   },
   "outputs": [],
   "source": [
    "# To find similar columns\n",
    "print(f'Movie Gross:', MGdf.keys())\n",
    "print(f'Name Basics:', NBdf.keys())\n",
    "print(f'Title AKAs:', TAdf.keys())\n",
    "print(f'Title Basics:', TBdf.keys())\n",
    "print(f'Title Crew:', TCdf.keys())\n",
    "print(f'Title Principals:', TPdf.keys())\n",
    "print(f'Title Ratings:', TRdf.keys())\n",
    "print(f'Movie Info:',MIdf.keys())\n",
    "print(f'Movies:',Mdf.keys())\n",
    "print(f'Movie Budgets:',MBdf.keys())"
   ]
  },
  {
   "cell_type": "markdown",
   "metadata": {},
   "source": [
    "Movie Gross + Movies by title\n",
    "Movie + Movie Budget by id \n",
    "Movie Info (remove column 0) + by title"
   ]
  },
  {
   "cell_type": "code",
   "execution_count": null,
   "metadata": {},
   "outputs": [],
   "source": [
    "TC_TPdf = TCdf.merge(TPdf, how='right', on='tconst')\n",
    "TC_TPdf.head()"
   ]
  },
  {
   "cell_type": "code",
   "execution_count": null,
   "metadata": {},
   "outputs": [],
   "source": [
    "TC_TBdf = TC_TPdf.merge(TBdf, how='right', on='tconst')\n",
    "TC_TBdf "
   ]
  },
  {
   "cell_type": "code",
   "execution_count": null,
   "metadata": {},
   "outputs": [],
   "source": [
    "# To find similar columns\n",
    "print(f'Movie Gross:', MGdf.keys())\n",
    "print(f'Title AKAs:', TAdf.keys())\n",
    "print(f'Merged Title Basics:', TC_TBdf.keys())\n",
    "print(f'Movie Info:',MIdf.keys())\n",
    "print(f'Movies:',Mdf.keys())\n",
    "print(f'Movie Budgets:',MBdf.keys())"
   ]
  },
  {
   "cell_type": "code",
   "execution_count": null,
   "metadata": {},
   "outputs": [],
   "source": [
    "TB_ = TP_TBdf.merge(MBdf, how='left', on='tconst')\n",
    "TCdf"
   ]
  },
  {
   "cell_type": "code",
   "execution_count": null,
   "metadata": {},
   "outputs": [],
   "source": [
    "\n",
    "\n",
    "#Run individually\n",
    "print(f'Movie Gross:', MGdf.head())\n",
    "print(f'Name Basics:', NBdf.head())\n",
    "print(f'Title AKAs:', TAdf.head())\n",
    "print(f'Title Basics:', TBdf.head())\n",
    "print(f'Title Crew:', TCdf.head())\n",
    "print(f'Title Principals:', TPdf.head())\n",
    "print(f'Title Ratings:', TRdf.head())\n",
    "print(MIdf.head())\n",
    "\n",
    "print(f'Movies:',Mdf.head())\n",
    "print(f'Movie Budgets:',MBdf.head())"
   ]
  },
  {
   "cell_type": "code",
   "execution_count": null,
   "metadata": {},
   "outputs": [],
   "source": [
    "# Pure curiousity\n",
    "MGdf.describe()\n",
    "# could potentially be used for comparing genres"
   ]
  },
  {
   "cell_type": "markdown",
   "metadata": {},
   "source": [
    "### Key Points\n",
    "\n",
    "* **Your analysis should yield three concrete business recommendations.** The ultimate purpose of exploratory analysis is not just to learn about the data, but to help an organization perform better. Explicitly relate your findings to business needs by recommending actions that you think the business (Microsoft) should take.\n",
    "\n",
    "* **Communicating about your work well is extremely important.** Your ability to provide value to an organization - or to land a job there - is directly reliant on your ability to communicate with them about what you have done and why it is valuable. Create a storyline your audience (the head of Microsoft's new movie studio) can follow by walking them through the steps of your process, highlighting the most important points and skipping over the rest.\n",
    "\n",
    "* **Use plenty of visualizations.** Visualizations are invaluable for exploring your data and making your findings accessible to a non-technical audience. Spotlight visuals in your presentation, but only ones that relate directly to your recommendations. Simple visuals are usually best (e.g. bar charts and line graphs), and don't forget to format them well (e.g. labels, titles)."
   ]
  },
  {
   "cell_type": "code",
   "execution_count": null,
   "metadata": {},
   "outputs": [],
   "source": []
  },
  {
   "cell_type": "markdown",
   "metadata": {},
   "source": [
    "## Deliverables\n",
    "\n",
    "There are three deliverables for this project:\n",
    "\n",
    "* A **non-technical presentation**\n",
    "* A **Jupyter Notebook**\n",
    "* A **GitHub repository**"
   ]
  },
  {
   "cell_type": "markdown",
   "metadata": {},
   "source": [
    "### Additional Directions\n",
    "\n",
    "Looking at profit on a movie is always a good outcome. Althought judgements based on money generated or initial return of investment isn’t giving the full story. Motherless Brooklyn (2019) and Stardust (2007) both brought meagre returns in theatres but gained gradual success and enthusiastic audiences once brought to streaming platforms. With the current socialital pressures to leave traditional threaters and head towards streaming services, decisions will need to reflect these changes with supporting data. \n",
    "\n",
    "Additionally, cult followings, which proceed decades after releases are not shown within the current parameters as well. These should be considered and data kept so that adjustments can be viewed in how these followings affect overall profits. "
   ]
  },
  {
   "cell_type": "code",
   "execution_count": null,
   "metadata": {},
   "outputs": [],
   "source": []
  }
 ],
 "metadata": {
  "celltoolbar": "Raw Cell Format",
  "kernelspec": {
   "display_name": "Python 3",
   "language": "python",
   "name": "python3"
  },
  "language_info": {
   "codemirror_mode": {
    "name": "ipython",
    "version": 3
   },
   "file_extension": ".py",
   "mimetype": "text/x-python",
   "name": "python",
   "nbconvert_exporter": "python",
   "pygments_lexer": "ipython3",
   "version": "3.8.5"
  }
 },
 "nbformat": 4,
 "nbformat_minor": 2
}
