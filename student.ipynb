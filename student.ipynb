{
 "cells": [
  {
   "cell_type": "markdown",
   "metadata": {},
   "source": [
    "## Microsoft Movie Pitch Submission\n",
    "\n",
    "* Student name: Ashleigh Stephens\n",
    "* Student pace: FLEX 60 Wk\n",
    "* Scheduled project review date/time: \n",
    "* Instructor name: Abhineet\n",
    "* Blog post URL: N/A\n"
   ]
  },
  {
   "cell_type": "markdown",
   "metadata": {},
   "source": [
    "In this project description, we will cover:\n",
    "\n",
    "* [***Project Overview:***](#project-overview) the project goal, audience, and dataset\n",
    "* [***Deliverables:***](#deliverables) the specific items you are required to produce for this project\n",
    "* [***Grading:***](#grading) how your project will be scored\n",
    "* [***Getting Started:***](#getting-started) guidance for how to begin your first project\n",
    "\n",
    "## Project Overview\n",
    "\n",
    "Using exploratory data analysis to generate insights for a Microsoft stakeholder.\n",
    "\n",
    "### Project Goal\n",
    "\n",
    "To get Microsoft in on all the creating original video content fun the other big companies are having, we're exploring what types of films are currently doing the best at the box office. To give greater insight into creating movies, we're translating findings into actionable insights that the head of Microsoft's new movie studio can use to help decide what type of films to create in a new movie studio.\n",
    "\n",
    "### Audience\n",
    "\n",
    "(https://www.motionpictures.org/wp-content/uploads/2022/03/MPA-2021-THEME-Report-FINAL.pdf)\n",
    "USE THIS, MAKE GRAPHS FROM DATA, \n",
    "\n",
    "(https://www.sawa.com/why-cinema/audience)\n",
    "Specifically, cinemagoers are typically younger than the population with generally half of the visits made by people in the key 14 to 34 demographic. Cinemagoing has increased against all age groups in the last few years, with the most dramatic growth seen amongst the over 25’s. Movie’s remakes made in the last 10 years have attracted an older age group and brought more people back to the movies. Approximately ¾ of a typical cinema audience are frequent cinemagoers, who go to the movies on average at least once every 4 weeks.\n",
    "\n",
    "Frequent moviegoers are a highly desirable audience for advertisers. They are usually young and affluent, with high disposable incomes. They are avid shoppers, into fashion and technology and lead busy and active lives making them difficult to target with other media.\n",
    "\n",
    "Cinema is an ideal medium to target the more affluent sectors of the population with good levels of disposable income. It can be safely said that the Cinema going Audience is one of the most sought after sectors of the population. Cinemagoers typically have good education levels, with cinema an ideal medium to target people in higher education.\n",
    "\n",
    "(https://variety.com/2018/film/news/latino-asian-moviegoers-mpaa-study-1202743713/)\n",
    "Caucasians, who represent 61% of the U.S. population, amounted to 54% of frequent moviegoers, while African-Americans represented 12% of the population and 10% of frequent moviegoers. Caucasians bought 55% of all tickets, followed by 23% for Latinos, 12% for African-Americans and 7% for Asians.\n"
   ]
  },
  {
   "cell_type": "markdown",
   "metadata": {},
   "source": [
    "### The Data\n",
    "\n",
    "In the folder `zippedData` are movie datasets from:\n",
    "\n",
    "* [Box Office Mojo](https://www.boxofficemojo.com/)\n",
    "* [IMDB](https://www.imdb.com/)\n",
    "* [Rotten Tomatoes](https://www.rottentomatoes.com/)\n",
    "* [TheMovieDB](https://www.themoviedb.org/)\n",
    "* [The Numbers](https://www.the-numbers.com/)\n",
    "\n",
    "It is up to you to decide what data from this to use and how to use it. If you want to make this more challenging, you can scrape websites or make API calls to get additional data. If you are feeling overwhelmed or behind (e.g. struggled with the Phase 1 Code Challenge), we recommend you use only the following data files:\n",
    "\n",
    "* imdb.title.basics\n",
    "* imdb.title.ratings\n",
    "* bom.movie_gross\n"
   ]
  },
  {
   "cell_type": "markdown",
   "metadata": {},
   "source": [
    "Focusing on genres, look at ROI\n",
    "Secondary; directors, writers, \n",
    "\n",
    "Productivity = Units of Input/Units of Output; \n",
    "    money in/money out per publisher\n",
    "Customer Satisfaction Score = (Total Survey Point Score / Total Questions) x 100;\n",
    "    ratings \n",
    "    \n",
    "Gross Profit Margin = (Total Profit-Total Costs)/100; \n",
    "    looking to the future in the pitch for genre\n",
    "ROI = (Net Benefits/Costs) x 100; \n",
    "    look at specific benefit of project"
   ]
  },
  {
   "cell_type": "code",
   "execution_count": 47,
   "metadata": {},
   "outputs": [],
   "source": [
    "# Open files\n",
    "import pandas as pd  # Alias pandas to be referred to as pd\n",
    "import numpy as np  # Alias numpy to be referred to as np\n",
    "import matplotlib.pyplot as plt  # Alias matplotlib.pyplot to be referred to as plt\n",
    "import seaborn as sns  # Alias seaborn to be referred to as sns\n",
    "from glob import glob # Can be used to import zipped files as one file\n",
    "import os\n",
    "\n",
    "# Allows plot outputs\n",
    "%matplotlib inline\n",
    "\n",
    "import warnings\n",
    "warnings.filterwarnings('ignore')"
   ]
  },
  {
   "cell_type": "markdown",
   "metadata": {},
   "source": [
    "# bom.movie_gross.csv.gz\n",
    "MGdf\n",
    "# imdb.name.basics.csv.gz\n",
    "NBdf \n",
    "# imdb.title.akas.csv.gz\n",
    "TAdf \n",
    "# imdb.title.basics.csv.gz\n",
    "TBdf \n",
    "# imdb.title.crew.csv.gz\n",
    "TCdf \n",
    "# imdb.title.principals.csv.gz\n",
    "TPdf \n",
    "# imdb.title.ratings.csv.gz\n",
    "TRdf \n",
    "# rt.movie_info.tsv.gz\n",
    "MIdf \n",
    "# tmdb.movies.csv.gz\n",
    "Mdf \n",
    "# tn.movie_budgets.csv.gz\n",
    "MBdf "
   ]
  },
  {
   "cell_type": "code",
   "execution_count": 48,
   "metadata": {},
   "outputs": [],
   "source": [
    "#pandas support zip file reads\n",
    "# bom.movie_gross.csv.gz\n",
    "MGrawdf = pd.read_csv(\"/Users/as/Documents/Flatiron/Project_1/dsc-phase-1-project-v2-3/zippedData/bom.movie_gross.csv.gz\")\n",
    "# imdb.name.basics.csv.gz\n",
    "NBrawdf = pd.read_csv(\"/Users/as/Documents/Flatiron/Project_1/dsc-phase-1-project-v2-3/zippedData/imdb.name.basics.csv.gz\")\n",
    "# imdb.title.akas.csv.gz\n",
    "TArawdf = pd.read_csv(\"/Users/as/Documents/Flatiron/Project_1/dsc-phase-1-project-v2-3/zippedData/imdb.title.akas.csv.gz\")\n",
    "# imdb.title.basics.csv.gz\n",
    "TBrawdf = pd.read_csv(\"/Users/as/Documents/Flatiron/Project_1/dsc-phase-1-project-v2-3/zippedData/imdb.title.basics.csv.gz\")\n",
    "# imdb.title.crew.csv.gz\n",
    "TCrawdf = pd.read_csv(\"/Users/as/Documents/Flatiron/Project_1/dsc-phase-1-project-v2-3/zippedData/imdb.title.crew.csv.gz\")\n",
    "# imdb.title.principals.csv.gz\n",
    "TPrawdf = pd.read_csv(\"/Users/as/Documents/Flatiron/Project_1/dsc-phase-1-project-v2-3/zippedData/imdb.title.principals.csv.gz\")\n",
    "# imdb.title.ratings.csv.gz\n",
    "TRrawdf = pd.read_csv(\"/Users/as/Documents/Flatiron/Project_1/dsc-phase-1-project-v2-3/zippedData/imdb.title.ratings.csv.gz\")\n",
    "# rt.movie_info.tsv.gz\n",
    "MIrawdf = pd.read_table(\"/Users/as/Documents/Flatiron/Project_1/dsc-phase-1-project-v2-3/zippedData/rt.movie_info.tsv.gz\")\n",
    "# SKIP rt.reviews.tsv.gz \n",
    "# Probably need tsv to csv or read_table\n",
    "# Rdf = pd.read_csv\"(/Users/as/Documents/Flatiron/Project_1/dsc-phase-1-project-v2-3/zippedData/rt.reviews.tsv.gz\")\n",
    "# tmdb.movies.csv.gz\n",
    "Mrawdf = pd.read_csv(\"/Users/as/Documents/Flatiron/Project_1/dsc-phase-1-project-v2-3/zippedData/tmdb.movies.csv.gz\")\n",
    "# tn.movie_budgets.csv.gz\n",
    "MBrawdf = pd.read_csv(\"/Users/as/Documents/Flatiron/Project_1/dsc-phase-1-project-v2-3/zippedData/tn.movie_budgets.csv.gz\")"
   ]
  },
  {
   "cell_type": "markdown",
   "metadata": {},
   "source": [
    "To see the size before I begin to merge data to make sure data isn't lost"
   ]
  },
  {
   "cell_type": "code",
   "execution_count": 3,
   "metadata": {},
   "outputs": [
    {
     "name": "stdout",
     "output_type": "stream",
     "text": [
      "Movie Gross: (3387, 5)\n",
      "Name Basics: (606648, 6)\n",
      "Title AKAs: (331703, 8)\n",
      "Title Basics: (146144, 6)\n",
      "Title Crew: (146144, 3)\n",
      "Title Principals: (1028186, 6)\n",
      "Title Ratings: (73856, 3)\n",
      "Movie Info: (1560, 12)\n",
      "Movies: (26517, 10)\n",
      "Movie Budgets: (5782, 6)\n"
     ]
    }
   ],
   "source": [
    "print(f'Movie Gross:', MGrawdf.shape)\n",
    "print(f'Name Basics:', NBrawdf.shape)\n",
    "print(f'Title AKAs:', TArawdf.shape)\n",
    "print(f'Title Basics:', TBrawdf.shape)\n",
    "print(f'Title Crew:', TCrawdf.shape)\n",
    "print(f'Title Principals:', TPrawdf.shape)\n",
    "print(f'Title Ratings:', TRrawdf.shape)\n",
    "print(f'Movie Info:',MIrawdf.shape)\n",
    "print(f'Movies:', Mrawdf.shape)\n",
    "print(f'Movie Budgets:', MBrawdf.shape)"
   ]
  },
  {
   "cell_type": "markdown",
   "metadata": {},
   "source": [
    "To see the size before I begin to merge data 'df.shape' is used. To see what columns exist and null data within 'df.isnull().sum()' is used. By dividing the missing data sum by size will give you the percentage of missing data. Significant missing data will be replaced or culled. "
   ]
  },
  {
   "cell_type": "code",
   "execution_count": 40,
   "metadata": {},
   "outputs": [
    {
     "name": "stdout",
     "output_type": "stream",
     "text": [
      "Movie Gross: (3387, 5) title                0\n",
      "studio               5\n",
      "domestic_gross      28\n",
      "foreign_gross     1350\n",
      "year                 0\n",
      "dtype: int64\n",
      "Name Basics: (606648, 6) nconst                     0\n",
      "primary_name               0\n",
      "birth_year            523912\n",
      "death_year            599865\n",
      "primary_profession     51340\n",
      "known_for_titles       30204\n",
      "dtype: int64\n",
      "Title AKAs: (331703, 8) title_id                  0\n",
      "ordering                  0\n",
      "title                     0\n",
      "region                53293\n",
      "language             289988\n",
      "types                163256\n",
      "attributes           316778\n",
      "is_original_title        25\n",
      "dtype: int64\n",
      "Title Basics: (146144, 6) tconst                 0\n",
      "primary_title          0\n",
      "original_title        21\n",
      "start_year             0\n",
      "runtime_minutes    31739\n",
      "genres              5408\n",
      "dtype: int64\n",
      "Title Crew: (146144, 3) tconst           0\n",
      "directors     5727\n",
      "writers      35883\n",
      "dtype: int64\n",
      "Title Principals: (1028186, 6) tconst             0\n",
      "ordering           0\n",
      "nconst             0\n",
      "category           0\n",
      "job           850502\n",
      "characters    634826\n",
      "dtype: int64\n",
      "Title Ratings: (73856, 3) tconst           0\n",
      "averagerating    0\n",
      "numvotes         0\n",
      "dtype: int64\n",
      "Movie Info: (1560, 12) id                 0\n",
      "synopsis          62\n",
      "rating             3\n",
      "genre              8\n",
      "director         199\n",
      "writer           449\n",
      "theater_date     359\n",
      "dvd_date         359\n",
      "currency        1220\n",
      "box_office      1220\n",
      "runtime           30\n",
      "studio          1066\n",
      "dtype: int64\n",
      "Movies: (26517, 10) Unnamed: 0           0\n",
      "genre_ids            0\n",
      "id                   0\n",
      "original_language    0\n",
      "original_title       0\n",
      "popularity           0\n",
      "release_date         0\n",
      "title                0\n",
      "vote_average         0\n",
      "vote_count           0\n",
      "dtype: int64\n",
      "Movie Budgets: (5782, 6) id                   0\n",
      "release_date         0\n",
      "movie                0\n",
      "production_budget    0\n",
      "domestic_gross       0\n",
      "worldwide_gross      0\n",
      "dtype: int64\n"
     ]
    }
   ],
   "source": [
    "print(f'Movie Gross:', \n",
    "      MGrawdf.shape,\n",
    "      MGrawdf.isnull().sum())\n",
    "print(f'Name Basics:', \n",
    "      NBrawdf.shape,\n",
    "      NBrawdf.isnull().sum())\n",
    "print(f'Title AKAs:', \n",
    "      TArawdf.shape,\n",
    "      TArawdf.isnull().sum())\n",
    "print(f'Title Basics:', \n",
    "      TBrawdf.shape,\n",
    "      TBrawdf.isnull().sum())\n",
    "print(f'Title Crew:', \n",
    "      TCrawdf.shape,\n",
    "      TCrawdf.isnull().sum())\n",
    "print(f'Title Principals:', \n",
    "      TPrawdf.shape,\n",
    "      TPrawdf.isnull().sum())\n",
    "print(f'Title Ratings:', \n",
    "      TRrawdf.shape,\n",
    "      TRrawdf.isnull().sum())\n",
    "print(f'Movie Info:', \n",
    "      MIrawdf.shape,\n",
    "      MIrawdf.isnull().sum())\n",
    "print(f'Movies:', \n",
    "      Mrawdf.shape,\n",
    "      Mrawdf.isnull().sum())\n",
    "print(f'Movie Budgets:', \n",
    "      MBrawdf.shape,\n",
    "      MBrawdf.isnull().sum())"
   ]
  },
  {
   "cell_type": "markdown",
   "metadata": {},
   "source": [
    "Now to look at the columns present in each table in anticipation of merges; replace or delete null values and delete unnecessary columns."
   ]
  },
  {
   "cell_type": "code",
   "execution_count": 36,
   "metadata": {},
   "outputs": [
    {
     "name": "stdout",
     "output_type": "stream",
     "text": [
      "Movie Gross: title                0\n",
      "studio               5\n",
      "domestic_gross      28\n",
      "foreign_gross     1350\n",
      "year                 0\n",
      "dtype: int64 (3387, 5)\n"
     ]
    }
   ],
   "source": [
    "# MGdf = bom.movie_gross.csv.gz\n",
    "# Look at Movie Gross first\n",
    "print(f'Movie Gross:', \n",
    "      MGrawdf.isnull().sum(),\n",
    "     MGrawdf.shape)"
   ]
  },
  {
   "cell_type": "code",
   "execution_count": 6,
   "metadata": {},
   "outputs": [
    {
     "name": "stdout",
     "output_type": "stream",
     "text": [
      "0.15\n"
     ]
    }
   ],
   "source": [
    "# Find the percentage of missing values:\n",
    "# Sum of null values divided by total instances\n",
    "# multiply by 100 to get %\n",
    "NullStudio = (MGrawdf['studio'].isnull().sum()\n",
    "               / len(MGrawdf)) * 100\n",
    "\n",
    "# Make a readable statement to express the percentage of missing values.\n",
    "print(round(NullStudio, 2))"
   ]
  },
  {
   "cell_type": "code",
   "execution_count": 7,
   "metadata": {},
   "outputs": [
    {
     "name": "stdout",
     "output_type": "stream",
     "text": [
      "0.83\n",
      "39.86\n"
     ]
    }
   ],
   "source": [
    "# Find percentage for remaining nulls\n",
    "NullDG = (MGrawdf['domestic_gross'].isnull().sum()\n",
    "               / len(MGrawdf)) * 100\n",
    "print(round(NullDG, 2))\n",
    "\n",
    "NullFG = (MGrawdf['foreign_gross'].isnull().sum()\n",
    "               / len(MGrawdf)) * 100\n",
    "print(round(NullFG, 2))"
   ]
  },
  {
   "cell_type": "code",
   "execution_count": 8,
   "metadata": {},
   "outputs": [],
   "source": [
    "# Formula to shorten time for other columns\n",
    "def NullPer(column, df):\n",
    "    PercentNull = (df[column].isnull().sum()\n",
    "                   / len(df)) * 100\n",
    "    return print(f'Null Percentage',(column),(round(PercentNull, 2)))"
   ]
  },
  {
   "cell_type": "code",
   "execution_count": 9,
   "metadata": {},
   "outputs": [
    {
     "name": "stdout",
     "output_type": "stream",
     "text": [
      "Null Percentage domestic_gross 0.83\n",
      "Null Percentage foreign_gross 39.86\n"
     ]
    }
   ],
   "source": [
    "# Run test to see if values match from above\n",
    "NullPer('domestic_gross', MGrawdf)\n",
    "NullPer('foreign_gross', MGrawdf)"
   ]
  },
  {
   "cell_type": "markdown",
   "metadata": {},
   "source": [
    "Within Movie Gross, columns stuido and domestic_gross are under 1%, so removing the missing values are the best to clean the data and keep the remaining column data; df.dropna(subset=['column']). \n",
    "\n",
    "Unfortunately, foreign_gross has nearly 40% of missing values. Becuase we are unsure if the data is missing, or if the film never opened in foreign markets, we should remove the entire column. If we could pull the data from another table or website, then we may be able to assign $0 value to those movies that never made it to foreign markets and assign true missing and null values respectfully. Alas, we will delete the column due to data availability using df.drop('foreign_gross', 1)."
   ]
  },
  {
   "cell_type": "code",
   "execution_count": 18,
   "metadata": {},
   "outputs": [
    {
     "name": "stdout",
     "output_type": "stream",
     "text": [
      "Null Percentage studio 0.0\n",
      "Null Percentage domestic_gross 0.0\n",
      "Null Percentage foreign_gross 40.2\n",
      "Movie Gross: (3356, 5) title                0\n",
      "studio               0\n",
      "domestic_gross       0\n",
      "foreign_gross     1349\n",
      "year                 0\n",
      "dtype: int64\n"
     ]
    }
   ],
   "source": [
    "# remove null values from dataframe\n",
    "MGdf = MGrawdf.dropna(subset=['studio', 'domestic_gross'])\n",
    "\n",
    "# check null values were dropped\n",
    "NullPer('studio', MGdf)\n",
    "NullPer('domestic_gross', MGdf)\n",
    "NullPer('foreign_gross', MGdf)\n",
    "\n",
    "# double check change in shape\n",
    "print(f'Movie Gross:', \n",
    "      MGdf.shape,\n",
    "      MGdf.isnull().sum())"
   ]
  },
  {
   "cell_type": "markdown",
   "metadata": {},
   "source": [
    "Due to missing data being removed from stuido and domestic_gross, altering the overall data shape, the percentage for foreign_gross changed slightly. \n",
    "\n",
    "Now to remove the foreign_gross column. "
   ]
  },
  {
   "cell_type": "code",
   "execution_count": 34,
   "metadata": {
    "scrolled": true
   },
   "outputs": [
    {
     "ename": "KeyError",
     "evalue": "\"['foreign_gross'] not found in axis\"",
     "output_type": "error",
     "traceback": [
      "\u001b[0;31m---------------------------------------------------------------------------\u001b[0m",
      "\u001b[0;31mKeyError\u001b[0m                                  Traceback (most recent call last)",
      "\u001b[0;32m<ipython-input-34-2a365f31c914>\u001b[0m in \u001b[0;36m<module>\u001b[0;34m\u001b[0m\n\u001b[1;32m      1\u001b[0m \u001b[0;31m# Remove foreign_gross column\u001b[0m\u001b[0;34m\u001b[0m\u001b[0;34m\u001b[0m\u001b[0;34m\u001b[0m\u001b[0m\n\u001b[0;32m----> 2\u001b[0;31m \u001b[0mMGdf\u001b[0m \u001b[0;34m=\u001b[0m \u001b[0mMGdf\u001b[0m\u001b[0;34m.\u001b[0m\u001b[0mdrop\u001b[0m\u001b[0;34m(\u001b[0m\u001b[0;34m'foreign_gross'\u001b[0m\u001b[0;34m,\u001b[0m \u001b[0;36m1\u001b[0m\u001b[0;34m)\u001b[0m\u001b[0;34m\u001b[0m\u001b[0;34m\u001b[0m\u001b[0m\n\u001b[0m\u001b[1;32m      3\u001b[0m \u001b[0;34m\u001b[0m\u001b[0m\n\u001b[1;32m      4\u001b[0m \u001b[0;31m# double check change in shape\u001b[0m\u001b[0;34m\u001b[0m\u001b[0;34m\u001b[0m\u001b[0;34m\u001b[0m\u001b[0m\n\u001b[1;32m      5\u001b[0m print(f'Movie Gross:',\n",
      "\u001b[0;32m/opt/anaconda3/envs/learn-env/lib/python3.8/site-packages/pandas/core/frame.py\u001b[0m in \u001b[0;36mdrop\u001b[0;34m(self, labels, axis, index, columns, level, inplace, errors)\u001b[0m\n\u001b[1;32m   4161\u001b[0m                 \u001b[0mweight\u001b[0m  \u001b[0;36m1.0\u001b[0m     \u001b[0;36m0.8\u001b[0m\u001b[0;34m\u001b[0m\u001b[0;34m\u001b[0m\u001b[0m\n\u001b[1;32m   4162\u001b[0m         \"\"\"\n\u001b[0;32m-> 4163\u001b[0;31m         return super().drop(\n\u001b[0m\u001b[1;32m   4164\u001b[0m             \u001b[0mlabels\u001b[0m\u001b[0;34m=\u001b[0m\u001b[0mlabels\u001b[0m\u001b[0;34m,\u001b[0m\u001b[0;34m\u001b[0m\u001b[0;34m\u001b[0m\u001b[0m\n\u001b[1;32m   4165\u001b[0m             \u001b[0maxis\u001b[0m\u001b[0;34m=\u001b[0m\u001b[0maxis\u001b[0m\u001b[0;34m,\u001b[0m\u001b[0;34m\u001b[0m\u001b[0;34m\u001b[0m\u001b[0m\n",
      "\u001b[0;32m/opt/anaconda3/envs/learn-env/lib/python3.8/site-packages/pandas/core/generic.py\u001b[0m in \u001b[0;36mdrop\u001b[0;34m(self, labels, axis, index, columns, level, inplace, errors)\u001b[0m\n\u001b[1;32m   3885\u001b[0m         \u001b[0;32mfor\u001b[0m \u001b[0maxis\u001b[0m\u001b[0;34m,\u001b[0m \u001b[0mlabels\u001b[0m \u001b[0;32min\u001b[0m \u001b[0maxes\u001b[0m\u001b[0;34m.\u001b[0m\u001b[0mitems\u001b[0m\u001b[0;34m(\u001b[0m\u001b[0;34m)\u001b[0m\u001b[0;34m:\u001b[0m\u001b[0;34m\u001b[0m\u001b[0;34m\u001b[0m\u001b[0m\n\u001b[1;32m   3886\u001b[0m             \u001b[0;32mif\u001b[0m \u001b[0mlabels\u001b[0m \u001b[0;32mis\u001b[0m \u001b[0;32mnot\u001b[0m \u001b[0;32mNone\u001b[0m\u001b[0;34m:\u001b[0m\u001b[0;34m\u001b[0m\u001b[0;34m\u001b[0m\u001b[0m\n\u001b[0;32m-> 3887\u001b[0;31m                 \u001b[0mobj\u001b[0m \u001b[0;34m=\u001b[0m \u001b[0mobj\u001b[0m\u001b[0;34m.\u001b[0m\u001b[0m_drop_axis\u001b[0m\u001b[0;34m(\u001b[0m\u001b[0mlabels\u001b[0m\u001b[0;34m,\u001b[0m \u001b[0maxis\u001b[0m\u001b[0;34m,\u001b[0m \u001b[0mlevel\u001b[0m\u001b[0;34m=\u001b[0m\u001b[0mlevel\u001b[0m\u001b[0;34m,\u001b[0m \u001b[0merrors\u001b[0m\u001b[0;34m=\u001b[0m\u001b[0merrors\u001b[0m\u001b[0;34m)\u001b[0m\u001b[0;34m\u001b[0m\u001b[0;34m\u001b[0m\u001b[0m\n\u001b[0m\u001b[1;32m   3888\u001b[0m \u001b[0;34m\u001b[0m\u001b[0m\n\u001b[1;32m   3889\u001b[0m         \u001b[0;32mif\u001b[0m \u001b[0minplace\u001b[0m\u001b[0;34m:\u001b[0m\u001b[0;34m\u001b[0m\u001b[0;34m\u001b[0m\u001b[0m\n",
      "\u001b[0;32m/opt/anaconda3/envs/learn-env/lib/python3.8/site-packages/pandas/core/generic.py\u001b[0m in \u001b[0;36m_drop_axis\u001b[0;34m(self, labels, axis, level, errors)\u001b[0m\n\u001b[1;32m   3919\u001b[0m                 \u001b[0mnew_axis\u001b[0m \u001b[0;34m=\u001b[0m \u001b[0maxis\u001b[0m\u001b[0;34m.\u001b[0m\u001b[0mdrop\u001b[0m\u001b[0;34m(\u001b[0m\u001b[0mlabels\u001b[0m\u001b[0;34m,\u001b[0m \u001b[0mlevel\u001b[0m\u001b[0;34m=\u001b[0m\u001b[0mlevel\u001b[0m\u001b[0;34m,\u001b[0m \u001b[0merrors\u001b[0m\u001b[0;34m=\u001b[0m\u001b[0merrors\u001b[0m\u001b[0;34m)\u001b[0m\u001b[0;34m\u001b[0m\u001b[0;34m\u001b[0m\u001b[0m\n\u001b[1;32m   3920\u001b[0m             \u001b[0;32melse\u001b[0m\u001b[0;34m:\u001b[0m\u001b[0;34m\u001b[0m\u001b[0;34m\u001b[0m\u001b[0m\n\u001b[0;32m-> 3921\u001b[0;31m                 \u001b[0mnew_axis\u001b[0m \u001b[0;34m=\u001b[0m \u001b[0maxis\u001b[0m\u001b[0;34m.\u001b[0m\u001b[0mdrop\u001b[0m\u001b[0;34m(\u001b[0m\u001b[0mlabels\u001b[0m\u001b[0;34m,\u001b[0m \u001b[0merrors\u001b[0m\u001b[0;34m=\u001b[0m\u001b[0merrors\u001b[0m\u001b[0;34m)\u001b[0m\u001b[0;34m\u001b[0m\u001b[0;34m\u001b[0m\u001b[0m\n\u001b[0m\u001b[1;32m   3922\u001b[0m             \u001b[0mresult\u001b[0m \u001b[0;34m=\u001b[0m \u001b[0mself\u001b[0m\u001b[0;34m.\u001b[0m\u001b[0mreindex\u001b[0m\u001b[0;34m(\u001b[0m\u001b[0;34m**\u001b[0m\u001b[0;34m{\u001b[0m\u001b[0maxis_name\u001b[0m\u001b[0;34m:\u001b[0m \u001b[0mnew_axis\u001b[0m\u001b[0;34m}\u001b[0m\u001b[0;34m)\u001b[0m\u001b[0;34m\u001b[0m\u001b[0;34m\u001b[0m\u001b[0m\n\u001b[1;32m   3923\u001b[0m \u001b[0;34m\u001b[0m\u001b[0m\n",
      "\u001b[0;32m/opt/anaconda3/envs/learn-env/lib/python3.8/site-packages/pandas/core/indexes/base.py\u001b[0m in \u001b[0;36mdrop\u001b[0;34m(self, labels, errors)\u001b[0m\n\u001b[1;32m   5280\u001b[0m         \u001b[0;32mif\u001b[0m \u001b[0mmask\u001b[0m\u001b[0;34m.\u001b[0m\u001b[0many\u001b[0m\u001b[0;34m(\u001b[0m\u001b[0;34m)\u001b[0m\u001b[0;34m:\u001b[0m\u001b[0;34m\u001b[0m\u001b[0;34m\u001b[0m\u001b[0m\n\u001b[1;32m   5281\u001b[0m             \u001b[0;32mif\u001b[0m \u001b[0merrors\u001b[0m \u001b[0;34m!=\u001b[0m \u001b[0;34m\"ignore\"\u001b[0m\u001b[0;34m:\u001b[0m\u001b[0;34m\u001b[0m\u001b[0;34m\u001b[0m\u001b[0m\n\u001b[0;32m-> 5282\u001b[0;31m                 \u001b[0;32mraise\u001b[0m \u001b[0mKeyError\u001b[0m\u001b[0;34m(\u001b[0m\u001b[0;34mf\"{labels[mask]} not found in axis\"\u001b[0m\u001b[0;34m)\u001b[0m\u001b[0;34m\u001b[0m\u001b[0;34m\u001b[0m\u001b[0m\n\u001b[0m\u001b[1;32m   5283\u001b[0m             \u001b[0mindexer\u001b[0m \u001b[0;34m=\u001b[0m \u001b[0mindexer\u001b[0m\u001b[0;34m[\u001b[0m\u001b[0;34m~\u001b[0m\u001b[0mmask\u001b[0m\u001b[0;34m]\u001b[0m\u001b[0;34m\u001b[0m\u001b[0;34m\u001b[0m\u001b[0m\n\u001b[1;32m   5284\u001b[0m         \u001b[0;32mreturn\u001b[0m \u001b[0mself\u001b[0m\u001b[0;34m.\u001b[0m\u001b[0mdelete\u001b[0m\u001b[0;34m(\u001b[0m\u001b[0mindexer\u001b[0m\u001b[0;34m)\u001b[0m\u001b[0;34m\u001b[0m\u001b[0;34m\u001b[0m\u001b[0m\n",
      "\u001b[0;31mKeyError\u001b[0m: \"['foreign_gross'] not found in axis\""
     ]
    }
   ],
   "source": [
    "# Remove foreign_gross column\n",
    "MGdf = MGdf.drop('foreign_gross', 1)\n",
    "\n",
    "# double check change in shape\n",
    "print(f'Movie Gross:',\n",
    "      MGdf.isnull().sum(),\n",
    "      MGdf.shape,)"
   ]
  },
  {
   "cell_type": "code",
   "execution_count": 21,
   "metadata": {},
   "outputs": [
    {
     "data": {
      "text/plain": [
       "False"
      ]
     },
     "execution_count": 21,
     "metadata": {},
     "output_type": "execute_result"
    }
   ],
   "source": [
    "# To check and see if any of the data is a duplicate\n",
    "MGdf.duplicated().values.any()"
   ]
  },
  {
   "cell_type": "code",
   "execution_count": 20,
   "metadata": {
    "scrolled": true
   },
   "outputs": [
    {
     "data": {
      "text/html": [
       "<div>\n",
       "<style scoped>\n",
       "    .dataframe tbody tr th:only-of-type {\n",
       "        vertical-align: middle;\n",
       "    }\n",
       "\n",
       "    .dataframe tbody tr th {\n",
       "        vertical-align: top;\n",
       "    }\n",
       "\n",
       "    .dataframe thead th {\n",
       "        text-align: right;\n",
       "    }\n",
       "</style>\n",
       "<table border=\"1\" class=\"dataframe\">\n",
       "  <thead>\n",
       "    <tr style=\"text-align: right;\">\n",
       "      <th></th>\n",
       "      <th>title</th>\n",
       "      <th>studio</th>\n",
       "      <th>domestic_gross</th>\n",
       "      <th>year</th>\n",
       "    </tr>\n",
       "  </thead>\n",
       "  <tbody>\n",
       "    <tr>\n",
       "      <th>0</th>\n",
       "      <td>Toy Story 3</td>\n",
       "      <td>BV</td>\n",
       "      <td>415000000.0</td>\n",
       "      <td>2010</td>\n",
       "    </tr>\n",
       "    <tr>\n",
       "      <th>1</th>\n",
       "      <td>Alice in Wonderland (2010)</td>\n",
       "      <td>BV</td>\n",
       "      <td>334200000.0</td>\n",
       "      <td>2010</td>\n",
       "    </tr>\n",
       "    <tr>\n",
       "      <th>2</th>\n",
       "      <td>Harry Potter and the Deathly Hallows Part 1</td>\n",
       "      <td>WB</td>\n",
       "      <td>296000000.0</td>\n",
       "      <td>2010</td>\n",
       "    </tr>\n",
       "    <tr>\n",
       "      <th>3</th>\n",
       "      <td>Inception</td>\n",
       "      <td>WB</td>\n",
       "      <td>292600000.0</td>\n",
       "      <td>2010</td>\n",
       "    </tr>\n",
       "    <tr>\n",
       "      <th>4</th>\n",
       "      <td>Shrek Forever After</td>\n",
       "      <td>P/DW</td>\n",
       "      <td>238700000.0</td>\n",
       "      <td>2010</td>\n",
       "    </tr>\n",
       "  </tbody>\n",
       "</table>\n",
       "</div>"
      ],
      "text/plain": [
       "                                         title studio  domestic_gross  year\n",
       "0                                  Toy Story 3     BV     415000000.0  2010\n",
       "1                   Alice in Wonderland (2010)     BV     334200000.0  2010\n",
       "2  Harry Potter and the Deathly Hallows Part 1     WB     296000000.0  2010\n",
       "3                                    Inception     WB     292600000.0  2010\n",
       "4                          Shrek Forever After   P/DW     238700000.0  2010"
      ]
     },
     "execution_count": 20,
     "metadata": {},
     "output_type": "execute_result"
    }
   ],
   "source": [
    "MGdf.head()"
   ]
  },
  {
   "cell_type": "markdown",
   "metadata": {},
   "source": [
    "Movie Gross data looks great, so lets move on and see what other work needs to be done. "
   ]
  },
  {
   "cell_type": "code",
   "execution_count": 54,
   "metadata": {
    "scrolled": true
   },
   "outputs": [
    {
     "data": {
      "text/html": [
       "<div>\n",
       "<style scoped>\n",
       "    .dataframe tbody tr th:only-of-type {\n",
       "        vertical-align: middle;\n",
       "    }\n",
       "\n",
       "    .dataframe tbody tr th {\n",
       "        vertical-align: top;\n",
       "    }\n",
       "\n",
       "    .dataframe thead th {\n",
       "        text-align: right;\n",
       "    }\n",
       "</style>\n",
       "<table border=\"1\" class=\"dataframe\">\n",
       "  <thead>\n",
       "    <tr style=\"text-align: right;\">\n",
       "      <th></th>\n",
       "      <th>nconst</th>\n",
       "      <th>primary_name</th>\n",
       "      <th>birth_year</th>\n",
       "      <th>death_year</th>\n",
       "      <th>primary_profession</th>\n",
       "      <th>known_for_titles</th>\n",
       "    </tr>\n",
       "  </thead>\n",
       "  <tbody>\n",
       "    <tr>\n",
       "      <th>0</th>\n",
       "      <td>nm0061671</td>\n",
       "      <td>Mary Ellen Bauder</td>\n",
       "      <td>NaN</td>\n",
       "      <td>NaN</td>\n",
       "      <td>miscellaneous,production_manager,producer</td>\n",
       "      <td>tt0837562,tt2398241,tt0844471,tt0118553</td>\n",
       "    </tr>\n",
       "    <tr>\n",
       "      <th>1</th>\n",
       "      <td>nm0061865</td>\n",
       "      <td>Joseph Bauer</td>\n",
       "      <td>NaN</td>\n",
       "      <td>NaN</td>\n",
       "      <td>composer,music_department,sound_department</td>\n",
       "      <td>tt0896534,tt6791238,tt0287072,tt1682940</td>\n",
       "    </tr>\n",
       "    <tr>\n",
       "      <th>2</th>\n",
       "      <td>nm0062070</td>\n",
       "      <td>Bruce Baum</td>\n",
       "      <td>NaN</td>\n",
       "      <td>NaN</td>\n",
       "      <td>miscellaneous,actor,writer</td>\n",
       "      <td>tt1470654,tt0363631,tt0104030,tt0102898</td>\n",
       "    </tr>\n",
       "    <tr>\n",
       "      <th>3</th>\n",
       "      <td>nm0062195</td>\n",
       "      <td>Axel Baumann</td>\n",
       "      <td>NaN</td>\n",
       "      <td>NaN</td>\n",
       "      <td>camera_department,cinematographer,art_department</td>\n",
       "      <td>tt0114371,tt2004304,tt1618448,tt1224387</td>\n",
       "    </tr>\n",
       "    <tr>\n",
       "      <th>4</th>\n",
       "      <td>nm0062798</td>\n",
       "      <td>Pete Baxter</td>\n",
       "      <td>NaN</td>\n",
       "      <td>NaN</td>\n",
       "      <td>production_designer,art_department,set_decorator</td>\n",
       "      <td>tt0452644,tt0452692,tt3458030,tt2178256</td>\n",
       "    </tr>\n",
       "  </tbody>\n",
       "</table>\n",
       "</div>"
      ],
      "text/plain": [
       "      nconst       primary_name  birth_year  death_year  \\\n",
       "0  nm0061671  Mary Ellen Bauder         NaN         NaN   \n",
       "1  nm0061865       Joseph Bauer         NaN         NaN   \n",
       "2  nm0062070         Bruce Baum         NaN         NaN   \n",
       "3  nm0062195       Axel Baumann         NaN         NaN   \n",
       "4  nm0062798        Pete Baxter         NaN         NaN   \n",
       "\n",
       "                                 primary_profession  \\\n",
       "0         miscellaneous,production_manager,producer   \n",
       "1        composer,music_department,sound_department   \n",
       "2                        miscellaneous,actor,writer   \n",
       "3  camera_department,cinematographer,art_department   \n",
       "4  production_designer,art_department,set_decorator   \n",
       "\n",
       "                          known_for_titles  \n",
       "0  tt0837562,tt2398241,tt0844471,tt0118553  \n",
       "1  tt0896534,tt6791238,tt0287072,tt1682940  \n",
       "2  tt1470654,tt0363631,tt0104030,tt0102898  \n",
       "3  tt0114371,tt2004304,tt1618448,tt1224387  \n",
       "4  tt0452644,tt0452692,tt3458030,tt2178256  "
      ]
     },
     "execution_count": 54,
     "metadata": {},
     "output_type": "execute_result"
    }
   ],
   "source": [
    "# imdb.name.basics.csv.gz\n",
    "NBrawdf.head()"
   ]
  },
  {
   "cell_type": "markdown",
   "metadata": {},
   "source": [
    "Columns birth_year and death_year aren't needed for a merge and are irrevelant data; so we can delete them. \n",
    "\n",
    "The known_for_titles look to be tconst values, which are helpful in combining some of these tables. We will need to get the primary_profession values to assign to each primary_name and nconst value existing, then we can assign the known_for_titles to those rows as well; using df.explode()."
   ]
  },
  {
   "cell_type": "code",
   "execution_count": 55,
   "metadata": {
    "scrolled": true
   },
   "outputs": [
    {
     "data": {
      "text/html": [
       "<div>\n",
       "<style scoped>\n",
       "    .dataframe tbody tr th:only-of-type {\n",
       "        vertical-align: middle;\n",
       "    }\n",
       "\n",
       "    .dataframe tbody tr th {\n",
       "        vertical-align: top;\n",
       "    }\n",
       "\n",
       "    .dataframe thead th {\n",
       "        text-align: right;\n",
       "    }\n",
       "</style>\n",
       "<table border=\"1\" class=\"dataframe\">\n",
       "  <thead>\n",
       "    <tr style=\"text-align: right;\">\n",
       "      <th></th>\n",
       "      <th>nconst</th>\n",
       "      <th>primary_name</th>\n",
       "      <th>primary_profession</th>\n",
       "      <th>known_for_titles</th>\n",
       "    </tr>\n",
       "  </thead>\n",
       "  <tbody>\n",
       "    <tr>\n",
       "      <th>0</th>\n",
       "      <td>nm0061671</td>\n",
       "      <td>Mary Ellen Bauder</td>\n",
       "      <td>miscellaneous,production_manager,producer</td>\n",
       "      <td>tt0837562,tt2398241,tt0844471,tt0118553</td>\n",
       "    </tr>\n",
       "    <tr>\n",
       "      <th>1</th>\n",
       "      <td>nm0061865</td>\n",
       "      <td>Joseph Bauer</td>\n",
       "      <td>composer,music_department,sound_department</td>\n",
       "      <td>tt0896534,tt6791238,tt0287072,tt1682940</td>\n",
       "    </tr>\n",
       "    <tr>\n",
       "      <th>2</th>\n",
       "      <td>nm0062070</td>\n",
       "      <td>Bruce Baum</td>\n",
       "      <td>miscellaneous,actor,writer</td>\n",
       "      <td>tt1470654,tt0363631,tt0104030,tt0102898</td>\n",
       "    </tr>\n",
       "    <tr>\n",
       "      <th>3</th>\n",
       "      <td>nm0062195</td>\n",
       "      <td>Axel Baumann</td>\n",
       "      <td>camera_department,cinematographer,art_department</td>\n",
       "      <td>tt0114371,tt2004304,tt1618448,tt1224387</td>\n",
       "    </tr>\n",
       "    <tr>\n",
       "      <th>4</th>\n",
       "      <td>nm0062798</td>\n",
       "      <td>Pete Baxter</td>\n",
       "      <td>production_designer,art_department,set_decorator</td>\n",
       "      <td>tt0452644,tt0452692,tt3458030,tt2178256</td>\n",
       "    </tr>\n",
       "  </tbody>\n",
       "</table>\n",
       "</div>"
      ],
      "text/plain": [
       "      nconst       primary_name  \\\n",
       "0  nm0061671  Mary Ellen Bauder   \n",
       "1  nm0061865       Joseph Bauer   \n",
       "2  nm0062070         Bruce Baum   \n",
       "3  nm0062195       Axel Baumann   \n",
       "4  nm0062798        Pete Baxter   \n",
       "\n",
       "                                 primary_profession  \\\n",
       "0         miscellaneous,production_manager,producer   \n",
       "1        composer,music_department,sound_department   \n",
       "2                        miscellaneous,actor,writer   \n",
       "3  camera_department,cinematographer,art_department   \n",
       "4  production_designer,art_department,set_decorator   \n",
       "\n",
       "                          known_for_titles  \n",
       "0  tt0837562,tt2398241,tt0844471,tt0118553  \n",
       "1  tt0896534,tt6791238,tt0287072,tt1682940  \n",
       "2  tt1470654,tt0363631,tt0104030,tt0102898  \n",
       "3  tt0114371,tt2004304,tt1618448,tt1224387  \n",
       "4  tt0452644,tt0452692,tt3458030,tt2178256  "
      ]
     },
     "execution_count": 55,
     "metadata": {},
     "output_type": "execute_result"
    }
   ],
   "source": [
    "# Delete birth_year, death_year and assign new df\n",
    "NBDdf = NBrawdf.drop(columns=['birth_year', 'death_year'])\n",
    "NBDdf.head()"
   ]
  },
  {
   "cell_type": "code",
   "execution_count": 56,
   "metadata": {},
   "outputs": [
    {
     "name": "stdout",
     "output_type": "stream",
     "text": [
      "Null Percentage nconst 0.0\n",
      "Null Percentage primary_name 0.0\n",
      "Null Percentage primary_profession 8.46\n",
      "Null Percentage known_for_titles 4.98\n",
      "(606648, 4)\n"
     ]
    }
   ],
   "source": [
    "# To check each column for null values\n",
    "NullPer('nconst', NBDdf)\n",
    "NullPer('primary_name', NBDdf)\n",
    "NullPer('primary_profession', NBDdf)\n",
    "NullPer('known_for_titles', NBDdf)\n",
    "\n",
    "# To see overall shape\n",
    "print(NBDdf.shape)"
   ]
  },
  {
   "cell_type": "code",
   "execution_count": 57,
   "metadata": {},
   "outputs": [],
   "source": [
    "# Removing the null values from columns\n",
    "NBDdf = NBDdf.dropna(subset=['primary_profession', 'known_for_titles'])"
   ]
  },
  {
   "cell_type": "code",
   "execution_count": 58,
   "metadata": {},
   "outputs": [
    {
     "name": "stdout",
     "output_type": "stream",
     "text": [
      "Raw Name Basics: (606648, 6) nconst                     0\n",
      "primary_name               0\n",
      "birth_year            523912\n",
      "death_year            599865\n",
      "primary_profession     51340\n",
      "known_for_titles       30204\n",
      "dtype: int64\n",
      "                                \n",
      "Null Percentage nconst 0.0\n",
      "Null Percentage primary_name 0.0\n",
      "Null Percentage primary_profession 0.0\n",
      "Null Percentage known_for_titles 0.0\n",
      "                                \n",
      "Name Basics: (535137, 4) nconst                0\n",
      "primary_name          0\n",
      "primary_profession    0\n",
      "known_for_titles      0\n",
      "dtype: int64\n"
     ]
    }
   ],
   "source": [
    "# To check the raw shape, before null \n",
    "# columns and values are removed\n",
    "print(f'Raw Name Basics:', \n",
    "      NBrawdf.shape,\n",
    "      NBrawdf.isnull().sum()),\n",
    "print(\"                                \")\n",
    "# To check each column for null values\n",
    "NullPer('nconst', NBDdf)\n",
    "NullPer('primary_name', NBDdf)\n",
    "NullPer('primary_profession', NBDdf)\n",
    "NullPer('known_for_titles', NBDdf)\n",
    "print(\"                                \")\n",
    "# Print to see what data has been lost\n",
    "print(f'Name Basics:', \n",
    "      NBDdf.shape,\n",
    "      NBDdf.isnull().sum())\n"
   ]
  },
  {
   "cell_type": "markdown",
   "metadata": {},
   "source": [
    "From the shape comparison of Raw Name Basics and Name Basics, you can see that birth_year and death_year has been successfully removed and I've lost 71,511 enteries. Farewell null data!"
   ]
  },
  {
   "cell_type": "code",
   "execution_count": 59,
   "metadata": {},
   "outputs": [
    {
     "data": {
      "text/html": [
       "<div>\n",
       "<style scoped>\n",
       "    .dataframe tbody tr th:only-of-type {\n",
       "        vertical-align: middle;\n",
       "    }\n",
       "\n",
       "    .dataframe tbody tr th {\n",
       "        vertical-align: top;\n",
       "    }\n",
       "\n",
       "    .dataframe thead th {\n",
       "        text-align: right;\n",
       "    }\n",
       "</style>\n",
       "<table border=\"1\" class=\"dataframe\">\n",
       "  <thead>\n",
       "    <tr style=\"text-align: right;\">\n",
       "      <th></th>\n",
       "      <th>nconst</th>\n",
       "      <th>primary_name</th>\n",
       "      <th>primary_profession</th>\n",
       "      <th>known_for_titles</th>\n",
       "    </tr>\n",
       "  </thead>\n",
       "  <tbody>\n",
       "    <tr>\n",
       "      <th>0</th>\n",
       "      <td>nm0061671</td>\n",
       "      <td>Mary Ellen Bauder</td>\n",
       "      <td>miscellaneous,production_manager,producer</td>\n",
       "      <td>tt0837562,tt2398241,tt0844471,tt0118553</td>\n",
       "    </tr>\n",
       "    <tr>\n",
       "      <th>1</th>\n",
       "      <td>nm0061865</td>\n",
       "      <td>Joseph Bauer</td>\n",
       "      <td>composer,music_department,sound_department</td>\n",
       "      <td>tt0896534,tt6791238,tt0287072,tt1682940</td>\n",
       "    </tr>\n",
       "    <tr>\n",
       "      <th>2</th>\n",
       "      <td>nm0062070</td>\n",
       "      <td>Bruce Baum</td>\n",
       "      <td>miscellaneous,actor,writer</td>\n",
       "      <td>tt1470654,tt0363631,tt0104030,tt0102898</td>\n",
       "    </tr>\n",
       "    <tr>\n",
       "      <th>3</th>\n",
       "      <td>nm0062195</td>\n",
       "      <td>Axel Baumann</td>\n",
       "      <td>camera_department,cinematographer,art_department</td>\n",
       "      <td>tt0114371,tt2004304,tt1618448,tt1224387</td>\n",
       "    </tr>\n",
       "    <tr>\n",
       "      <th>4</th>\n",
       "      <td>nm0062798</td>\n",
       "      <td>Pete Baxter</td>\n",
       "      <td>production_designer,art_department,set_decorator</td>\n",
       "      <td>tt0452644,tt0452692,tt3458030,tt2178256</td>\n",
       "    </tr>\n",
       "  </tbody>\n",
       "</table>\n",
       "</div>"
      ],
      "text/plain": [
       "      nconst       primary_name  \\\n",
       "0  nm0061671  Mary Ellen Bauder   \n",
       "1  nm0061865       Joseph Bauer   \n",
       "2  nm0062070         Bruce Baum   \n",
       "3  nm0062195       Axel Baumann   \n",
       "4  nm0062798        Pete Baxter   \n",
       "\n",
       "                                 primary_profession  \\\n",
       "0         miscellaneous,production_manager,producer   \n",
       "1        composer,music_department,sound_department   \n",
       "2                        miscellaneous,actor,writer   \n",
       "3  camera_department,cinematographer,art_department   \n",
       "4  production_designer,art_department,set_decorator   \n",
       "\n",
       "                          known_for_titles  \n",
       "0  tt0837562,tt2398241,tt0844471,tt0118553  \n",
       "1  tt0896534,tt6791238,tt0287072,tt1682940  \n",
       "2  tt1470654,tt0363631,tt0104030,tt0102898  \n",
       "3  tt0114371,tt2004304,tt1618448,tt1224387  \n",
       "4  tt0452644,tt0452692,tt3458030,tt2178256  "
      ]
     },
     "execution_count": 59,
     "metadata": {},
     "output_type": "execute_result"
    }
   ],
   "source": [
    "NBDdf.head()"
   ]
  },
  {
   "cell_type": "markdown",
   "metadata": {},
   "source": [
    "Data within primary_profession and known_for_titles has multiple enteries per entry within nconst and primary_name. To access the data and combine it with other tables, the data needs to be separately assinged, using str.split() and .explode()."
   ]
  },
  {
   "cell_type": "code",
   "execution_count": 60,
   "metadata": {
    "scrolled": true
   },
   "outputs": [
    {
     "data": {
      "text/html": [
       "<div>\n",
       "<style scoped>\n",
       "    .dataframe tbody tr th:only-of-type {\n",
       "        vertical-align: middle;\n",
       "    }\n",
       "\n",
       "    .dataframe tbody tr th {\n",
       "        vertical-align: top;\n",
       "    }\n",
       "\n",
       "    .dataframe thead th {\n",
       "        text-align: right;\n",
       "    }\n",
       "</style>\n",
       "<table border=\"1\" class=\"dataframe\">\n",
       "  <thead>\n",
       "    <tr style=\"text-align: right;\">\n",
       "      <th></th>\n",
       "      <th>nconst</th>\n",
       "      <th>primary_name</th>\n",
       "      <th>primary_profession</th>\n",
       "      <th>known_for_titles</th>\n",
       "    </tr>\n",
       "  </thead>\n",
       "  <tbody>\n",
       "    <tr>\n",
       "      <th>0</th>\n",
       "      <td>nm0061671</td>\n",
       "      <td>Mary Ellen Bauder</td>\n",
       "      <td>[miscellaneous, production_manager, producer]</td>\n",
       "      <td>[tt0837562, tt2398241, tt0844471, tt0118553]</td>\n",
       "    </tr>\n",
       "    <tr>\n",
       "      <th>1</th>\n",
       "      <td>nm0061865</td>\n",
       "      <td>Joseph Bauer</td>\n",
       "      <td>[composer, music_department, sound_department]</td>\n",
       "      <td>[tt0896534, tt6791238, tt0287072, tt1682940]</td>\n",
       "    </tr>\n",
       "    <tr>\n",
       "      <th>2</th>\n",
       "      <td>nm0062070</td>\n",
       "      <td>Bruce Baum</td>\n",
       "      <td>[miscellaneous, actor, writer]</td>\n",
       "      <td>[tt1470654, tt0363631, tt0104030, tt0102898]</td>\n",
       "    </tr>\n",
       "    <tr>\n",
       "      <th>3</th>\n",
       "      <td>nm0062195</td>\n",
       "      <td>Axel Baumann</td>\n",
       "      <td>[camera_department, cinematographer, art_depar...</td>\n",
       "      <td>[tt0114371, tt2004304, tt1618448, tt1224387]</td>\n",
       "    </tr>\n",
       "    <tr>\n",
       "      <th>4</th>\n",
       "      <td>nm0062798</td>\n",
       "      <td>Pete Baxter</td>\n",
       "      <td>[production_designer, art_department, set_deco...</td>\n",
       "      <td>[tt0452644, tt0452692, tt3458030, tt2178256]</td>\n",
       "    </tr>\n",
       "  </tbody>\n",
       "</table>\n",
       "</div>"
      ],
      "text/plain": [
       "      nconst       primary_name  \\\n",
       "0  nm0061671  Mary Ellen Bauder   \n",
       "1  nm0061865       Joseph Bauer   \n",
       "2  nm0062070         Bruce Baum   \n",
       "3  nm0062195       Axel Baumann   \n",
       "4  nm0062798        Pete Baxter   \n",
       "\n",
       "                                  primary_profession  \\\n",
       "0      [miscellaneous, production_manager, producer]   \n",
       "1     [composer, music_department, sound_department]   \n",
       "2                     [miscellaneous, actor, writer]   \n",
       "3  [camera_department, cinematographer, art_depar...   \n",
       "4  [production_designer, art_department, set_deco...   \n",
       "\n",
       "                               known_for_titles  \n",
       "0  [tt0837562, tt2398241, tt0844471, tt0118553]  \n",
       "1  [tt0896534, tt6791238, tt0287072, tt1682940]  \n",
       "2  [tt1470654, tt0363631, tt0104030, tt0102898]  \n",
       "3  [tt0114371, tt2004304, tt1618448, tt1224387]  \n",
       "4  [tt0452644, tt0452692, tt3458030, tt2178256]  "
      ]
     },
     "execution_count": 60,
     "metadata": {},
     "output_type": "execute_result"
    }
   ],
   "source": [
    "# Seperating the strings within columns by \",\" and replacing\n",
    "# the columns within the same df.\n",
    "NBDdf[\"primary_profession\"] = NBDdf[\"primary_profession\"].str.split(\",\")\n",
    "NBDdf[\"known_for_titles\"] = NBDdf[\"known_for_titles\"].str.split(\",\")\n",
    "NBDdf.head()"
   ]
  },
  {
   "cell_type": "code",
   "execution_count": null,
   "metadata": {},
   "outputs": [],
   "source": [
    "# Assigning a new df to explode the first column\n",
    "NBDEdf = NBDdf.explode(\"primary_profession\")"
   ]
  },
  {
   "cell_type": "markdown",
   "metadata": {},
   "source": [
    "# Select ONLY writer and director within primary_profession before going forward!"
   ]
  },
  {
   "cell_type": "markdown",
   "metadata": {},
   "source": [
    "# HOW?! \n",
    "## REMOVE MISCELLANEOUS FROM COLUMN VALUES"
   ]
  },
  {
   "cell_type": "markdown",
   "metadata": {},
   "source": [
    "Data from Name Basics has been cleaned, althought we will mostly likely locate only desired professions in future extrapolations. "
   ]
  },
  {
   "cell_type": "code",
   "execution_count": 92,
   "metadata": {
    "scrolled": true
   },
   "outputs": [
    {
     "data": {
      "text/plain": [
       "array(['miscellaneous', 'miscellaneous', 'miscellaneous', ..., 'director',\n",
       "       'actor', 'writer'], dtype=object)"
      ]
     },
     "execution_count": 92,
     "metadata": {},
     "output_type": "execute_result"
    }
   ],
   "source": [
    "NBdf[\"primary_profession\"].values"
   ]
  },
  {
   "cell_type": "code",
   "execution_count": 97,
   "metadata": {},
   "outputs": [
    {
     "data": {
      "text/plain": [
       "{'actor': [2, 2, 2, 2, 6, 6, 14, 14, 14, 14, 15, 15, 15, 15, 17, 17, 17, 17, 20, 20, 20, 20, 21, 21, 21, 21, 24, 24, 24, 24, 25, 25, 25, 25, 28, 28, 28, 28, 29, 29, 29, 29, 34, 34, 34, 34, 38, 38, 38, 38, 40, 40, 40, 40, 41, 41, 41, 41, 51, 51, 51, 51, 53, 53, 53, 53, 54, 54, 54, 54, 55, 55, 55, 55, 57, 57, 57, 57, 61, 61, 61, 61, 62, 62, 62, 62, 64, 64, 64, 64, 65, 65, 65, 65, 75, 75, 75, 75, 77, 77, ...], 'actress': [9, 9, 9, 9, 19, 19, 19, 19, 27, 27, 27, 27, 32, 32, 32, 32, 36, 36, 36, 36, 37, 37, 37, 37, 43, 43, 43, 43, 46, 46, 46, 46, 49, 49, 49, 49, 58, 58, 58, 58, 60, 60, 60, 60, 67, 67, 67, 67, 68, 68, 68, 68, 70, 70, 70, 70, 95, 95, 95, 97, 97, 97, 97, 120, 120, 120, 120, 123, 123, 123, 123, 124, 124, 124, 124, 129, 129, 129, 129, 130, 130, 136, 136, 136, 136, 159, 159, 159, 160, 160, 160, 160, 175, 175, 175, 175, 178, 178, 178, 178, ...], 'animation_department': [114, 114, 114, 114, 485, 485, 485, 499, 499, 499, 499, 500, 500, 500, 500, 502, 502, 502, 502, 549, 549, 549, 549, 558, 558, 558, 558, 768, 768, 768, 768, 934, 934, 934, 934, 972, 972, 972, 972, 1812, 1812, 1812, 1812, 2034, 2034, 2034, 2034, 2086, 2086, 2086, 2086, 2175, 2175, 2175, 2175, 2228, 2228, 2228, 2228, 2263, 2263, 2263, 2263, 2499, 2499, 2499, 2499, 2631, 2631, 2631, 2631, 2843, 2843, 2843, 2843, 2910, 2910, 2910, 2910, 2933, 2933, 2933, 2933, 2981, 2981, 2981, 2981, 3005, 3005, 3005, 3005, 3424, 3424, 3424, 3424, 3926, 3926, 3926, 3926, 3983, ...], 'art_department': [3, 3, 3, 3, 4, 4, 4, 4, 66, 66, 66, 66, 102, 102, 102, 102, 165, 165, 165, 165, 189, 189, 189, 189, 502, 502, 502, 502, 529, 529, 529, 529, 532, 532, 532, 532, 558, 558, 558, 558, 587, 587, 587, 587, 750, 750, 750, 750, 863, 863, 863, 863, 874, 874, 874, 876, 876, 876, 876, 911, 911, 911, 911, 925, 925, 925, 925, 941, 941, 941, 941, 943, 943, 943, 943, 972, 972, 972, 972, 1108, 1108, 1108, 1108, 1134, 1134, 1134, 1134, 1152, 1152, 1152, 1152, 1155, 1155, 1155, 1155, 1168, 1168, 1168, 1168, 1240, ...], 'art_director': [165, 165, 165, 165, 283, 283, 283, 283, 400, 400, 400, 400, 550, 550, 550, 550, 571, 571, 571, 571, 582, 582, 582, 582, 591, 591, 591, 591, 714, 714, 714, 714, 750, 750, 750, 750, 1015, 1015, 1015, 1015, 1042, 1042, 1042, 1066, 1066, 1066, 1066, 1134, 1134, 1134, 1134, 1168, 1168, 1168, 1168, 1201, 1201, 1201, 1201, 1310, 1310, 1814, 1814, 1814, 1814, 1948, 1948, 1948, 1948, 1974, 1974, 1974, 1974, 2032, 2032, 2032, 2032, 2081, 2081, 2081, 2081, 2150, 2150, 2150, 2150, 2231, 2231, 2231, 2231, 2348, 2348, 2348, 2348, 2401, 2401, 2401, 2401, 2455, 2455, 2455, ...], 'assistant': [22461, 22461, 22461, 22461, 25429, 25429, 27859, 27859, 27859, 27859, 40790, 60188, 60188, 60188, 60188, 64448, 64448, 64448, 64448, 68203, 68203, 68203, 68562, 68562, 78423, 78423, 78423, 78423, 100443, 100443, 100443, 100443, 111475, 111475, 111475, 111475, 114160, 114160, 114160, 114160, 118948, 118948, 118948, 118948, 126646, 126646, 150982, 150982, 150982, 150982, 152069, 152069, 152069, 153817, 153817, 163584, 163584, 171562, 171562, 171562, 171562, 188754, 188754, 188754, 188754, 199564, 199564, 199564, 199564, 205132, 205132, 205132, 205132, 211250, 211250, 211250, 211250, 218177, 226906, 237805, 237805, 243692, 243692, 243692, 243692, 248471, 248471, 248471, 248471, 254490, 254495, 254495, 270159, 270159, 270159, 270159, 271599, 271599, 276315, 276315, ...], 'assistant_director': [31, 31, 31, 31, 84, 84, 84, 84, 90, 90, 90, 90, 110, 110, 110, 110, 121, 121, 121, 121, 124, 124, 124, 124, 143, 143, 143, 143, 154, 154, 154, 154, 212, 212, 212, 212, 215, 215, 215, 215, 220, 220, 220, 220, 222, 222, 222, 222, 231, 231, 231, 231, 273, 273, 273, 273, 307, 307, 307, 307, 309, 309, 309, 309, 314, 314, 314, 314, 330, 330, 330, 330, 351, 351, 351, 351, 377, 377, 377, 377, 395, 395, 395, 395, 436, 436, 436, 436, 458, 458, 458, 458, 460, 460, 460, 460, 474, 474, 474, 474, ...], 'camera_department': [3, 3, 3, 3, 22, 22, 22, 22, 26, 26, 26, 26, 33, 33, 33, 33, 35, 35, 35, 35, 42, 42, 42, 42, 79, 79, 79, 79, 83, 83, 83, 83, 96, 96, 96, 96, 109, 109, 109, 109, 110, 110, 110, 110, 113, 113, 113, 113, 119, 119, 119, 119, 135, 135, 135, 135, 155, 155, 155, 155, 180, 180, 180, 180, 192, 192, 192, 192, 211, 211, 211, 211, 217, 217, 217, 217, 218, 218, 218, 218, 231, 231, 231, 231, 260, 260, 260, 260, 278, 278, 278, 278, 286, 286, 286, 286, 334, 334, 334, 334, ...], 'casting_department': [44, 44, 44, 44, 179, 179, 179, 179, 456, 456, 456, 456, 553, 553, 553, 553, 631, 631, 631, 631, 786, 786, 786, 786, 870, 870, 870, 870, 1052, 1052, 1052, 1052, 1683, 1683, 1683, 1683, 1779, 1779, 1779, 1779, 2162, 2162, 2162, 2162, 2376, 2376, 2376, 2376, 2480, 2480, 2480, 2480, 2529, 2529, 2529, 2529, 2670, 2670, 2670, 2670, 2911, 2911, 2911, 2911, 3143, 3143, 3143, 3143, 3748, 3748, 3748, 3748, 3765, 3765, 3765, 3765, 3907, 3907, 3907, 3907, 4141, 4141, 4141, 4141, 4620, 4620, 4620, 4620, 5031, 5031, 5031, 5031, 5697, 5697, 5697, 5697, 5749, 5749, 5749, 5749, ...], 'casting_director': [179, 179, 179, 179, 263, 263, 263, 263, 356, 356, 367, 367, 367, 367, 389, 389, 389, 389, 456, 456, 456, 456, 519, 519, 519, 519, 910, 910, 910, 910, 994, 994, 994, 994, 1044, 1044, 1044, 1044, 1207, 1207, 1207, 1207, 1892, 1892, 1892, 1892, 2162, 2162, 2162, 2162, 2191, 2191, 2191, 2191, 2557, 2557, 2557, 2557, 2714, 2714, 2714, 2714, 2804, 2804, 2804, 2804, 2911, 2911, 2911, 2911, 3952, 3952, 3952, 3952, 3979, 3979, 3979, 3979, 4400, 4400, 4400, 4400, 5031, 5031, 5031, 5031, 5464, 5464, 5464, 5464, 5571, 5571, 5571, 5571, 5688, 5688, 5688, 5688, 5697, 5697, ...], 'cinematographer': [3, 3, 3, 3, 22, 22, 22, 22, 26, 26, 26, 26, 29, 29, 29, 29, 33, 33, 33, 33, 35, 35, 35, 35, 76, 76, 76, 76, 83, 83, 83, 83, 96, 96, 96, 96, 108, 108, 108, 108, 110, 110, 110, 110, 113, 113, 113, 113, 135, 135, 135, 135, 139, 139, 139, 139, 150, 150, 150, 150, 155, 155, 155, 155, 173, 173, 173, 173, 181, 181, 181, 181, 192, 192, 192, 192, 211, 211, 211, 211, 215, 215, 215, 215, 218, 218, 218, 218, 229, 229, 229, 229, 231, 231, 231, 231, 237, 237, 237, 237, ...], 'composer': [1, 1, 1, 1, 7, 7, 7, 7, 8, 8, 8, 8, 25, 25, 25, 25, 28, 28, 28, 28, 45, 45, 45, 45, 47, 47, 47, 47, 59, 59, 59, 59, 63, 63, 63, 63, 72, 72, 72, 72, 74, 74, 74, 74, 75, 75, 75, 75, 99, 99, 99, 99, 101, 101, 101, 101, 117, 117, 117, 117, 137, 137, 137, 137, 139, 139, 139, 139, 159, 159, 159, 168, 168, 168, 168, 184, 184, 184, 184, 186, 186, 187, 187, 187, 187, 190, 190, 190, 190, 199, 199, 199, 199, 226, 226, 226, 226, 230, 230, 230, ...], 'costume_department': [189, 189, 189, 189, 582, 582, 582, 582, 948, 948, 948, 948, 1034, 1034, 1034, 1034, 2233, 2233, 2233, 2233, 2864, 2864, 2864, 2864, 3275, 3275, 3275, 3275, 4116, 4116, 4116, 4116, 4304, 4304, 4304, 4304, 4702, 4702, 4702, 4702, 5486, 5486, 5486, 5486, 6560, 6560, 6560, 6560, 6568, 6568, 6568, 6568, 6728, 6728, 6728, 6728, 7206, 7206, 7206, 7206, 7938, 7938, 7938, 7938, 8137, 8137, 8137, 8137, 8249, 8249, 8249, 8249, 8367, 8367, 8367, 8367, 9177, 9177, 9177, 9177, 9203, 9203, 9203, 9203, 9967, 9967, 9967, 9967, 10134, 10134, 10134, 10134, 11128, 11128, 11128, 11128, 11260, 11260, 11260, 11260, ...], 'costume_designer': [283, 283, 283, 283, 449, 449, 449, 449, 1034, 1034, 1034, 1034, 1150, 1150, 1150, 1150, 1228, 1228, 1228, 1228, 1814, 1814, 1814, 1814, 2081, 2081, 2081, 2081, 2460, 2460, 2460, 2460, 2864, 2864, 2864, 2864, 3275, 3275, 3275, 3275, 4116, 4116, 4116, 4116, 4172, 4172, 4172, 4172, 4262, 4262, 4262, 4304, 4304, 4304, 4304, 4702, 4702, 4702, 4702, 4767, 4767, 4767, 4767, 4822, 4822, 4822, 4822, 4898, 4898, 4898, 4898, 4980, 4980, 4980, 4980, 5301, 5301, 5433, 5433, 5433, 5433, 5443, 5443, 5443, 5443, 6147, 6147, 6147, 6147, 6521, 6521, 6521, 6521, 7881, 7881, 7881, 7938, 7938, 7938, 7938, ...], 'director': [5, 5, 5, 5, 10, 10, 10, 10, 15, 15, 15, 15, 16, 16, 16, 16, 21, 21, 21, 21, 23, 23, 23, 30, 30, 30, 30, 31, 31, 31, 31, 41, 41, 41, 41, 42, 42, 42, 42, 46, 46, 46, 46, 48, 48, 48, 48, 50, 50, 50, 52, 52, 52, 52, 53, 53, 53, 53, 56, 56, 56, 56, 62, 62, 62, 62, 65, 65, 65, 65, 66, 66, 66, 66, 74, 74, 74, 74, 76, 76, 76, 76, 78, 78, 78, 78, 79, 79, 79, 79, 81, 81, 81, 81, 84, 84, 84, 84, 87, 87, ...], 'editor': [13, 13, 13, 13, 16, 16, 16, 16, 30, 30, 30, 30, 40, 40, 40, 40, 74, 74, 74, 74, 97, 97, 97, 97, 106, 106, 106, 106, 115, 115, 115, 115, 127, 127, 127, 127, 134, 134, 134, 134, 141, 141, 141, 141, 154, 154, 154, 154, 163, 163, 163, 163, 166, 166, 166, 166, 210, 210, 215, 215, 215, 215, 252, 252, 252, 252, 277, 277, 277, 277, 300, 300, 300, 300, 329, 329, 329, 329, 336, 336, 336, 336, 350, 350, 350, 350, 375, 375, 375, 375, 379, 379, 379, 379, 388, 388, 388, 388, 399, 399, ...], 'editorial_department': [13, 13, 13, 13, 16, 16, 16, 16, 40, 40, 40, 40, 134, 134, 134, 134, 158, 158, 158, 158, 163, 163, 163, 163, 285, 285, 285, 285, 300, 300, 300, 300, 329, 329, 329, 329, 336, 336, 336, 336, 350, 350, 350, 350, 366, 366, 366, 366, 399, 399, 399, 399, 412, 412, 412, 412, 421, 421, 421, 421, 467, 467, 467, 467, 481, 481, 481, 481, 543, 543, 543, 543, 545, 545, 545, 545, 557, 557, 557, 557, 651, 651, 651, 651, 712, 712, 712, 712, 729, 729, 729, 729, 779, 779, 779, 779, 795, 795, 795, 795, ...], 'executive': [304, 304, 304, 304, 339, 339, 339, 339, 538, 538, 667, 667, 667, 667, 671, 671, 671, 671, 1008, 1008, 1008, 1008, 1098, 1098, 1098, 1098, 1120, 1120, 1120, 1120, 1237, 1237, 1237, 1237, 1438, 1438, 1438, 1438, 1757, 1757, 1757, 1757, 1896, 1896, 1896, 1896, 2074, 2074, 2074, 2209, 2209, 2209, 2209, 2227, 2227, 2227, 2227, 2357, 2357, 2357, 2357, 2812, 2812, 2812, 2812, 2920, 2920, 2920, 2920, 3187, 3187, 3187, 3499, 3499, 3499, 3499, 3717, 3717, 3717, 3853, 3853, 3853, 3853, 4111, 4111, 4111, 4111, 4153, 4153, 4153, 4153, 4397, 4397, 4397, 4397, 4425, 4425, 4425, 4425, 4470, ...], 'legal': [10395, 10395, 10395, 22965, 22965, 22965, 22965, 28492, 28492, 28492, 28492, 29360, 29360, 29360, 33781, 33781, 33781, 33781, 46797, 46797, 46797, 46797, 51430, 54976, 54976, 54976, 54976, 56229, 56229, 56229, 56229, 59818, 59818, 59818, 59818, 71260, 71260, 71260, 71260, 76326, 84303, 84303, 84303, 84303, 93678, 93678, 93678, 93678, 105130, 105130, 105130, 105130, 113567, 113567, 113567, 113567, 114428, 114428, 114428, 114428, 114641, 114641, 114641, 114641, 115396, 115396, 115396, 115396, 117974, 117974, 117974, 117974, 122166, 122166, 122166, 122166, 122728, 122728, 122728, 122728, 126615, 126615, 126615, 126615, 131234, 131234, 131234, 132507, 132507, 132507, 132507, 134279, 134279, 134279, 134279, 135971, 135971, 135971, 135971, 137889, ...], 'location_management': [80, 80, 80, 80, 207, 207, 207, 207, 217, 217, 217, 217, 341, 341, 341, 341, 377, 377, 377, 377, 480, 480, 480, 480, 576, 576, 576, 576, 614, 614, 614, 614, 778, 778, 778, 778, 822, 822, 822, 822, 1070, 1070, 1070, 1070, 1084, 1084, 1084, 1084, 1094, 1094, 1094, 1094, 1143, 1143, 1143, 1143, 1789, 1789, 1789, 1789, 1949, 1949, 1949, 1949, 2240, 2240, 2240, 2240, 2332, 2332, 2332, 2332, 2702, 2702, 2702, 2702, 2857, 2857, 2857, 2857, 2926, 2926, 2926, 2926, 2930, 2930, 2930, 2930, 3679, 3679, 3679, 3679, 3805, 3805, 3805, 3805, 4073, 4073, 4073, 4073, ...], 'make_up_department': [36, 36, 36, 36, 206, 206, 206, 206, 324, 324, 324, 324, 412, 412, 412, 412, 449, 449, 449, 449, 546, 546, 546, 546, 608, 608, 608, 608, 834, 834, 834, 834, 948, 948, 948, 948, 1188, 1188, 1188, 1188, 1303, 2099, 2099, 2099, 2099, 2223, 2223, 2223, 2223, 3017, 3017, 3017, 3017, 3681, 3681, 3681, 3681, 3789, 3789, 3789, 3789, 3823, 3823, 3823, 3823, 3973, 3973, 3973, 3973, 4039, 4039, 4039, 4039, 4203, 4203, 4203, 4203, 5016, 5016, 5016, 5803, 5803, 5803, 5803, 5951, 5951, 5951, 5951, 5977, 5977, 5977, 5977, 6031, 6031, 6031, 6031, 6133, 6133, 6133, 6133, ...], 'manager': [1011, 1011, 1011, 1011, 2027, 2027, 2027, 2139, 2139, 2139, 2139, 4807, 4807, 4807, 4807, 5742, 5742, 5742, 5742, 6667, 6667, 6667, 6667, 7056, 7056, 7056, 7056, 7515, 7515, 7515, 7515, 7944, 7944, 7944, 7944, 8075, 8075, 8075, 8075, 10691, 10691, 10691, 10691, 11182, 11182, 11182, 11182, 11753, 11753, 11753, 11753, 13070, 13070, 13070, 13070, 14152, 14152, 14152, 14152, 14631, 14631, 14631, 14631, 15911, 15911, 15911, 15911, 16663, 16663, 16663, 16663, 16690, 16690, 16690, 16690, 16961, 16961, 16961, 18422, 18422, 18422, 18422, 19066, 19066, 19066, 19066, 19187, 19187, 19187, 19187, 19197, 19197, 19197, 19197, 19454, 19454, 19454, 19454, 19565, 19565, ...], 'miscellaneous': [0, 0, 0, 0, 2, 2, 2, 2, 5, 5, 5, 5, 9, 9, 9, 9, 12, 12, 12, 12, 13, 13, 13, 13, 14, 14, 14, 14, 18, 18, 18, 18, 27, 27, 27, 27, 35, 35, 35, 35, 39, 39, 39, 39, 50, 50, 50, 56, 56, 56, 56, 60, 60, 60, 60, 70, 70, 70, 70, 73, 73, 73, 73, 76, 76, 76, 76, 77, 77, 77, 77, 88, 88, 88, 88, 109, 109, 109, 109, 122, 122, 122, 122, 124, 124, 124, 124, 145, 145, 145, 145, 147, 147, 147, 147, 154, 154, 154, 154, 158, ...], 'music_department': [1, 1, 1, 1, 8, 8, 8, 8, 47, 47, 47, 47, 57, 57, 57, 57, 59, 59, 59, 59, 72, 72, 72, 72, 75, 75, 75, 75, 98, 98, 98, 98, 99, 99, 99, 99, 137, 137, 137, 137, 168, 168, 168, 168, 184, 184, 184, 184, 187, 187, 187, 187, 190, 190, 190, 190, 230, 230, 230, 230, 238, 238, 238, 238, 253, 253, 253, 253, 259, 259, 259, 259, 342, 342, 342, 342, 350, 350, 350, 350, 372, 372, 372, 372, 376, 376, 376, 376, 378, 378, 378, 378, 393, 393, 393, 393, 424, 424, 424, 424, ...], 'producer': [0, 0, 0, 0, 10, 10, 10, 10, 11, 11, 11, 11, 12, 12, 12, 12, 18, 18, 18, 18, 21, 21, 21, 21, 22, 22, 22, 22, 23, 23, 23, 24, 24, 24, 24, 25, 25, 25, 25, 31, 31, 31, 31, 33, 33, 33, 33, 34, 34, 34, 34, 39, 39, 39, 39, 42, 42, 42, 42, 44, 44, 44, 44, 48, 48, 48, 48, 49, 49, 49, 49, 50, 50, 50, 52, 52, 52, 52, 54, 54, 54, 54, 55, 55, 55, 55, 60, 60, 60, 60, 63, 63, 63, 63, 65, 65, 65, 65, 69, 69, ...], 'production_designer': [4, 4, 4, 4, 86, 86, 86, 86, 165, 165, 165, 165, 189, 189, 189, 189, 283, 283, 283, 283, 449, 449, 449, 449, 550, 550, 550, 550, 571, 571, 571, 571, 582, 582, 582, 582, 591, 591, 591, 591, 714, 714, 714, 714, 750, 750, 750, 750, 911, 911, 911, 911, 925, 925, 925, 925, 941, 941, 941, 941, 1015, 1015, 1015, 1015, 1134, 1134, 1134, 1134, 1152, 1152, 1152, 1152, 1168, 1168, 1168, 1168, 1211, 1211, 1211, 1211, 1228, 1228, 1228, 1228, 1277, 1277, 1277, 1277, 1358, 1358, 1358, 1358, 1586, 1586, 1586, 1586, 1814, 1814, 1814, 1814, ...], 'production_manager': [0, 0, 0, 0, 5, 5, 5, 5, 11, 11, 11, 11, 44, 44, 44, 44, 80, 80, 80, 80, 156, 156, 156, 156, 162, 162, 162, 162, 163, 163, 163, 163, 180, 180, 180, 180, 196, 196, 196, 196, 207, 207, 207, 207, 220, 220, 220, 220, 248, 248, 248, 248, 285, 285, 285, 285, 307, 307, 307, 307, 330, 330, 330, 330, 343, 343, 343, 343, 381, 381, 381, 381, 436, 436, 436, 436, 443, 443, 443, 443, 520, 520, 520, 520, 536, 536, 536, 536, 538, 538, 557, 557, 557, 557, 572, 572, 572, 572, 589, 589, ...], 'publicist': [17956, 54271, 54271, 54271, 54271, 55427, 55427, 55427, 55427, 91768, 91768, 91768, 97473, 97473, 97473, 97473, 99962, 99962, 99962, 99962, 105480, 105480, 105480, 105480, 106847, 106847, 106847, 106847, 121228, 121228, 121228, 121228, 124273, 124273, 124273, 124273, 124576, 133582, 133582, 133582, 145668, 145668, 145668, 145668, 145946, 145946, 145946, 147176, 147176, 147176, 148610, 148610, 148610, 148610, 157900, 157988, 157988, 157988, 157988, 162157, 162157, 162157, 162157, 167350, 167350, 188119, 188119, 188119, 188119, 188923, 188923, 188923, 188923, 197539, 197539, 197539, 197539, 205534, 205534, 205534, 205534, 208582, 208582, 208582, 208582, 209647, 209647, 209647, 209647, 214839, 214839, 216944, 216944, 216944, 216944, 220763, 220763, 220763, 220763, 221666, ...], 'set_decorator': [4, 4, 4, 4, 86, 86, 86, 86, 571, 571, 571, 571, 714, 714, 714, 714, 911, 911, 911, 911, 925, 925, 925, 925, 941, 941, 941, 941, 1152, 1152, 1152, 1152, 1277, 1277, 1277, 1277, 1586, 1586, 1586, 1586, 2543, 2543, 2543, 2543, 2569, 2569, 2569, 2569, 2836, 2836, 2836, 2836, 2867, 2867, 2867, 2986, 2986, 2986, 2986, 3459, 3459, 3459, 3459, 3794, 3794, 3794, 3794, 5028, 5028, 5028, 5028, 5140, 5140, 5140, 5140, 5435, 5435, 5435, 5435, 5551, 5551, 5551, 5551, 5744, 5744, 5744, 5744, 6132, 6132, 6132, 6132, 6147, 6147, 6147, 6147, 6178, 6178, 7362, 7362, 7362, ...], 'sound_department': [1, 1, 1, 1, 45, 45, 45, 45, 47, 47, 47, 47, 72, 72, 72, 72, 97, 97, 97, 97, 134, 134, 134, 134, 184, 184, 184, 184, 191, 191, 191, 191, 399, 399, 399, 399, 412, 412, 412, 412, 417, 417, 417, 417, 421, 421, 421, 421, 429, 429, 429, 429, 442, 442, 442, 442, 467, 467, 467, 467, 651, 651, 651, 651, 675, 675, 675, 675, 727, 727, 727, 727, 729, 729, 729, 729, 732, 732, 732, 732, 765, 765, 765, 765, 777, 777, 777, 777, 783, 783, 783, 783, 808, 808, 808, 808, 824, 824, 824, 824, ...], 'soundtrack': [7, 7, 7, 7, 8, 8, 8, 8, 28, 28, 28, 28, 32, 32, 32, 32, 63, 63, 63, 63, 64, 64, 64, 64, 82, 82, 82, 82, 88, 88, 88, 88, 91, 91, 91, 91, 98, 98, 98, 98, 99, 99, 99, 99, 101, 101, 101, 101, 137, 137, 137, 137, 160, 160, 160, 160, 161, 161, 161, 161, 168, 168, 168, 168, 187, 187, 187, 187, 194, 194, 194, 194, 200, 200, 200, 200, 226, 226, 226, 226, 246, 246, 246, 246, 253, 253, 253, 253, 256, 256, 256, 256, 276, 276, 276, 276, 293, 293, 293, 293, ...], 'special_effects': [29, 29, 29, 29, 102, 102, 102, 102, 206, 206, 206, 206, 247, 247, 247, 247, 438, 438, 438, 438, 546, 546, 546, 546, 608, 608, 608, 608, 1188, 1188, 1188, 1188, 2099, 2099, 2099, 2099, 2238, 2238, 2238, 2238, 2262, 2262, 2262, 2262, 2799, 2799, 2799, 2799, 2815, 2815, 2815, 2815, 3017, 3017, 3017, 3017, 3117, 3117, 3117, 3117, 3681, 3681, 3681, 3681, 3789, 3789, 3789, 3789, 3955, 3955, 3955, 3955, 3973, 3973, 3973, 3973, 4207, 4207, 4207, 4207, 4677, 4677, 4677, 4677, 4725, 4725, 4725, 4725, 5602, 5602, 5602, 5602, 5951, 5951, 5951, 5951, 5977, 5977, 5977, 5977, ...], 'stunts': [57, 57, 57, 57, 121, 121, 121, 121, 273, 273, 273, 273, 790, 790, 790, 790, 898, 898, 898, 898, 901, 901, 901, 901, 946, 946, 946, 946, 1037, 1037, 1037, 1037, 1133, 1133, 1133, 1133, 1190, 1190, 1190, 1190, 1218, 1218, 1218, 1218, 1588, 1588, 1588, 1588, 1680, 1680, 1680, 1680, 1707, 1707, 1707, 1707, 1759, 1759, 1759, 1759, 2031, 2031, 2031, 2031, 2182, 2182, 2182, 2182, 2272, 2272, 2272, 2272, 2297, 2297, 2297, 2297, 2527, 2527, 2527, 2527, 2542, 2542, 2542, 2542, 2592, 2592, 2592, 2592, 2620, 2620, 2620, 2620, 2704, 2704, 2704, 2704, 2734, 2734, 2734, 2734, ...], 'talent_agent': [2716, 2716, 2716, 3267, 3267, 3267, 3267, 3455, 3455, 3455, 3455, 4141, 4141, 4141, 4141, 5865, 5865, 5865, 5865, 7886, 7886, 7886, 7886, 9198, 9198, 9198, 9198, 9606, 9606, 10448, 10448, 10448, 10448, 10556, 10556, 16521, 16521, 16961, 16961, 16961, 18447, 18447, 18447, 18447, 18551, 18551, 18551, 18551, 19185, 19185, 19185, 19185, 22372, 22372, 22372, 22372, 29168, 29168, 29168, 29168, 36323, 36323, 36323, 36323, 37436, 37436, 37436, 37436, 40893, 40893, 43088, 43088, 43088, 43088, 48114, 48114, 48517, 48517, 48517, 48517, 49198, 49198, 49198, 49198, 49546, 49546, 49546, 49546, 50510, 50510, 50510, 50510, 57010, 57010, 57010, 57010, 57033, 57033, 57033, 57033, ...], 'transportation_department': [413, 413, 413, 413, 4266, 4266, 4266, 4266, 4929, 4929, 4929, 4929, 5643, 5643, 5643, 5643, 6283, 6283, 6283, 6283, 6515, 6515, 6515, 6515, 7510, 7510, 7510, 7510, 9621, 9621, 9621, 9621, 10830, 10830, 13043, 13043, 13043, 13043, 13378, 13378, 13378, 13378, 13778, 13778, 13778, 13778, 15397, 15397, 15397, 15397, 16976, 16976, 16976, 16976, 17125, 17125, 17125, 17125, 17808, 17808, 17808, 17808, 18826, 18826, 18826, 18826, 19235, 19235, 19235, 19235, 20673, 20673, 20673, 20673, 21068, 21068, 21068, 21068, 22759, 22759, 22759, 22759, 22786, 22786, 22786, 22786, 22923, 22923, 22923, 22923, 24610, 24610, 24610, 24610, 26323, 26323, 26323, 26323, 26705, 26705, ...], 'visual_effects': [26, 26, 26, 26, 155, 155, 155, 155, 317, 317, 317, 317, 383, 383, 383, 383, 403, 403, 403, 403, 427, 427, 427, 609, 609, 609, 609, 683, 683, 683, 683, 685, 685, 685, 685, 784, 784, 784, 784, 792, 792, 792, 792, 990, 990, 990, 990, 1015, 1015, 1015, 1015, 1115, 1115, 1115, 1115, 1129, 1129, 1129, 1129, 1189, 1189, 1189, 1189, 1431, 1798, 1798, 1798, 1798, 1812, 1812, 1812, 1812, 1907, 1907, 1907, 1907, 2017, 2017, 2017, 2017, 2129, 2129, 2129, 2129, 2140, 2140, 2140, 2140, 2175, 2175, 2175, 2175, 2204, 2204, 2204, 2204, 2223, 2223, 2223, 2223, ...], 'writer': [2, 2, 2, 2, 10, 10, 10, 10, 12, 12, 12, 12, 15, 15, 15, 15, 18, 18, 18, 18, 23, 23, 23, 30, 30, 30, 30, 34, 34, 34, 34, 39, 39, 39, 39, 41, 41, 41, 41, 46, 46, 46, 46, 48, 48, 48, 48, 49, 49, 49, 49, 52, 52, 52, 52, 53, 53, 53, 53, 56, 56, 56, 56, 62, 62, 62, 62, 66, 66, 66, 66, 71, 71, 71, 71, 78, 78, 78, 78, 79, 79, 79, 79, 81, 81, 81, 81, 84, 84, 84, 84, 85, 85, 85, 85, 87, 87, 87, 87, 92, ...]}"
      ]
     },
     "execution_count": 97,
     "metadata": {},
     "output_type": "execute_result"
    }
   ],
   "source": [
    "NBWdf = NBdf.groupby(\"primary_profession\")\n",
    "NBWdf.groups"
   ]
  },
  {
   "cell_type": "code",
   "execution_count": null,
   "metadata": {},
   "outputs": [],
   "source": [
    "NBdf.groupby(by=[\"primary_profession\"]).sum()\n"
   ]
  },
  {
   "cell_type": "code",
   "execution_count": 73,
   "metadata": {
    "scrolled": true
   },
   "outputs": [
    {
     "ename": "TypeError",
     "evalue": "string indices must be integers",
     "output_type": "error",
     "traceback": [
      "\u001b[0;31m---------------------------------------------------------------------------\u001b[0m",
      "\u001b[0;31mTypeError\u001b[0m                                 Traceback (most recent call last)",
      "\u001b[0;32m<ipython-input-73-0291364602da>\u001b[0m in \u001b[0;36m<module>\u001b[0;34m\u001b[0m\n\u001b[0;32m----> 1\u001b[0;31m \u001b[0mNBdf\u001b[0m\u001b[0;34m.\u001b[0m\u001b[0mloc\u001b[0m\u001b[0;34m[\u001b[0m\u001b[0mNBdf\u001b[0m\u001b[0;34m[\u001b[0m\u001b[0;34m\"primary_profession\"\u001b[0m\u001b[0;34m[\u001b[0m\u001b[0;34m\"miscellaneous\"\u001b[0m\u001b[0;34m]\u001b[0m\u001b[0;34m]\u001b[0m\u001b[0;34m]\u001b[0m\u001b[0;34m\u001b[0m\u001b[0;34m\u001b[0m\u001b[0m\n\u001b[0m",
      "\u001b[0;31mTypeError\u001b[0m: string indices must be integers"
     ]
    }
   ],
   "source": [
    "NBdf.loc[NBdf[\"primary_profession\"[\"miscellaneous\"]]]"
   ]
  },
  {
   "cell_type": "code",
   "execution_count": 68,
   "metadata": {
    "scrolled": true
   },
   "outputs": [
    {
     "ename": "KeyError",
     "evalue": "\"None of [Index(['miscellaneous'], dtype='object')] are in the [index]\"",
     "output_type": "error",
     "traceback": [
      "\u001b[0;31m---------------------------------------------------------------------------\u001b[0m",
      "\u001b[0;31mKeyError\u001b[0m                                  Traceback (most recent call last)",
      "\u001b[0;32m<ipython-input-68-63c0134f0812>\u001b[0m in \u001b[0;36m<module>\u001b[0;34m\u001b[0m\n\u001b[0;32m----> 1\u001b[0;31m \u001b[0mNBdf\u001b[0m\u001b[0;34m[\u001b[0m\u001b[0;34m\"primary_profession\"\u001b[0m\u001b[0;34m]\u001b[0m\u001b[0;34m.\u001b[0m\u001b[0mloc\u001b[0m\u001b[0;34m[\u001b[0m\u001b[0;34m[\u001b[0m\u001b[0;34m'miscellaneous'\u001b[0m\u001b[0;34m]\u001b[0m\u001b[0;34m]\u001b[0m\u001b[0;34m\u001b[0m\u001b[0;34m\u001b[0m\u001b[0m\n\u001b[0m",
      "\u001b[0;32m/opt/anaconda3/envs/learn-env/lib/python3.8/site-packages/pandas/core/indexing.py\u001b[0m in \u001b[0;36m__getitem__\u001b[0;34m(self, key)\u001b[0m\n\u001b[1;32m    877\u001b[0m \u001b[0;34m\u001b[0m\u001b[0m\n\u001b[1;32m    878\u001b[0m             \u001b[0mmaybe_callable\u001b[0m \u001b[0;34m=\u001b[0m \u001b[0mcom\u001b[0m\u001b[0;34m.\u001b[0m\u001b[0mapply_if_callable\u001b[0m\u001b[0;34m(\u001b[0m\u001b[0mkey\u001b[0m\u001b[0;34m,\u001b[0m \u001b[0mself\u001b[0m\u001b[0;34m.\u001b[0m\u001b[0mobj\u001b[0m\u001b[0;34m)\u001b[0m\u001b[0;34m\u001b[0m\u001b[0;34m\u001b[0m\u001b[0m\n\u001b[0;32m--> 879\u001b[0;31m             \u001b[0;32mreturn\u001b[0m \u001b[0mself\u001b[0m\u001b[0;34m.\u001b[0m\u001b[0m_getitem_axis\u001b[0m\u001b[0;34m(\u001b[0m\u001b[0mmaybe_callable\u001b[0m\u001b[0;34m,\u001b[0m \u001b[0maxis\u001b[0m\u001b[0;34m=\u001b[0m\u001b[0maxis\u001b[0m\u001b[0;34m)\u001b[0m\u001b[0;34m\u001b[0m\u001b[0;34m\u001b[0m\u001b[0m\n\u001b[0m\u001b[1;32m    880\u001b[0m \u001b[0;34m\u001b[0m\u001b[0m\n\u001b[1;32m    881\u001b[0m     \u001b[0;32mdef\u001b[0m \u001b[0m_is_scalar_access\u001b[0m\u001b[0;34m(\u001b[0m\u001b[0mself\u001b[0m\u001b[0;34m,\u001b[0m \u001b[0mkey\u001b[0m\u001b[0;34m:\u001b[0m \u001b[0mTuple\u001b[0m\u001b[0;34m)\u001b[0m\u001b[0;34m:\u001b[0m\u001b[0;34m\u001b[0m\u001b[0;34m\u001b[0m\u001b[0m\n",
      "\u001b[0;32m/opt/anaconda3/envs/learn-env/lib/python3.8/site-packages/pandas/core/indexing.py\u001b[0m in \u001b[0;36m_getitem_axis\u001b[0;34m(self, key, axis)\u001b[0m\n\u001b[1;32m   1097\u001b[0m                     \u001b[0;32mraise\u001b[0m \u001b[0mValueError\u001b[0m\u001b[0;34m(\u001b[0m\u001b[0;34m\"Cannot index with multidimensional key\"\u001b[0m\u001b[0;34m)\u001b[0m\u001b[0;34m\u001b[0m\u001b[0;34m\u001b[0m\u001b[0m\n\u001b[1;32m   1098\u001b[0m \u001b[0;34m\u001b[0m\u001b[0m\n\u001b[0;32m-> 1099\u001b[0;31m                 \u001b[0;32mreturn\u001b[0m \u001b[0mself\u001b[0m\u001b[0;34m.\u001b[0m\u001b[0m_getitem_iterable\u001b[0m\u001b[0;34m(\u001b[0m\u001b[0mkey\u001b[0m\u001b[0;34m,\u001b[0m \u001b[0maxis\u001b[0m\u001b[0;34m=\u001b[0m\u001b[0maxis\u001b[0m\u001b[0;34m)\u001b[0m\u001b[0;34m\u001b[0m\u001b[0;34m\u001b[0m\u001b[0m\n\u001b[0m\u001b[1;32m   1100\u001b[0m \u001b[0;34m\u001b[0m\u001b[0m\n\u001b[1;32m   1101\u001b[0m             \u001b[0;31m# nested tuple slicing\u001b[0m\u001b[0;34m\u001b[0m\u001b[0;34m\u001b[0m\u001b[0;34m\u001b[0m\u001b[0m\n",
      "\u001b[0;32m/opt/anaconda3/envs/learn-env/lib/python3.8/site-packages/pandas/core/indexing.py\u001b[0m in \u001b[0;36m_getitem_iterable\u001b[0;34m(self, key, axis)\u001b[0m\n\u001b[1;32m   1035\u001b[0m \u001b[0;34m\u001b[0m\u001b[0m\n\u001b[1;32m   1036\u001b[0m         \u001b[0;31m# A collection of keys\u001b[0m\u001b[0;34m\u001b[0m\u001b[0;34m\u001b[0m\u001b[0;34m\u001b[0m\u001b[0m\n\u001b[0;32m-> 1037\u001b[0;31m         \u001b[0mkeyarr\u001b[0m\u001b[0;34m,\u001b[0m \u001b[0mindexer\u001b[0m \u001b[0;34m=\u001b[0m \u001b[0mself\u001b[0m\u001b[0;34m.\u001b[0m\u001b[0m_get_listlike_indexer\u001b[0m\u001b[0;34m(\u001b[0m\u001b[0mkey\u001b[0m\u001b[0;34m,\u001b[0m \u001b[0maxis\u001b[0m\u001b[0;34m,\u001b[0m \u001b[0mraise_missing\u001b[0m\u001b[0;34m=\u001b[0m\u001b[0;32mFalse\u001b[0m\u001b[0;34m)\u001b[0m\u001b[0;34m\u001b[0m\u001b[0;34m\u001b[0m\u001b[0m\n\u001b[0m\u001b[1;32m   1038\u001b[0m         return self.obj._reindex_with_indexers(\n\u001b[1;32m   1039\u001b[0m             \u001b[0;34m{\u001b[0m\u001b[0maxis\u001b[0m\u001b[0;34m:\u001b[0m \u001b[0;34m[\u001b[0m\u001b[0mkeyarr\u001b[0m\u001b[0;34m,\u001b[0m \u001b[0mindexer\u001b[0m\u001b[0;34m]\u001b[0m\u001b[0;34m}\u001b[0m\u001b[0;34m,\u001b[0m \u001b[0mcopy\u001b[0m\u001b[0;34m=\u001b[0m\u001b[0;32mTrue\u001b[0m\u001b[0;34m,\u001b[0m \u001b[0mallow_dups\u001b[0m\u001b[0;34m=\u001b[0m\u001b[0;32mTrue\u001b[0m\u001b[0;34m\u001b[0m\u001b[0;34m\u001b[0m\u001b[0m\n",
      "\u001b[0;32m/opt/anaconda3/envs/learn-env/lib/python3.8/site-packages/pandas/core/indexing.py\u001b[0m in \u001b[0;36m_get_listlike_indexer\u001b[0;34m(self, key, axis, raise_missing)\u001b[0m\n\u001b[1;32m   1252\u001b[0m             \u001b[0mkeyarr\u001b[0m\u001b[0;34m,\u001b[0m \u001b[0mindexer\u001b[0m\u001b[0;34m,\u001b[0m \u001b[0mnew_indexer\u001b[0m \u001b[0;34m=\u001b[0m \u001b[0max\u001b[0m\u001b[0;34m.\u001b[0m\u001b[0m_reindex_non_unique\u001b[0m\u001b[0;34m(\u001b[0m\u001b[0mkeyarr\u001b[0m\u001b[0;34m)\u001b[0m\u001b[0;34m\u001b[0m\u001b[0;34m\u001b[0m\u001b[0m\n\u001b[1;32m   1253\u001b[0m \u001b[0;34m\u001b[0m\u001b[0m\n\u001b[0;32m-> 1254\u001b[0;31m         \u001b[0mself\u001b[0m\u001b[0;34m.\u001b[0m\u001b[0m_validate_read_indexer\u001b[0m\u001b[0;34m(\u001b[0m\u001b[0mkeyarr\u001b[0m\u001b[0;34m,\u001b[0m \u001b[0mindexer\u001b[0m\u001b[0;34m,\u001b[0m \u001b[0maxis\u001b[0m\u001b[0;34m,\u001b[0m \u001b[0mraise_missing\u001b[0m\u001b[0;34m=\u001b[0m\u001b[0mraise_missing\u001b[0m\u001b[0;34m)\u001b[0m\u001b[0;34m\u001b[0m\u001b[0;34m\u001b[0m\u001b[0m\n\u001b[0m\u001b[1;32m   1255\u001b[0m         \u001b[0;32mreturn\u001b[0m \u001b[0mkeyarr\u001b[0m\u001b[0;34m,\u001b[0m \u001b[0mindexer\u001b[0m\u001b[0;34m\u001b[0m\u001b[0;34m\u001b[0m\u001b[0m\n\u001b[1;32m   1256\u001b[0m \u001b[0;34m\u001b[0m\u001b[0m\n",
      "\u001b[0;32m/opt/anaconda3/envs/learn-env/lib/python3.8/site-packages/pandas/core/indexing.py\u001b[0m in \u001b[0;36m_validate_read_indexer\u001b[0;34m(self, key, indexer, axis, raise_missing)\u001b[0m\n\u001b[1;32m   1296\u001b[0m             \u001b[0;32mif\u001b[0m \u001b[0mmissing\u001b[0m \u001b[0;34m==\u001b[0m \u001b[0mlen\u001b[0m\u001b[0;34m(\u001b[0m\u001b[0mindexer\u001b[0m\u001b[0;34m)\u001b[0m\u001b[0;34m:\u001b[0m\u001b[0;34m\u001b[0m\u001b[0;34m\u001b[0m\u001b[0m\n\u001b[1;32m   1297\u001b[0m                 \u001b[0maxis_name\u001b[0m \u001b[0;34m=\u001b[0m \u001b[0mself\u001b[0m\u001b[0;34m.\u001b[0m\u001b[0mobj\u001b[0m\u001b[0;34m.\u001b[0m\u001b[0m_get_axis_name\u001b[0m\u001b[0;34m(\u001b[0m\u001b[0maxis\u001b[0m\u001b[0;34m)\u001b[0m\u001b[0;34m\u001b[0m\u001b[0;34m\u001b[0m\u001b[0m\n\u001b[0;32m-> 1298\u001b[0;31m                 \u001b[0;32mraise\u001b[0m \u001b[0mKeyError\u001b[0m\u001b[0;34m(\u001b[0m\u001b[0;34mf\"None of [{key}] are in the [{axis_name}]\"\u001b[0m\u001b[0;34m)\u001b[0m\u001b[0;34m\u001b[0m\u001b[0;34m\u001b[0m\u001b[0m\n\u001b[0m\u001b[1;32m   1299\u001b[0m \u001b[0;34m\u001b[0m\u001b[0m\n\u001b[1;32m   1300\u001b[0m             \u001b[0;31m# We (temporarily) allow for some missing keys with .loc, except in\u001b[0m\u001b[0;34m\u001b[0m\u001b[0;34m\u001b[0m\u001b[0;34m\u001b[0m\u001b[0m\n",
      "\u001b[0;31mKeyError\u001b[0m: \"None of [Index(['miscellaneous'], dtype='object')] are in the [index]\""
     ]
    }
   ],
   "source": [
    "NBdf[\"primary_profession\"].loc[['miscellaneous']]"
   ]
  },
  {
   "cell_type": "code",
   "execution_count": 61,
   "metadata": {
    "scrolled": true
   },
   "outputs": [
    {
     "data": {
      "text/html": [
       "<div>\n",
       "<style scoped>\n",
       "    .dataframe tbody tr th:only-of-type {\n",
       "        vertical-align: middle;\n",
       "    }\n",
       "\n",
       "    .dataframe tbody tr th {\n",
       "        vertical-align: top;\n",
       "    }\n",
       "\n",
       "    .dataframe thead th {\n",
       "        text-align: right;\n",
       "    }\n",
       "</style>\n",
       "<table border=\"1\" class=\"dataframe\">\n",
       "  <thead>\n",
       "    <tr style=\"text-align: right;\">\n",
       "      <th></th>\n",
       "      <th>nconst</th>\n",
       "      <th>primary_name</th>\n",
       "      <th>primary_profession</th>\n",
       "      <th>known_for_titles</th>\n",
       "    </tr>\n",
       "  </thead>\n",
       "  <tbody>\n",
       "    <tr>\n",
       "      <th>0</th>\n",
       "      <td>nm0061671</td>\n",
       "      <td>Mary Ellen Bauder</td>\n",
       "      <td>miscellaneous</td>\n",
       "      <td>tt0837562</td>\n",
       "    </tr>\n",
       "    <tr>\n",
       "      <th>0</th>\n",
       "      <td>nm0061671</td>\n",
       "      <td>Mary Ellen Bauder</td>\n",
       "      <td>miscellaneous</td>\n",
       "      <td>tt2398241</td>\n",
       "    </tr>\n",
       "    <tr>\n",
       "      <th>0</th>\n",
       "      <td>nm0061671</td>\n",
       "      <td>Mary Ellen Bauder</td>\n",
       "      <td>miscellaneous</td>\n",
       "      <td>tt0844471</td>\n",
       "    </tr>\n",
       "    <tr>\n",
       "      <th>0</th>\n",
       "      <td>nm0061671</td>\n",
       "      <td>Mary Ellen Bauder</td>\n",
       "      <td>miscellaneous</td>\n",
       "      <td>tt0118553</td>\n",
       "    </tr>\n",
       "    <tr>\n",
       "      <th>0</th>\n",
       "      <td>nm0061671</td>\n",
       "      <td>Mary Ellen Bauder</td>\n",
       "      <td>production_manager</td>\n",
       "      <td>tt0837562</td>\n",
       "    </tr>\n",
       "  </tbody>\n",
       "</table>\n",
       "</div>"
      ],
      "text/plain": [
       "      nconst       primary_name  primary_profession known_for_titles\n",
       "0  nm0061671  Mary Ellen Bauder       miscellaneous        tt0837562\n",
       "0  nm0061671  Mary Ellen Bauder       miscellaneous        tt2398241\n",
       "0  nm0061671  Mary Ellen Bauder       miscellaneous        tt0844471\n",
       "0  nm0061671  Mary Ellen Bauder       miscellaneous        tt0118553\n",
       "0  nm0061671  Mary Ellen Bauder  production_manager        tt0837562"
      ]
     },
     "execution_count": 61,
     "metadata": {},
     "output_type": "execute_result"
    }
   ],
   "source": [
    "# Create a new df to assign the secondary column \n",
    "# to previous exploded data to ensure that all\n",
    "# names have professions, and each profession has \n",
    "# a tconst\n",
    "NBdf = NBDEdf.explode(\"known_for_titles\")\n",
    "NBdf.head()"
   ]
  },
  {
   "cell_type": "markdown",
   "metadata": {},
   "source": [
    "We should rename known_for_titles to tconst, since we will use this data later to combine tables, and why wait! Using df.rename({'undesired_column_name': 'desired_column_name'}, axis='columns', inplace = True)."
   ]
  },
  {
   "cell_type": "code",
   "execution_count": 64,
   "metadata": {},
   "outputs": [
    {
     "data": {
      "text/html": [
       "<div>\n",
       "<style scoped>\n",
       "    .dataframe tbody tr th:only-of-type {\n",
       "        vertical-align: middle;\n",
       "    }\n",
       "\n",
       "    .dataframe tbody tr th {\n",
       "        vertical-align: top;\n",
       "    }\n",
       "\n",
       "    .dataframe thead th {\n",
       "        text-align: right;\n",
       "    }\n",
       "</style>\n",
       "<table border=\"1\" class=\"dataframe\">\n",
       "  <thead>\n",
       "    <tr style=\"text-align: right;\">\n",
       "      <th></th>\n",
       "      <th>nconst</th>\n",
       "      <th>primary_name</th>\n",
       "      <th>primary_profession</th>\n",
       "      <th>tconst</th>\n",
       "    </tr>\n",
       "  </thead>\n",
       "  <tbody>\n",
       "    <tr>\n",
       "      <th>0</th>\n",
       "      <td>nm0061671</td>\n",
       "      <td>Mary Ellen Bauder</td>\n",
       "      <td>miscellaneous</td>\n",
       "      <td>tt0837562</td>\n",
       "    </tr>\n",
       "    <tr>\n",
       "      <th>0</th>\n",
       "      <td>nm0061671</td>\n",
       "      <td>Mary Ellen Bauder</td>\n",
       "      <td>miscellaneous</td>\n",
       "      <td>tt2398241</td>\n",
       "    </tr>\n",
       "    <tr>\n",
       "      <th>0</th>\n",
       "      <td>nm0061671</td>\n",
       "      <td>Mary Ellen Bauder</td>\n",
       "      <td>miscellaneous</td>\n",
       "      <td>tt0844471</td>\n",
       "    </tr>\n",
       "    <tr>\n",
       "      <th>0</th>\n",
       "      <td>nm0061671</td>\n",
       "      <td>Mary Ellen Bauder</td>\n",
       "      <td>miscellaneous</td>\n",
       "      <td>tt0118553</td>\n",
       "    </tr>\n",
       "    <tr>\n",
       "      <th>0</th>\n",
       "      <td>nm0061671</td>\n",
       "      <td>Mary Ellen Bauder</td>\n",
       "      <td>production_manager</td>\n",
       "      <td>tt0837562</td>\n",
       "    </tr>\n",
       "  </tbody>\n",
       "</table>\n",
       "</div>"
      ],
      "text/plain": [
       "      nconst       primary_name  primary_profession     tconst\n",
       "0  nm0061671  Mary Ellen Bauder       miscellaneous  tt0837562\n",
       "0  nm0061671  Mary Ellen Bauder       miscellaneous  tt2398241\n",
       "0  nm0061671  Mary Ellen Bauder       miscellaneous  tt0844471\n",
       "0  nm0061671  Mary Ellen Bauder       miscellaneous  tt0118553\n",
       "0  nm0061671  Mary Ellen Bauder  production_manager  tt0837562"
      ]
     },
     "execution_count": 64,
     "metadata": {},
     "output_type": "execute_result"
    }
   ],
   "source": [
    "NBdf.rename({'known_for_titles': 'tconst'}, axis='columns', inplace = True)\n",
    "NBdf.head()"
   ]
  },
  {
   "cell_type": "code",
   "execution_count": 75,
   "metadata": {
    "scrolled": true
   },
   "outputs": [
    {
     "name": "stdout",
     "output_type": "stream",
     "text": [
      "Null Percentage nconst 0.0\n",
      "Null Percentage primary_name 0.0\n",
      "Null Percentage primary_profession 0.0\n",
      "Null Percentage tconst 0.0\n"
     ]
    }
   ],
   "source": [
    "# Double check all null are absent\n",
    "NullPer('nconst', NBdf)\n",
    "NullPer('primary_name', NBdf)\n",
    "NullPer('primary_profession', NBdf)\n",
    "NullPer('tconst', NBdf)"
   ]
  },
  {
   "cell_type": "code",
   "execution_count": null,
   "metadata": {},
   "outputs": [],
   "source": [
    "# nconst will connect to TPdf to pair with each primary_name"
   ]
  },
  {
   "cell_type": "code",
   "execution_count": null,
   "metadata": {},
   "outputs": [],
   "source": [
    "# imdb.title.akas.csv.gz\n",
    "TAdf\n",
    "# I don't think I need this\n",
    "# Delete region, language, types, attributes, is_original_title"
   ]
  },
  {
   "cell_type": "code",
   "execution_count": null,
   "metadata": {},
   "outputs": [],
   "source": [
    "# imdb.title.basics.csv.gz\n",
    "TBdf"
   ]
  },
  {
   "cell_type": "code",
   "execution_count": 78,
   "metadata": {
    "scrolled": true
   },
   "outputs": [
    {
     "data": {
      "text/html": [
       "<div>\n",
       "<style scoped>\n",
       "    .dataframe tbody tr th:only-of-type {\n",
       "        vertical-align: middle;\n",
       "    }\n",
       "\n",
       "    .dataframe tbody tr th {\n",
       "        vertical-align: top;\n",
       "    }\n",
       "\n",
       "    .dataframe thead th {\n",
       "        text-align: right;\n",
       "    }\n",
       "</style>\n",
       "<table border=\"1\" class=\"dataframe\">\n",
       "  <thead>\n",
       "    <tr style=\"text-align: right;\">\n",
       "      <th></th>\n",
       "      <th>tconst</th>\n",
       "      <th>directors</th>\n",
       "      <th>writers</th>\n",
       "    </tr>\n",
       "  </thead>\n",
       "  <tbody>\n",
       "    <tr>\n",
       "      <th>0</th>\n",
       "      <td>tt0285252</td>\n",
       "      <td>nm0899854</td>\n",
       "      <td>nm0899854</td>\n",
       "    </tr>\n",
       "    <tr>\n",
       "      <th>1</th>\n",
       "      <td>tt0438973</td>\n",
       "      <td>NaN</td>\n",
       "      <td>nm0175726,nm1802864</td>\n",
       "    </tr>\n",
       "    <tr>\n",
       "      <th>2</th>\n",
       "      <td>tt0462036</td>\n",
       "      <td>nm1940585</td>\n",
       "      <td>nm1940585</td>\n",
       "    </tr>\n",
       "    <tr>\n",
       "      <th>3</th>\n",
       "      <td>tt0835418</td>\n",
       "      <td>nm0151540</td>\n",
       "      <td>nm0310087,nm0841532</td>\n",
       "    </tr>\n",
       "    <tr>\n",
       "      <th>4</th>\n",
       "      <td>tt0878654</td>\n",
       "      <td>nm0089502,nm2291498,nm2292011</td>\n",
       "      <td>nm0284943</td>\n",
       "    </tr>\n",
       "  </tbody>\n",
       "</table>\n",
       "</div>"
      ],
      "text/plain": [
       "      tconst                      directors              writers\n",
       "0  tt0285252                      nm0899854            nm0899854\n",
       "1  tt0438973                            NaN  nm0175726,nm1802864\n",
       "2  tt0462036                      nm1940585            nm1940585\n",
       "3  tt0835418                      nm0151540  nm0310087,nm0841532\n",
       "4  tt0878654  nm0089502,nm2291498,nm2292011            nm0284943"
      ]
     },
     "execution_count": 78,
     "metadata": {},
     "output_type": "execute_result"
    }
   ],
   "source": [
    "# imdb.title.crew.csv.gz\n",
    "TCrawdf.head()"
   ]
  },
  {
   "cell_type": "markdown",
   "metadata": {},
   "source": [
    "Let's explode directors into new df, and remove null, then writers into new df, removing null, then \n",
    "\n",
    "director and writers are nconst vlaues, and need to be assigned accordinginly to each. So, make new df for each, remove other column, explode, remove null, make new column and assing director or writer respectfully, nconst is new index?"
   ]
  },
  {
   "cell_type": "code",
   "execution_count": 81,
   "metadata": {
    "scrolled": true
   },
   "outputs": [
    {
     "data": {
      "text/html": [
       "<div>\n",
       "<style scoped>\n",
       "    .dataframe tbody tr th:only-of-type {\n",
       "        vertical-align: middle;\n",
       "    }\n",
       "\n",
       "    .dataframe tbody tr th {\n",
       "        vertical-align: top;\n",
       "    }\n",
       "\n",
       "    .dataframe thead th {\n",
       "        text-align: right;\n",
       "    }\n",
       "</style>\n",
       "<table border=\"1\" class=\"dataframe\">\n",
       "  <thead>\n",
       "    <tr style=\"text-align: right;\">\n",
       "      <th></th>\n",
       "      <th>tconst</th>\n",
       "      <th>directors</th>\n",
       "    </tr>\n",
       "  </thead>\n",
       "  <tbody>\n",
       "    <tr>\n",
       "      <th>0</th>\n",
       "      <td>tt0285252</td>\n",
       "      <td>nm0899854</td>\n",
       "    </tr>\n",
       "    <tr>\n",
       "      <th>1</th>\n",
       "      <td>tt0438973</td>\n",
       "      <td>NaN</td>\n",
       "    </tr>\n",
       "    <tr>\n",
       "      <th>2</th>\n",
       "      <td>tt0462036</td>\n",
       "      <td>nm1940585</td>\n",
       "    </tr>\n",
       "    <tr>\n",
       "      <th>3</th>\n",
       "      <td>tt0835418</td>\n",
       "      <td>nm0151540</td>\n",
       "    </tr>\n",
       "    <tr>\n",
       "      <th>4</th>\n",
       "      <td>tt0878654</td>\n",
       "      <td>nm0089502,nm2291498,nm2292011</td>\n",
       "    </tr>\n",
       "  </tbody>\n",
       "</table>\n",
       "</div>"
      ],
      "text/plain": [
       "      tconst                      directors\n",
       "0  tt0285252                      nm0899854\n",
       "1  tt0438973                            NaN\n",
       "2  tt0462036                      nm1940585\n",
       "3  tt0835418                      nm0151540\n",
       "4  tt0878654  nm0089502,nm2291498,nm2292011"
      ]
     },
     "execution_count": 81,
     "metadata": {},
     "output_type": "execute_result"
    }
   ],
   "source": [
    "TCrawDdf = TCrawdf[[\"tconst\", \"directors\"]]\n",
    "TCrawDdf.head()"
   ]
  },
  {
   "cell_type": "code",
   "execution_count": 82,
   "metadata": {
    "scrolled": true
   },
   "outputs": [
    {
     "data": {
      "text/html": [
       "<div>\n",
       "<style scoped>\n",
       "    .dataframe tbody tr th:only-of-type {\n",
       "        vertical-align: middle;\n",
       "    }\n",
       "\n",
       "    .dataframe tbody tr th {\n",
       "        vertical-align: top;\n",
       "    }\n",
       "\n",
       "    .dataframe thead th {\n",
       "        text-align: right;\n",
       "    }\n",
       "</style>\n",
       "<table border=\"1\" class=\"dataframe\">\n",
       "  <thead>\n",
       "    <tr style=\"text-align: right;\">\n",
       "      <th></th>\n",
       "      <th>tconst</th>\n",
       "      <th>writers</th>\n",
       "    </tr>\n",
       "  </thead>\n",
       "  <tbody>\n",
       "    <tr>\n",
       "      <th>0</th>\n",
       "      <td>tt0285252</td>\n",
       "      <td>nm0899854</td>\n",
       "    </tr>\n",
       "    <tr>\n",
       "      <th>1</th>\n",
       "      <td>tt0438973</td>\n",
       "      <td>nm0175726,nm1802864</td>\n",
       "    </tr>\n",
       "    <tr>\n",
       "      <th>2</th>\n",
       "      <td>tt0462036</td>\n",
       "      <td>nm1940585</td>\n",
       "    </tr>\n",
       "    <tr>\n",
       "      <th>3</th>\n",
       "      <td>tt0835418</td>\n",
       "      <td>nm0310087,nm0841532</td>\n",
       "    </tr>\n",
       "    <tr>\n",
       "      <th>4</th>\n",
       "      <td>tt0878654</td>\n",
       "      <td>nm0284943</td>\n",
       "    </tr>\n",
       "  </tbody>\n",
       "</table>\n",
       "</div>"
      ],
      "text/plain": [
       "      tconst              writers\n",
       "0  tt0285252            nm0899854\n",
       "1  tt0438973  nm0175726,nm1802864\n",
       "2  tt0462036            nm1940585\n",
       "3  tt0835418  nm0310087,nm0841532\n",
       "4  tt0878654            nm0284943"
      ]
     },
     "execution_count": 82,
     "metadata": {},
     "output_type": "execute_result"
    }
   ],
   "source": [
    "TCrawWdf = TCrawdf[[\"tconst\", \"writers\"]]\n",
    "TCrawWdf.head()"
   ]
  },
  {
   "cell_type": "code",
   "execution_count": 91,
   "metadata": {},
   "outputs": [
    {
     "ename": "AttributeError",
     "evalue": "Can only use .str accessor with string values!",
     "output_type": "error",
     "traceback": [
      "\u001b[0;31m---------------------------------------------------------------------------\u001b[0m",
      "\u001b[0;31mAttributeError\u001b[0m                            Traceback (most recent call last)",
      "\u001b[0;32m<ipython-input-91-b04293cb4b3c>\u001b[0m in \u001b[0;36m<module>\u001b[0;34m\u001b[0m\n\u001b[1;32m      1\u001b[0m \u001b[0;31m# To remove \",\" and split data\u001b[0m\u001b[0;34m\u001b[0m\u001b[0;34m\u001b[0m\u001b[0;34m\u001b[0m\u001b[0m\n\u001b[0;32m----> 2\u001b[0;31m \u001b[0mTCrawDdf\u001b[0m\u001b[0;34m[\u001b[0m\u001b[0;34m\"directors\"\u001b[0m\u001b[0;34m]\u001b[0m \u001b[0;34m=\u001b[0m \u001b[0mTCrawDdf\u001b[0m\u001b[0;34m[\u001b[0m\u001b[0;34m\"directors\"\u001b[0m\u001b[0;34m]\u001b[0m\u001b[0;34m.\u001b[0m\u001b[0mstr\u001b[0m\u001b[0;34m.\u001b[0m\u001b[0msplit\u001b[0m\u001b[0;34m(\u001b[0m\u001b[0;34m\",\"\u001b[0m\u001b[0;34m)\u001b[0m\u001b[0;34m\u001b[0m\u001b[0;34m\u001b[0m\u001b[0m\n\u001b[0m\u001b[1;32m      3\u001b[0m \u001b[0mTCrawWdf\u001b[0m\u001b[0;34m[\u001b[0m\u001b[0;34m\"writers\"\u001b[0m\u001b[0;34m]\u001b[0m \u001b[0;34m=\u001b[0m \u001b[0mTCrawWdf\u001b[0m\u001b[0;34m[\u001b[0m\u001b[0;34m\"writers\"\u001b[0m\u001b[0;34m]\u001b[0m\u001b[0;34m.\u001b[0m\u001b[0mstr\u001b[0m\u001b[0;34m.\u001b[0m\u001b[0msplit\u001b[0m\u001b[0;34m(\u001b[0m\u001b[0;34m\",\"\u001b[0m\u001b[0;34m)\u001b[0m\u001b[0;34m\u001b[0m\u001b[0;34m\u001b[0m\u001b[0m\n\u001b[1;32m      4\u001b[0m \u001b[0;34m\u001b[0m\u001b[0m\n\u001b[1;32m      5\u001b[0m \u001b[0;31m# To explode data from columns and apply to tconst\u001b[0m\u001b[0;34m\u001b[0m\u001b[0;34m\u001b[0m\u001b[0;34m\u001b[0m\u001b[0m\n",
      "\u001b[0;32m/opt/anaconda3/envs/learn-env/lib/python3.8/site-packages/pandas/core/generic.py\u001b[0m in \u001b[0;36m__getattr__\u001b[0;34m(self, name)\u001b[0m\n\u001b[1;32m   5133\u001b[0m             \u001b[0;32mor\u001b[0m \u001b[0mname\u001b[0m \u001b[0;32min\u001b[0m \u001b[0mself\u001b[0m\u001b[0;34m.\u001b[0m\u001b[0m_accessors\u001b[0m\u001b[0;34m\u001b[0m\u001b[0;34m\u001b[0m\u001b[0m\n\u001b[1;32m   5134\u001b[0m         ):\n\u001b[0;32m-> 5135\u001b[0;31m             \u001b[0;32mreturn\u001b[0m \u001b[0mobject\u001b[0m\u001b[0;34m.\u001b[0m\u001b[0m__getattribute__\u001b[0m\u001b[0;34m(\u001b[0m\u001b[0mself\u001b[0m\u001b[0;34m,\u001b[0m \u001b[0mname\u001b[0m\u001b[0;34m)\u001b[0m\u001b[0;34m\u001b[0m\u001b[0;34m\u001b[0m\u001b[0m\n\u001b[0m\u001b[1;32m   5136\u001b[0m         \u001b[0;32melse\u001b[0m\u001b[0;34m:\u001b[0m\u001b[0;34m\u001b[0m\u001b[0;34m\u001b[0m\u001b[0m\n\u001b[1;32m   5137\u001b[0m             \u001b[0;32mif\u001b[0m \u001b[0mself\u001b[0m\u001b[0;34m.\u001b[0m\u001b[0m_info_axis\u001b[0m\u001b[0;34m.\u001b[0m\u001b[0m_can_hold_identifiers_and_holds_name\u001b[0m\u001b[0;34m(\u001b[0m\u001b[0mname\u001b[0m\u001b[0;34m)\u001b[0m\u001b[0;34m:\u001b[0m\u001b[0;34m\u001b[0m\u001b[0;34m\u001b[0m\u001b[0m\n",
      "\u001b[0;32m/opt/anaconda3/envs/learn-env/lib/python3.8/site-packages/pandas/core/accessor.py\u001b[0m in \u001b[0;36m__get__\u001b[0;34m(self, obj, cls)\u001b[0m\n\u001b[1;32m    185\u001b[0m             \u001b[0;31m# we're accessing the attribute of the class, i.e., Dataset.geo\u001b[0m\u001b[0;34m\u001b[0m\u001b[0;34m\u001b[0m\u001b[0;34m\u001b[0m\u001b[0m\n\u001b[1;32m    186\u001b[0m             \u001b[0;32mreturn\u001b[0m \u001b[0mself\u001b[0m\u001b[0;34m.\u001b[0m\u001b[0m_accessor\u001b[0m\u001b[0;34m\u001b[0m\u001b[0;34m\u001b[0m\u001b[0m\n\u001b[0;32m--> 187\u001b[0;31m         \u001b[0maccessor_obj\u001b[0m \u001b[0;34m=\u001b[0m \u001b[0mself\u001b[0m\u001b[0;34m.\u001b[0m\u001b[0m_accessor\u001b[0m\u001b[0;34m(\u001b[0m\u001b[0mobj\u001b[0m\u001b[0;34m)\u001b[0m\u001b[0;34m\u001b[0m\u001b[0;34m\u001b[0m\u001b[0m\n\u001b[0m\u001b[1;32m    188\u001b[0m         \u001b[0;31m# Replace the property with the accessor object. Inspired by:\u001b[0m\u001b[0;34m\u001b[0m\u001b[0;34m\u001b[0m\u001b[0;34m\u001b[0m\u001b[0m\n\u001b[1;32m    189\u001b[0m         \u001b[0;31m# https://www.pydanny.com/cached-property.html\u001b[0m\u001b[0;34m\u001b[0m\u001b[0;34m\u001b[0m\u001b[0;34m\u001b[0m\u001b[0m\n",
      "\u001b[0;32m/opt/anaconda3/envs/learn-env/lib/python3.8/site-packages/pandas/core/strings.py\u001b[0m in \u001b[0;36m__init__\u001b[0;34m(self, data)\u001b[0m\n\u001b[1;32m   2098\u001b[0m \u001b[0;34m\u001b[0m\u001b[0m\n\u001b[1;32m   2099\u001b[0m     \u001b[0;32mdef\u001b[0m \u001b[0m__init__\u001b[0m\u001b[0;34m(\u001b[0m\u001b[0mself\u001b[0m\u001b[0;34m,\u001b[0m \u001b[0mdata\u001b[0m\u001b[0;34m)\u001b[0m\u001b[0;34m:\u001b[0m\u001b[0;34m\u001b[0m\u001b[0;34m\u001b[0m\u001b[0m\n\u001b[0;32m-> 2100\u001b[0;31m         \u001b[0mself\u001b[0m\u001b[0;34m.\u001b[0m\u001b[0m_inferred_dtype\u001b[0m \u001b[0;34m=\u001b[0m \u001b[0mself\u001b[0m\u001b[0;34m.\u001b[0m\u001b[0m_validate\u001b[0m\u001b[0;34m(\u001b[0m\u001b[0mdata\u001b[0m\u001b[0;34m)\u001b[0m\u001b[0;34m\u001b[0m\u001b[0;34m\u001b[0m\u001b[0m\n\u001b[0m\u001b[1;32m   2101\u001b[0m         \u001b[0mself\u001b[0m\u001b[0;34m.\u001b[0m\u001b[0m_is_categorical\u001b[0m \u001b[0;34m=\u001b[0m \u001b[0mis_categorical_dtype\u001b[0m\u001b[0;34m(\u001b[0m\u001b[0mdata\u001b[0m\u001b[0;34m.\u001b[0m\u001b[0mdtype\u001b[0m\u001b[0;34m)\u001b[0m\u001b[0;34m\u001b[0m\u001b[0;34m\u001b[0m\u001b[0m\n\u001b[1;32m   2102\u001b[0m         \u001b[0mself\u001b[0m\u001b[0;34m.\u001b[0m\u001b[0m_is_string\u001b[0m \u001b[0;34m=\u001b[0m \u001b[0mdata\u001b[0m\u001b[0;34m.\u001b[0m\u001b[0mdtype\u001b[0m\u001b[0;34m.\u001b[0m\u001b[0mname\u001b[0m \u001b[0;34m==\u001b[0m \u001b[0;34m\"string\"\u001b[0m\u001b[0;34m\u001b[0m\u001b[0;34m\u001b[0m\u001b[0m\n",
      "\u001b[0;32m/opt/anaconda3/envs/learn-env/lib/python3.8/site-packages/pandas/core/strings.py\u001b[0m in \u001b[0;36m_validate\u001b[0;34m(data)\u001b[0m\n\u001b[1;32m   2155\u001b[0m \u001b[0;34m\u001b[0m\u001b[0m\n\u001b[1;32m   2156\u001b[0m         \u001b[0;32mif\u001b[0m \u001b[0minferred_dtype\u001b[0m \u001b[0;32mnot\u001b[0m \u001b[0;32min\u001b[0m \u001b[0mallowed_types\u001b[0m\u001b[0;34m:\u001b[0m\u001b[0;34m\u001b[0m\u001b[0;34m\u001b[0m\u001b[0m\n\u001b[0;32m-> 2157\u001b[0;31m             \u001b[0;32mraise\u001b[0m \u001b[0mAttributeError\u001b[0m\u001b[0;34m(\u001b[0m\u001b[0;34m\"Can only use .str accessor with string values!\"\u001b[0m\u001b[0;34m)\u001b[0m\u001b[0;34m\u001b[0m\u001b[0;34m\u001b[0m\u001b[0m\n\u001b[0m\u001b[1;32m   2158\u001b[0m         \u001b[0;32mreturn\u001b[0m \u001b[0minferred_dtype\u001b[0m\u001b[0;34m\u001b[0m\u001b[0;34m\u001b[0m\u001b[0m\n\u001b[1;32m   2159\u001b[0m \u001b[0;34m\u001b[0m\u001b[0m\n",
      "\u001b[0;31mAttributeError\u001b[0m: Can only use .str accessor with string values!"
     ]
    }
   ],
   "source": [
    "# To remove \",\" and split data\n",
    "TCrawDdf[\"directors\"] = TCrawDdf[\"directors\"].str.split(\",\")\n",
    "TCrawWdf[\"writers\"] = TCrawWdf[\"writers\"].str.split(\",\")\n",
    "\n",
    "# To explode data from columns and apply to tconst\n",
    "TCrawDEdf = TCrawDdf.explode(\"directors\")\n",
    "TCrawWEdf = TCrawWdf.explode(\"writers\")\n",
    "\n",
    "TCrawDEdf.head()\n"
   ]
  },
  {
   "cell_type": "code",
   "execution_count": null,
   "metadata": {},
   "outputs": [],
   "source": [
    "# imdb.title.principals.csv.gz\n",
    "TPdf"
   ]
  },
  {
   "cell_type": "code",
   "execution_count": null,
   "metadata": {},
   "outputs": [],
   "source": [
    "# imdb.title.ratings.csv.gz\n",
    "TRdf"
   ]
  },
  {
   "cell_type": "code",
   "execution_count": null,
   "metadata": {},
   "outputs": [],
   "source": [
    "# rt.movie_info.tsv.gz\n",
    "MIdf.keys()"
   ]
  },
  {
   "cell_type": "code",
   "execution_count": null,
   "metadata": {},
   "outputs": [],
   "source": [
    "# tmdb.movies.csv.gz\n",
    "Mdf\n",
    "# rm Unnamed, original_language, original_title (most likely), vote_average, vote_count"
   ]
  },
  {
   "cell_type": "code",
   "execution_count": null,
   "metadata": {
    "scrolled": false
   },
   "outputs": [],
   "source": [
    "# tn.movie_budgets.csv.gz\n",
    "MBrawdf\n",
    "# change movie to title, Delete id (maybe)"
   ]
  },
  {
   "cell_type": "code",
   "execution_count": null,
   "metadata": {},
   "outputs": [],
   "source": [
    "MBrawdf.columns"
   ]
  },
  {
   "cell_type": "code",
   "execution_count": null,
   "metadata": {},
   "outputs": [],
   "source": [
    "MBrawdf.rename({'movie': 'primary_title'}, axis='columns', inplace = True)\n",
    "MBrawdf"
   ]
  },
  {
   "cell_type": "code",
   "execution_count": null,
   "metadata": {},
   "outputs": [],
   "source": [
    "MB_TBdf.loc[MB_TBdf['primary_title'] == \"Avatar\"]"
   ]
  },
  {
   "cell_type": "code",
   "execution_count": null,
   "metadata": {},
   "outputs": [],
   "source": [
    "MGdf = MGrawdf.dropna(subset=['studio', 'domestic_gross'])"
   ]
  },
  {
   "cell_type": "code",
   "execution_count": null,
   "metadata": {},
   "outputs": [],
   "source": [
    "MB_TBdf = MBrawdf.merge(TBrawdf, how='right', on='primary_title')\n",
    "MB_TBdf.dropna(subset=['production_budget', 'domestic_gross', 'worldwide_gross'], inplace = True)\n",
    "\n",
    "MB_TBdf"
   ]
  },
  {
   "cell_type": "code",
   "execution_count": null,
   "metadata": {},
   "outputs": [],
   "source": [
    "MB_TBdf.shape"
   ]
  },
  {
   "cell_type": "code",
   "execution_count": null,
   "metadata": {},
   "outputs": [],
   "source": [
    "# Split and Explode for genre, \n",
    "# GROUPBY genre\n",
    "# Find ROI with new column as formula"
   ]
  },
  {
   "cell_type": "code",
   "execution_count": null,
   "metadata": {},
   "outputs": [],
   "source": [
    "# https://pandas.pydata.org/pandas-docs/stable/reference/api/pandas.DataFrame.groupby.html#pandas.DataFrame.groupby\n",
    "\n"
   ]
  },
  {
   "cell_type": "code",
   "execution_count": 76,
   "metadata": {
    "scrolled": false
   },
   "outputs": [
    {
     "name": "stdout",
     "output_type": "stream",
     "text": [
      "Movie Gross: Index(['title', 'studio', 'domestic_gross', 'year'], dtype='object')\n",
      "Name Basics: Index(['nconst', 'primary_name', 'primary_profession', 'tconst'], dtype='object')\n"
     ]
    },
    {
     "ename": "NameError",
     "evalue": "name 'TAdf' is not defined",
     "output_type": "error",
     "traceback": [
      "\u001b[0;31m---------------------------------------------------------------------------\u001b[0m",
      "\u001b[0;31mNameError\u001b[0m                                 Traceback (most recent call last)",
      "\u001b[0;32m<ipython-input-76-f526db88ceea>\u001b[0m in \u001b[0;36m<module>\u001b[0;34m\u001b[0m\n\u001b[1;32m      2\u001b[0m \u001b[0mprint\u001b[0m\u001b[0;34m(\u001b[0m\u001b[0;34mf'Movie Gross:'\u001b[0m\u001b[0;34m,\u001b[0m \u001b[0mMGdf\u001b[0m\u001b[0;34m.\u001b[0m\u001b[0mkeys\u001b[0m\u001b[0;34m(\u001b[0m\u001b[0;34m)\u001b[0m\u001b[0;34m)\u001b[0m\u001b[0;34m\u001b[0m\u001b[0;34m\u001b[0m\u001b[0m\n\u001b[1;32m      3\u001b[0m \u001b[0mprint\u001b[0m\u001b[0;34m(\u001b[0m\u001b[0;34mf'Name Basics:'\u001b[0m\u001b[0;34m,\u001b[0m \u001b[0mNBdf\u001b[0m\u001b[0;34m.\u001b[0m\u001b[0mkeys\u001b[0m\u001b[0;34m(\u001b[0m\u001b[0;34m)\u001b[0m\u001b[0;34m)\u001b[0m\u001b[0;34m\u001b[0m\u001b[0;34m\u001b[0m\u001b[0m\n\u001b[0;32m----> 4\u001b[0;31m \u001b[0mprint\u001b[0m\u001b[0;34m(\u001b[0m\u001b[0;34mf'Title AKAs:'\u001b[0m\u001b[0;34m,\u001b[0m \u001b[0mTAdf\u001b[0m\u001b[0;34m.\u001b[0m\u001b[0mkeys\u001b[0m\u001b[0;34m(\u001b[0m\u001b[0;34m)\u001b[0m\u001b[0;34m)\u001b[0m\u001b[0;34m\u001b[0m\u001b[0;34m\u001b[0m\u001b[0m\n\u001b[0m\u001b[1;32m      5\u001b[0m \u001b[0mprint\u001b[0m\u001b[0;34m(\u001b[0m\u001b[0;34mf'Title Basics:'\u001b[0m\u001b[0;34m,\u001b[0m \u001b[0mTBdf\u001b[0m\u001b[0;34m.\u001b[0m\u001b[0mkeys\u001b[0m\u001b[0;34m(\u001b[0m\u001b[0;34m)\u001b[0m\u001b[0;34m)\u001b[0m\u001b[0;34m\u001b[0m\u001b[0;34m\u001b[0m\u001b[0m\n\u001b[1;32m      6\u001b[0m \u001b[0mprint\u001b[0m\u001b[0;34m(\u001b[0m\u001b[0;34mf'Title Crew:'\u001b[0m\u001b[0;34m,\u001b[0m \u001b[0mTCdf\u001b[0m\u001b[0;34m.\u001b[0m\u001b[0mkeys\u001b[0m\u001b[0;34m(\u001b[0m\u001b[0;34m)\u001b[0m\u001b[0;34m)\u001b[0m\u001b[0;34m\u001b[0m\u001b[0;34m\u001b[0m\u001b[0m\n",
      "\u001b[0;31mNameError\u001b[0m: name 'TAdf' is not defined"
     ]
    }
   ],
   "source": [
    "# To find similar columns\n",
    "print(f'Movie Gross:', MGdf.keys())\n",
    "print(f'Name Basics:', NBdf.keys())\n",
    "print(f'Title AKAs:', TAdf.keys())\n",
    "print(f'Title Basics:', TBdf.keys())\n",
    "print(f'Title Crew:', TCdf.keys())\n",
    "print(f'Title Principals:', TPdf.keys())\n",
    "print(f'Title Ratings:', TRdf.keys())\n",
    "print(f'Movie Info:',MIdf.keys())\n",
    "print(f'Movies:',Mdf.keys())\n",
    "print(f'Movie Budgets:',MBdf.keys())"
   ]
  },
  {
   "cell_type": "markdown",
   "metadata": {},
   "source": [
    "Movie Gross + Movies by title\n",
    "Movie + Movie Budget by id \n",
    "Movie Info (remove column 0) + by title"
   ]
  },
  {
   "cell_type": "code",
   "execution_count": null,
   "metadata": {},
   "outputs": [],
   "source": [
    "TC_TPdf = TCdf.merge(TPdf, how='right', on='tconst')\n",
    "TC_TPdf"
   ]
  },
  {
   "cell_type": "code",
   "execution_count": null,
   "metadata": {},
   "outputs": [],
   "source": [
    "TC_TBdf = TC_TPdf.merge(TBdf, how='right', on='tconst')\n",
    "TC_TBdf "
   ]
  },
  {
   "cell_type": "code",
   "execution_count": null,
   "metadata": {},
   "outputs": [],
   "source": [
    "# To find similar columns\n",
    "print(f'Movie Gross:', MGdf.keys())\n",
    "print(f'Title AKAs:', TAdf.keys())\n",
    "print(f'Merged Title Basics:', TC_TBdf.keys())\n",
    "print(f'Movie Info:',MIdf.keys())\n",
    "print(f'Movies:',Mdf.keys())\n",
    "print(f'Movie Budgets:',MBdf.keys())"
   ]
  },
  {
   "cell_type": "code",
   "execution_count": null,
   "metadata": {},
   "outputs": [],
   "source": [
    "TB_ = TP_TBdf.merge(MBdf, how='left', on='tconst')\n",
    "TCdf"
   ]
  },
  {
   "cell_type": "code",
   "execution_count": null,
   "metadata": {},
   "outputs": [],
   "source": [
    "\n",
    "\n",
    "#Run individually\n",
    "print(f'Movie Gross:', MGdf.head())\n",
    "print(f'Name Basics:', NBdf.head())\n",
    "print(f'Title AKAs:', TAdf.head())\n",
    "print(f'Title Basics:', TBdf.head())\n",
    "print(f'Title Crew:', TCdf.head())\n",
    "print(f'Title Principals:', TPdf.head())\n",
    "print(f'Title Ratings:', TRdf.head())\n",
    "print(MIdf.head())\n",
    "\n",
    "print(f'Movies:',Mdf.head())\n",
    "print(f'Movie Budgets:',MBdf.head())"
   ]
  },
  {
   "cell_type": "code",
   "execution_count": null,
   "metadata": {},
   "outputs": [],
   "source": [
    "# Pure curiousity\n",
    "MGdf.describe()\n",
    "# could potentially be used for comparing genres"
   ]
  },
  {
   "cell_type": "markdown",
   "metadata": {},
   "source": [
    "### Key Points\n",
    "\n",
    "* **Your analysis should yield three concrete business recommendations.** The ultimate purpose of exploratory analysis is not just to learn about the data, but to help an organization perform better. Explicitly relate your findings to business needs by recommending actions that you think the business (Microsoft) should take.\n",
    "\n",
    "* **Communicating about your work well is extremely important.** Your ability to provide value to an organization - or to land a job there - is directly reliant on your ability to communicate with them about what you have done and why it is valuable. Create a storyline your audience (the head of Microsoft's new movie studio) can follow by walking them through the steps of your process, highlighting the most important points and skipping over the rest.\n",
    "\n",
    "* **Use plenty of visualizations.** Visualizations are invaluable for exploring your data and making your findings accessible to a non-technical audience. Spotlight visuals in your presentation, but only ones that relate directly to your recommendations. Simple visuals are usually best (e.g. bar charts and line graphs), and don't forget to format them well (e.g. labels, titles)."
   ]
  },
  {
   "cell_type": "code",
   "execution_count": null,
   "metadata": {},
   "outputs": [],
   "source": []
  },
  {
   "cell_type": "markdown",
   "metadata": {},
   "source": [
    "## Deliverables\n",
    "\n",
    "There are three deliverables for this project:\n",
    "\n",
    "* A **non-technical presentation**\n",
    "* A **Jupyter Notebook**\n",
    "* A **GitHub repository**"
   ]
  },
  {
   "cell_type": "code",
   "execution_count": null,
   "metadata": {},
   "outputs": [],
   "source": []
  }
 ],
 "metadata": {
  "kernelspec": {
   "display_name": "Python 3",
   "language": "python",
   "name": "python3"
  },
  "language_info": {
   "codemirror_mode": {
    "name": "ipython",
    "version": 3
   },
   "file_extension": ".py",
   "mimetype": "text/x-python",
   "name": "python",
   "nbconvert_exporter": "python",
   "pygments_lexer": "ipython3",
   "version": "3.8.5"
  }
 },
 "nbformat": 4,
 "nbformat_minor": 2
}
